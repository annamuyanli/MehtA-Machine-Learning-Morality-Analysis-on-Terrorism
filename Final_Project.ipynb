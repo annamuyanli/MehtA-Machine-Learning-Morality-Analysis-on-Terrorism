{
  "nbformat": 4,
  "nbformat_minor": 0,
  "metadata": {
    "accelerator": "GPU",
    "colab": {
      "provenance": [],
      "collapsed_sections": [
        "gy9ZjC1MyLVl",
        "tsFh-eO796WP",
        "O6EYyo1EV2ug",
        "KakVGK76V66T",
        "fSNs1XAiWDdn",
        "gO-xTDnUBIrV",
        "k2oNttjiNvRR",
        "rlurFvI9HtX4",
        "KSyxugPOi_2i"
      ],
      "machine_shape": "hm",
      "include_colab_link": true
    },
    "kernelspec": {
      "display_name": "Python 3",
      "name": "python3"
    },
    "language_info": {
      "name": "python"
    },
    "widgets": {
      "application/vnd.jupyter.widget-state+json": {
        "68855509c95e49d7897c79c9e011cdf8": {
          "model_module": "@jupyter-widgets/controls",
          "model_name": "HBoxModel",
          "state": {
            "_view_name": "HBoxView",
            "_dom_classes": [],
            "_model_name": "HBoxModel",
            "_view_module": "@jupyter-widgets/controls",
            "_model_module_version": "1.5.0",
            "_view_count": null,
            "_view_module_version": "1.5.0",
            "box_style": "",
            "layout": "IPY_MODEL_7398f07a58f847fdb1e58b208bfd3d05",
            "_model_module": "@jupyter-widgets/controls",
            "children": [
              "IPY_MODEL_5778e8faa3fc47f2bcdf10449453d492",
              "IPY_MODEL_d02bb148748446558fdeca3de76db105"
            ]
          },
          "model_module_version": "1.5.0"
        },
        "7398f07a58f847fdb1e58b208bfd3d05": {
          "model_module": "@jupyter-widgets/base",
          "model_name": "LayoutModel",
          "state": {
            "_view_name": "LayoutView",
            "grid_template_rows": null,
            "right": null,
            "justify_content": null,
            "_view_module": "@jupyter-widgets/base",
            "overflow": null,
            "_model_module_version": "1.2.0",
            "_view_count": null,
            "flex_flow": null,
            "width": null,
            "min_width": null,
            "border": null,
            "align_items": null,
            "bottom": null,
            "_model_module": "@jupyter-widgets/base",
            "top": null,
            "grid_column": null,
            "overflow_y": null,
            "overflow_x": null,
            "grid_auto_flow": null,
            "grid_area": null,
            "grid_template_columns": null,
            "flex": null,
            "_model_name": "LayoutModel",
            "justify_items": null,
            "grid_row": null,
            "max_height": null,
            "align_content": null,
            "visibility": null,
            "align_self": null,
            "height": null,
            "min_height": null,
            "padding": null,
            "grid_auto_rows": null,
            "grid_gap": null,
            "max_width": null,
            "order": null,
            "_view_module_version": "1.2.0",
            "grid_template_areas": null,
            "object_position": null,
            "object_fit": null,
            "grid_auto_columns": null,
            "margin": null,
            "display": null,
            "left": null
          },
          "model_module_version": "1.2.0"
        },
        "5778e8faa3fc47f2bcdf10449453d492": {
          "model_module": "@jupyter-widgets/controls",
          "model_name": "FloatProgressModel",
          "state": {
            "_view_name": "ProgressView",
            "style": "IPY_MODEL_e10878728f3444b7af46f42b993c819d",
            "_dom_classes": [],
            "description": "100%",
            "_model_name": "FloatProgressModel",
            "bar_style": "success",
            "max": 898,
            "_view_module": "@jupyter-widgets/controls",
            "_model_module_version": "1.5.0",
            "value": 898,
            "_view_count": null,
            "_view_module_version": "1.5.0",
            "orientation": "horizontal",
            "min": 0,
            "description_tooltip": null,
            "_model_module": "@jupyter-widgets/controls",
            "layout": "IPY_MODEL_0956103342034774a63a554b9c849dfb"
          },
          "model_module_version": "1.5.0"
        },
        "d02bb148748446558fdeca3de76db105": {
          "model_module": "@jupyter-widgets/controls",
          "model_name": "HTMLModel",
          "state": {
            "_view_name": "HTMLView",
            "style": "IPY_MODEL_40b3e1a85162437ea98c12b2b665e75f",
            "_dom_classes": [],
            "description": "",
            "_model_name": "HTMLModel",
            "placeholder": "​",
            "_view_module": "@jupyter-widgets/controls",
            "_model_module_version": "1.5.0",
            "value": " 898/898 [00:22&lt;00:00, 39.13it/s]",
            "_view_count": null,
            "_view_module_version": "1.5.0",
            "description_tooltip": null,
            "_model_module": "@jupyter-widgets/controls",
            "layout": "IPY_MODEL_a65d9748123441538b71e5692291b689"
          },
          "model_module_version": "1.5.0"
        },
        "e10878728f3444b7af46f42b993c819d": {
          "model_module": "@jupyter-widgets/controls",
          "model_name": "ProgressStyleModel",
          "state": {
            "_view_name": "StyleView",
            "_model_name": "ProgressStyleModel",
            "description_width": "initial",
            "_view_module": "@jupyter-widgets/base",
            "_model_module_version": "1.5.0",
            "_view_count": null,
            "_view_module_version": "1.2.0",
            "bar_color": null,
            "_model_module": "@jupyter-widgets/controls"
          },
          "model_module_version": "1.5.0"
        },
        "0956103342034774a63a554b9c849dfb": {
          "model_module": "@jupyter-widgets/base",
          "model_name": "LayoutModel",
          "state": {
            "_view_name": "LayoutView",
            "grid_template_rows": null,
            "right": null,
            "justify_content": null,
            "_view_module": "@jupyter-widgets/base",
            "overflow": null,
            "_model_module_version": "1.2.0",
            "_view_count": null,
            "flex_flow": null,
            "width": null,
            "min_width": null,
            "border": null,
            "align_items": null,
            "bottom": null,
            "_model_module": "@jupyter-widgets/base",
            "top": null,
            "grid_column": null,
            "overflow_y": null,
            "overflow_x": null,
            "grid_auto_flow": null,
            "grid_area": null,
            "grid_template_columns": null,
            "flex": null,
            "_model_name": "LayoutModel",
            "justify_items": null,
            "grid_row": null,
            "max_height": null,
            "align_content": null,
            "visibility": null,
            "align_self": null,
            "height": null,
            "min_height": null,
            "padding": null,
            "grid_auto_rows": null,
            "grid_gap": null,
            "max_width": null,
            "order": null,
            "_view_module_version": "1.2.0",
            "grid_template_areas": null,
            "object_position": null,
            "object_fit": null,
            "grid_auto_columns": null,
            "margin": null,
            "display": null,
            "left": null
          },
          "model_module_version": "1.2.0"
        },
        "40b3e1a85162437ea98c12b2b665e75f": {
          "model_module": "@jupyter-widgets/controls",
          "model_name": "DescriptionStyleModel",
          "state": {
            "_view_name": "StyleView",
            "_model_name": "DescriptionStyleModel",
            "description_width": "",
            "_view_module": "@jupyter-widgets/base",
            "_model_module_version": "1.5.0",
            "_view_count": null,
            "_view_module_version": "1.2.0",
            "_model_module": "@jupyter-widgets/controls"
          },
          "model_module_version": "1.5.0"
        },
        "a65d9748123441538b71e5692291b689": {
          "model_module": "@jupyter-widgets/base",
          "model_name": "LayoutModel",
          "state": {
            "_view_name": "LayoutView",
            "grid_template_rows": null,
            "right": null,
            "justify_content": null,
            "_view_module": "@jupyter-widgets/base",
            "overflow": null,
            "_model_module_version": "1.2.0",
            "_view_count": null,
            "flex_flow": null,
            "width": null,
            "min_width": null,
            "border": null,
            "align_items": null,
            "bottom": null,
            "_model_module": "@jupyter-widgets/base",
            "top": null,
            "grid_column": null,
            "overflow_y": null,
            "overflow_x": null,
            "grid_auto_flow": null,
            "grid_area": null,
            "grid_template_columns": null,
            "flex": null,
            "_model_name": "LayoutModel",
            "justify_items": null,
            "grid_row": null,
            "max_height": null,
            "align_content": null,
            "visibility": null,
            "align_self": null,
            "height": null,
            "min_height": null,
            "padding": null,
            "grid_auto_rows": null,
            "grid_gap": null,
            "max_width": null,
            "order": null,
            "_view_module_version": "1.2.0",
            "grid_template_areas": null,
            "object_position": null,
            "object_fit": null,
            "grid_auto_columns": null,
            "margin": null,
            "display": null,
            "left": null
          },
          "model_module_version": "1.2.0"
        },
        "f42653686b00476394f902527ab5c0c8": {
          "model_module": "@jupyter-widgets/controls",
          "model_name": "HBoxModel",
          "state": {
            "_view_name": "HBoxView",
            "_dom_classes": [],
            "_model_name": "HBoxModel",
            "_view_module": "@jupyter-widgets/controls",
            "_model_module_version": "1.5.0",
            "_view_count": null,
            "_view_module_version": "1.5.0",
            "box_style": "",
            "layout": "IPY_MODEL_56c368cfbb064d75986cc46243b4cc3c",
            "_model_module": "@jupyter-widgets/controls",
            "children": [
              "IPY_MODEL_47c8ffd3c4b64c7594ee88f83d22c1c8",
              "IPY_MODEL_21dfdade51b14a65a18436417e483788"
            ]
          },
          "model_module_version": "1.5.0"
        },
        "56c368cfbb064d75986cc46243b4cc3c": {
          "model_module": "@jupyter-widgets/base",
          "model_name": "LayoutModel",
          "state": {
            "_view_name": "LayoutView",
            "grid_template_rows": null,
            "right": null,
            "justify_content": null,
            "_view_module": "@jupyter-widgets/base",
            "overflow": null,
            "_model_module_version": "1.2.0",
            "_view_count": null,
            "flex_flow": null,
            "width": null,
            "min_width": null,
            "border": null,
            "align_items": null,
            "bottom": null,
            "_model_module": "@jupyter-widgets/base",
            "top": null,
            "grid_column": null,
            "overflow_y": null,
            "overflow_x": null,
            "grid_auto_flow": null,
            "grid_area": null,
            "grid_template_columns": null,
            "flex": null,
            "_model_name": "LayoutModel",
            "justify_items": null,
            "grid_row": null,
            "max_height": null,
            "align_content": null,
            "visibility": null,
            "align_self": null,
            "height": null,
            "min_height": null,
            "padding": null,
            "grid_auto_rows": null,
            "grid_gap": null,
            "max_width": null,
            "order": null,
            "_view_module_version": "1.2.0",
            "grid_template_areas": null,
            "object_position": null,
            "object_fit": null,
            "grid_auto_columns": null,
            "margin": null,
            "display": null,
            "left": null
          },
          "model_module_version": "1.2.0"
        },
        "47c8ffd3c4b64c7594ee88f83d22c1c8": {
          "model_module": "@jupyter-widgets/controls",
          "model_name": "FloatProgressModel",
          "state": {
            "_view_name": "ProgressView",
            "style": "IPY_MODEL_d9029481409144ba861f8bf91fb37b32",
            "_dom_classes": [],
            "description": "100%",
            "_model_name": "FloatProgressModel",
            "bar_style": "success",
            "max": 898,
            "_view_module": "@jupyter-widgets/controls",
            "_model_module_version": "1.5.0",
            "value": 898,
            "_view_count": null,
            "_view_module_version": "1.5.0",
            "orientation": "horizontal",
            "min": 0,
            "description_tooltip": null,
            "_model_module": "@jupyter-widgets/controls",
            "layout": "IPY_MODEL_706bae55acbd4d8394a00c154520a23e"
          },
          "model_module_version": "1.5.0"
        },
        "21dfdade51b14a65a18436417e483788": {
          "model_module": "@jupyter-widgets/controls",
          "model_name": "HTMLModel",
          "state": {
            "_view_name": "HTMLView",
            "style": "IPY_MODEL_c75ceeba5a7f4e78bf162851c974dd16",
            "_dom_classes": [],
            "description": "",
            "_model_name": "HTMLModel",
            "placeholder": "​",
            "_view_module": "@jupyter-widgets/controls",
            "_model_module_version": "1.5.0",
            "value": " 898/898 [01:38&lt;00:00,  9.08it/s]",
            "_view_count": null,
            "_view_module_version": "1.5.0",
            "description_tooltip": null,
            "_model_module": "@jupyter-widgets/controls",
            "layout": "IPY_MODEL_1f4a72f7a0384918bd4ddc559edc1ed9"
          },
          "model_module_version": "1.5.0"
        },
        "d9029481409144ba861f8bf91fb37b32": {
          "model_module": "@jupyter-widgets/controls",
          "model_name": "ProgressStyleModel",
          "state": {
            "_view_name": "StyleView",
            "_model_name": "ProgressStyleModel",
            "description_width": "initial",
            "_view_module": "@jupyter-widgets/base",
            "_model_module_version": "1.5.0",
            "_view_count": null,
            "_view_module_version": "1.2.0",
            "bar_color": null,
            "_model_module": "@jupyter-widgets/controls"
          },
          "model_module_version": "1.5.0"
        },
        "706bae55acbd4d8394a00c154520a23e": {
          "model_module": "@jupyter-widgets/base",
          "model_name": "LayoutModel",
          "state": {
            "_view_name": "LayoutView",
            "grid_template_rows": null,
            "right": null,
            "justify_content": null,
            "_view_module": "@jupyter-widgets/base",
            "overflow": null,
            "_model_module_version": "1.2.0",
            "_view_count": null,
            "flex_flow": null,
            "width": null,
            "min_width": null,
            "border": null,
            "align_items": null,
            "bottom": null,
            "_model_module": "@jupyter-widgets/base",
            "top": null,
            "grid_column": null,
            "overflow_y": null,
            "overflow_x": null,
            "grid_auto_flow": null,
            "grid_area": null,
            "grid_template_columns": null,
            "flex": null,
            "_model_name": "LayoutModel",
            "justify_items": null,
            "grid_row": null,
            "max_height": null,
            "align_content": null,
            "visibility": null,
            "align_self": null,
            "height": null,
            "min_height": null,
            "padding": null,
            "grid_auto_rows": null,
            "grid_gap": null,
            "max_width": null,
            "order": null,
            "_view_module_version": "1.2.0",
            "grid_template_areas": null,
            "object_position": null,
            "object_fit": null,
            "grid_auto_columns": null,
            "margin": null,
            "display": null,
            "left": null
          },
          "model_module_version": "1.2.0"
        },
        "c75ceeba5a7f4e78bf162851c974dd16": {
          "model_module": "@jupyter-widgets/controls",
          "model_name": "DescriptionStyleModel",
          "state": {
            "_view_name": "StyleView",
            "_model_name": "DescriptionStyleModel",
            "description_width": "",
            "_view_module": "@jupyter-widgets/base",
            "_model_module_version": "1.5.0",
            "_view_count": null,
            "_view_module_version": "1.2.0",
            "_model_module": "@jupyter-widgets/controls"
          },
          "model_module_version": "1.5.0"
        },
        "1f4a72f7a0384918bd4ddc559edc1ed9": {
          "model_module": "@jupyter-widgets/base",
          "model_name": "LayoutModel",
          "state": {
            "_view_name": "LayoutView",
            "grid_template_rows": null,
            "right": null,
            "justify_content": null,
            "_view_module": "@jupyter-widgets/base",
            "overflow": null,
            "_model_module_version": "1.2.0",
            "_view_count": null,
            "flex_flow": null,
            "width": null,
            "min_width": null,
            "border": null,
            "align_items": null,
            "bottom": null,
            "_model_module": "@jupyter-widgets/base",
            "top": null,
            "grid_column": null,
            "overflow_y": null,
            "overflow_x": null,
            "grid_auto_flow": null,
            "grid_area": null,
            "grid_template_columns": null,
            "flex": null,
            "_model_name": "LayoutModel",
            "justify_items": null,
            "grid_row": null,
            "max_height": null,
            "align_content": null,
            "visibility": null,
            "align_self": null,
            "height": null,
            "min_height": null,
            "padding": null,
            "grid_auto_rows": null,
            "grid_gap": null,
            "max_width": null,
            "order": null,
            "_view_module_version": "1.2.0",
            "grid_template_areas": null,
            "object_position": null,
            "object_fit": null,
            "grid_auto_columns": null,
            "margin": null,
            "display": null,
            "left": null
          },
          "model_module_version": "1.2.0"
        },
        "bb2e7cd0e406483ca5c491afeb6cc7ef": {
          "model_module": "@jupyter-widgets/controls",
          "model_name": "HBoxModel",
          "state": {
            "_view_name": "HBoxView",
            "_dom_classes": [],
            "_model_name": "HBoxModel",
            "_view_module": "@jupyter-widgets/controls",
            "_model_module_version": "1.5.0",
            "_view_count": null,
            "_view_module_version": "1.5.0",
            "box_style": "",
            "layout": "IPY_MODEL_5bc9ebacfeb84f6d83c1dc8d727fb31f",
            "_model_module": "@jupyter-widgets/controls",
            "children": [
              "IPY_MODEL_45b81e5e7c3245449655d311d91b56f5",
              "IPY_MODEL_c95d49b3acd04c3fbac7dfac6ca55bfc"
            ]
          },
          "model_module_version": "1.5.0"
        },
        "5bc9ebacfeb84f6d83c1dc8d727fb31f": {
          "model_module": "@jupyter-widgets/base",
          "model_name": "LayoutModel",
          "state": {
            "_view_name": "LayoutView",
            "grid_template_rows": null,
            "right": null,
            "justify_content": null,
            "_view_module": "@jupyter-widgets/base",
            "overflow": null,
            "_model_module_version": "1.2.0",
            "_view_count": null,
            "flex_flow": null,
            "width": null,
            "min_width": null,
            "border": null,
            "align_items": null,
            "bottom": null,
            "_model_module": "@jupyter-widgets/base",
            "top": null,
            "grid_column": null,
            "overflow_y": null,
            "overflow_x": null,
            "grid_auto_flow": null,
            "grid_area": null,
            "grid_template_columns": null,
            "flex": null,
            "_model_name": "LayoutModel",
            "justify_items": null,
            "grid_row": null,
            "max_height": null,
            "align_content": null,
            "visibility": null,
            "align_self": null,
            "height": null,
            "min_height": null,
            "padding": null,
            "grid_auto_rows": null,
            "grid_gap": null,
            "max_width": null,
            "order": null,
            "_view_module_version": "1.2.0",
            "grid_template_areas": null,
            "object_position": null,
            "object_fit": null,
            "grid_auto_columns": null,
            "margin": null,
            "display": null,
            "left": null
          },
          "model_module_version": "1.2.0"
        },
        "45b81e5e7c3245449655d311d91b56f5": {
          "model_module": "@jupyter-widgets/controls",
          "model_name": "FloatProgressModel",
          "state": {
            "_view_name": "ProgressView",
            "style": "IPY_MODEL_bc3b6eba7d4f4a1ca7b77a142b1c0a87",
            "_dom_classes": [],
            "description": "100%",
            "_model_name": "FloatProgressModel",
            "bar_style": "success",
            "max": 898,
            "_view_module": "@jupyter-widgets/controls",
            "_model_module_version": "1.5.0",
            "value": 898,
            "_view_count": null,
            "_view_module_version": "1.5.0",
            "orientation": "horizontal",
            "min": 0,
            "description_tooltip": null,
            "_model_module": "@jupyter-widgets/controls",
            "layout": "IPY_MODEL_2c4fb02becf84841bbec7914def9ea62"
          },
          "model_module_version": "1.5.0"
        },
        "c95d49b3acd04c3fbac7dfac6ca55bfc": {
          "model_module": "@jupyter-widgets/controls",
          "model_name": "HTMLModel",
          "state": {
            "_view_name": "HTMLView",
            "style": "IPY_MODEL_88b711dcf1e64533a847dab58a1f1eb6",
            "_dom_classes": [],
            "description": "",
            "_model_name": "HTMLModel",
            "placeholder": "​",
            "_view_module": "@jupyter-widgets/controls",
            "_model_module_version": "1.5.0",
            "value": " 898/898 [00:45&lt;00:00, 19.66it/s]",
            "_view_count": null,
            "_view_module_version": "1.5.0",
            "description_tooltip": null,
            "_model_module": "@jupyter-widgets/controls",
            "layout": "IPY_MODEL_089ae7e05830457e8f555d72c988864e"
          },
          "model_module_version": "1.5.0"
        },
        "bc3b6eba7d4f4a1ca7b77a142b1c0a87": {
          "model_module": "@jupyter-widgets/controls",
          "model_name": "ProgressStyleModel",
          "state": {
            "_view_name": "StyleView",
            "_model_name": "ProgressStyleModel",
            "description_width": "initial",
            "_view_module": "@jupyter-widgets/base",
            "_model_module_version": "1.5.0",
            "_view_count": null,
            "_view_module_version": "1.2.0",
            "bar_color": null,
            "_model_module": "@jupyter-widgets/controls"
          },
          "model_module_version": "1.5.0"
        },
        "2c4fb02becf84841bbec7914def9ea62": {
          "model_module": "@jupyter-widgets/base",
          "model_name": "LayoutModel",
          "state": {
            "_view_name": "LayoutView",
            "grid_template_rows": null,
            "right": null,
            "justify_content": null,
            "_view_module": "@jupyter-widgets/base",
            "overflow": null,
            "_model_module_version": "1.2.0",
            "_view_count": null,
            "flex_flow": null,
            "width": null,
            "min_width": null,
            "border": null,
            "align_items": null,
            "bottom": null,
            "_model_module": "@jupyter-widgets/base",
            "top": null,
            "grid_column": null,
            "overflow_y": null,
            "overflow_x": null,
            "grid_auto_flow": null,
            "grid_area": null,
            "grid_template_columns": null,
            "flex": null,
            "_model_name": "LayoutModel",
            "justify_items": null,
            "grid_row": null,
            "max_height": null,
            "align_content": null,
            "visibility": null,
            "align_self": null,
            "height": null,
            "min_height": null,
            "padding": null,
            "grid_auto_rows": null,
            "grid_gap": null,
            "max_width": null,
            "order": null,
            "_view_module_version": "1.2.0",
            "grid_template_areas": null,
            "object_position": null,
            "object_fit": null,
            "grid_auto_columns": null,
            "margin": null,
            "display": null,
            "left": null
          },
          "model_module_version": "1.2.0"
        },
        "88b711dcf1e64533a847dab58a1f1eb6": {
          "model_module": "@jupyter-widgets/controls",
          "model_name": "DescriptionStyleModel",
          "state": {
            "_view_name": "StyleView",
            "_model_name": "DescriptionStyleModel",
            "description_width": "",
            "_view_module": "@jupyter-widgets/base",
            "_model_module_version": "1.5.0",
            "_view_count": null,
            "_view_module_version": "1.2.0",
            "_model_module": "@jupyter-widgets/controls"
          },
          "model_module_version": "1.5.0"
        },
        "089ae7e05830457e8f555d72c988864e": {
          "model_module": "@jupyter-widgets/base",
          "model_name": "LayoutModel",
          "state": {
            "_view_name": "LayoutView",
            "grid_template_rows": null,
            "right": null,
            "justify_content": null,
            "_view_module": "@jupyter-widgets/base",
            "overflow": null,
            "_model_module_version": "1.2.0",
            "_view_count": null,
            "flex_flow": null,
            "width": null,
            "min_width": null,
            "border": null,
            "align_items": null,
            "bottom": null,
            "_model_module": "@jupyter-widgets/base",
            "top": null,
            "grid_column": null,
            "overflow_y": null,
            "overflow_x": null,
            "grid_auto_flow": null,
            "grid_area": null,
            "grid_template_columns": null,
            "flex": null,
            "_model_name": "LayoutModel",
            "justify_items": null,
            "grid_row": null,
            "max_height": null,
            "align_content": null,
            "visibility": null,
            "align_self": null,
            "height": null,
            "min_height": null,
            "padding": null,
            "grid_auto_rows": null,
            "grid_gap": null,
            "max_width": null,
            "order": null,
            "_view_module_version": "1.2.0",
            "grid_template_areas": null,
            "object_position": null,
            "object_fit": null,
            "grid_auto_columns": null,
            "margin": null,
            "display": null,
            "left": null
          },
          "model_module_version": "1.2.0"
        },
        "e14b31f996de49519ccc962e418c356b": {
          "model_module": "@jupyter-widgets/controls",
          "model_name": "HBoxModel",
          "state": {
            "_view_name": "HBoxView",
            "_dom_classes": [],
            "_model_name": "HBoxModel",
            "_view_module": "@jupyter-widgets/controls",
            "_model_module_version": "1.5.0",
            "_view_count": null,
            "_view_module_version": "1.5.0",
            "box_style": "",
            "layout": "IPY_MODEL_98f7138d827842b1aa25fe78fd86339a",
            "_model_module": "@jupyter-widgets/controls",
            "children": [
              "IPY_MODEL_259dfb6f707a4d7cad8ccfd7ebeeec9d",
              "IPY_MODEL_7000a8ae9765485b86502e4090b1378e"
            ]
          },
          "model_module_version": "1.5.0"
        },
        "98f7138d827842b1aa25fe78fd86339a": {
          "model_module": "@jupyter-widgets/base",
          "model_name": "LayoutModel",
          "state": {
            "_view_name": "LayoutView",
            "grid_template_rows": null,
            "right": null,
            "justify_content": null,
            "_view_module": "@jupyter-widgets/base",
            "overflow": null,
            "_model_module_version": "1.2.0",
            "_view_count": null,
            "flex_flow": null,
            "width": null,
            "min_width": null,
            "border": null,
            "align_items": null,
            "bottom": null,
            "_model_module": "@jupyter-widgets/base",
            "top": null,
            "grid_column": null,
            "overflow_y": null,
            "overflow_x": null,
            "grid_auto_flow": null,
            "grid_area": null,
            "grid_template_columns": null,
            "flex": null,
            "_model_name": "LayoutModel",
            "justify_items": null,
            "grid_row": null,
            "max_height": null,
            "align_content": null,
            "visibility": null,
            "align_self": null,
            "height": null,
            "min_height": null,
            "padding": null,
            "grid_auto_rows": null,
            "grid_gap": null,
            "max_width": null,
            "order": null,
            "_view_module_version": "1.2.0",
            "grid_template_areas": null,
            "object_position": null,
            "object_fit": null,
            "grid_auto_columns": null,
            "margin": null,
            "display": null,
            "left": null
          },
          "model_module_version": "1.2.0"
        },
        "259dfb6f707a4d7cad8ccfd7ebeeec9d": {
          "model_module": "@jupyter-widgets/controls",
          "model_name": "FloatProgressModel",
          "state": {
            "_view_name": "ProgressView",
            "style": "IPY_MODEL_68b242a8e252450fa6482d5c816ddd68",
            "_dom_classes": [],
            "description": "100%",
            "_model_name": "FloatProgressModel",
            "bar_style": "success",
            "max": 898,
            "_view_module": "@jupyter-widgets/controls",
            "_model_module_version": "1.5.0",
            "value": 898,
            "_view_count": null,
            "_view_module_version": "1.5.0",
            "orientation": "horizontal",
            "min": 0,
            "description_tooltip": null,
            "_model_module": "@jupyter-widgets/controls",
            "layout": "IPY_MODEL_faec11bd47d6455a9907ee036a6b87d9"
          },
          "model_module_version": "1.5.0"
        },
        "7000a8ae9765485b86502e4090b1378e": {
          "model_module": "@jupyter-widgets/controls",
          "model_name": "HTMLModel",
          "state": {
            "_view_name": "HTMLView",
            "style": "IPY_MODEL_9b6a42fbe5e6452db8295fde30e4cde2",
            "_dom_classes": [],
            "description": "",
            "_model_name": "HTMLModel",
            "placeholder": "​",
            "_view_module": "@jupyter-widgets/controls",
            "_model_module_version": "1.5.0",
            "value": " 898/898 [00:35&lt;00:00, 25.59it/s]",
            "_view_count": null,
            "_view_module_version": "1.5.0",
            "description_tooltip": null,
            "_model_module": "@jupyter-widgets/controls",
            "layout": "IPY_MODEL_6d38fc2073eb463994733fca49ee1863"
          },
          "model_module_version": "1.5.0"
        },
        "68b242a8e252450fa6482d5c816ddd68": {
          "model_module": "@jupyter-widgets/controls",
          "model_name": "ProgressStyleModel",
          "state": {
            "_view_name": "StyleView",
            "_model_name": "ProgressStyleModel",
            "description_width": "initial",
            "_view_module": "@jupyter-widgets/base",
            "_model_module_version": "1.5.0",
            "_view_count": null,
            "_view_module_version": "1.2.0",
            "bar_color": null,
            "_model_module": "@jupyter-widgets/controls"
          },
          "model_module_version": "1.5.0"
        },
        "faec11bd47d6455a9907ee036a6b87d9": {
          "model_module": "@jupyter-widgets/base",
          "model_name": "LayoutModel",
          "state": {
            "_view_name": "LayoutView",
            "grid_template_rows": null,
            "right": null,
            "justify_content": null,
            "_view_module": "@jupyter-widgets/base",
            "overflow": null,
            "_model_module_version": "1.2.0",
            "_view_count": null,
            "flex_flow": null,
            "width": null,
            "min_width": null,
            "border": null,
            "align_items": null,
            "bottom": null,
            "_model_module": "@jupyter-widgets/base",
            "top": null,
            "grid_column": null,
            "overflow_y": null,
            "overflow_x": null,
            "grid_auto_flow": null,
            "grid_area": null,
            "grid_template_columns": null,
            "flex": null,
            "_model_name": "LayoutModel",
            "justify_items": null,
            "grid_row": null,
            "max_height": null,
            "align_content": null,
            "visibility": null,
            "align_self": null,
            "height": null,
            "min_height": null,
            "padding": null,
            "grid_auto_rows": null,
            "grid_gap": null,
            "max_width": null,
            "order": null,
            "_view_module_version": "1.2.0",
            "grid_template_areas": null,
            "object_position": null,
            "object_fit": null,
            "grid_auto_columns": null,
            "margin": null,
            "display": null,
            "left": null
          },
          "model_module_version": "1.2.0"
        },
        "9b6a42fbe5e6452db8295fde30e4cde2": {
          "model_module": "@jupyter-widgets/controls",
          "model_name": "DescriptionStyleModel",
          "state": {
            "_view_name": "StyleView",
            "_model_name": "DescriptionStyleModel",
            "description_width": "",
            "_view_module": "@jupyter-widgets/base",
            "_model_module_version": "1.5.0",
            "_view_count": null,
            "_view_module_version": "1.2.0",
            "_model_module": "@jupyter-widgets/controls"
          },
          "model_module_version": "1.5.0"
        },
        "6d38fc2073eb463994733fca49ee1863": {
          "model_module": "@jupyter-widgets/base",
          "model_name": "LayoutModel",
          "state": {
            "_view_name": "LayoutView",
            "grid_template_rows": null,
            "right": null,
            "justify_content": null,
            "_view_module": "@jupyter-widgets/base",
            "overflow": null,
            "_model_module_version": "1.2.0",
            "_view_count": null,
            "flex_flow": null,
            "width": null,
            "min_width": null,
            "border": null,
            "align_items": null,
            "bottom": null,
            "_model_module": "@jupyter-widgets/base",
            "top": null,
            "grid_column": null,
            "overflow_y": null,
            "overflow_x": null,
            "grid_auto_flow": null,
            "grid_area": null,
            "grid_template_columns": null,
            "flex": null,
            "_model_name": "LayoutModel",
            "justify_items": null,
            "grid_row": null,
            "max_height": null,
            "align_content": null,
            "visibility": null,
            "align_self": null,
            "height": null,
            "min_height": null,
            "padding": null,
            "grid_auto_rows": null,
            "grid_gap": null,
            "max_width": null,
            "order": null,
            "_view_module_version": "1.2.0",
            "grid_template_areas": null,
            "object_position": null,
            "object_fit": null,
            "grid_auto_columns": null,
            "margin": null,
            "display": null,
            "left": null
          },
          "model_module_version": "1.2.0"
        },
        "1b170fb8b253450b8c63c9e9b24571f1": {
          "model_module": "@jupyter-widgets/controls",
          "model_name": "HBoxModel",
          "state": {
            "_view_name": "HBoxView",
            "_dom_classes": [],
            "_model_name": "HBoxModel",
            "_view_module": "@jupyter-widgets/controls",
            "_model_module_version": "1.5.0",
            "_view_count": null,
            "_view_module_version": "1.5.0",
            "box_style": "",
            "layout": "IPY_MODEL_f527c551ed5c42f696279acd76189541",
            "_model_module": "@jupyter-widgets/controls",
            "children": [
              "IPY_MODEL_3d9466528d7f4500a969adda71ecad59",
              "IPY_MODEL_639a1a4ff6034a7b8df1c0be90b2c18a"
            ]
          },
          "model_module_version": "1.5.0"
        },
        "f527c551ed5c42f696279acd76189541": {
          "model_module": "@jupyter-widgets/base",
          "model_name": "LayoutModel",
          "state": {
            "_view_name": "LayoutView",
            "grid_template_rows": null,
            "right": null,
            "justify_content": null,
            "_view_module": "@jupyter-widgets/base",
            "overflow": null,
            "_model_module_version": "1.2.0",
            "_view_count": null,
            "flex_flow": null,
            "width": null,
            "min_width": null,
            "border": null,
            "align_items": null,
            "bottom": null,
            "_model_module": "@jupyter-widgets/base",
            "top": null,
            "grid_column": null,
            "overflow_y": null,
            "overflow_x": null,
            "grid_auto_flow": null,
            "grid_area": null,
            "grid_template_columns": null,
            "flex": null,
            "_model_name": "LayoutModel",
            "justify_items": null,
            "grid_row": null,
            "max_height": null,
            "align_content": null,
            "visibility": null,
            "align_self": null,
            "height": null,
            "min_height": null,
            "padding": null,
            "grid_auto_rows": null,
            "grid_gap": null,
            "max_width": null,
            "order": null,
            "_view_module_version": "1.2.0",
            "grid_template_areas": null,
            "object_position": null,
            "object_fit": null,
            "grid_auto_columns": null,
            "margin": null,
            "display": null,
            "left": null
          },
          "model_module_version": "1.2.0"
        },
        "3d9466528d7f4500a969adda71ecad59": {
          "model_module": "@jupyter-widgets/controls",
          "model_name": "FloatProgressModel",
          "state": {
            "_view_name": "ProgressView",
            "style": "IPY_MODEL_77d15691687f42eca78799c44edc39eb",
            "_dom_classes": [],
            "description": "100%",
            "_model_name": "FloatProgressModel",
            "bar_style": "success",
            "max": 898,
            "_view_module": "@jupyter-widgets/controls",
            "_model_module_version": "1.5.0",
            "value": 898,
            "_view_count": null,
            "_view_module_version": "1.5.0",
            "orientation": "horizontal",
            "min": 0,
            "description_tooltip": null,
            "_model_module": "@jupyter-widgets/controls",
            "layout": "IPY_MODEL_f6f46d7c66d14b77b57702b8ddd8be1a"
          },
          "model_module_version": "1.5.0"
        },
        "639a1a4ff6034a7b8df1c0be90b2c18a": {
          "model_module": "@jupyter-widgets/controls",
          "model_name": "HTMLModel",
          "state": {
            "_view_name": "HTMLView",
            "style": "IPY_MODEL_0ba72266ce994d7fb9d3cef5d829b12b",
            "_dom_classes": [],
            "description": "",
            "_model_name": "HTMLModel",
            "placeholder": "​",
            "_view_module": "@jupyter-widgets/controls",
            "_model_module_version": "1.5.0",
            "value": " 898/898 [01:02&lt;00:00, 14.46it/s]",
            "_view_count": null,
            "_view_module_version": "1.5.0",
            "description_tooltip": null,
            "_model_module": "@jupyter-widgets/controls",
            "layout": "IPY_MODEL_dadf9974408d4e3087fe46ba703bcf5a"
          },
          "model_module_version": "1.5.0"
        },
        "77d15691687f42eca78799c44edc39eb": {
          "model_module": "@jupyter-widgets/controls",
          "model_name": "ProgressStyleModel",
          "state": {
            "_view_name": "StyleView",
            "_model_name": "ProgressStyleModel",
            "description_width": "initial",
            "_view_module": "@jupyter-widgets/base",
            "_model_module_version": "1.5.0",
            "_view_count": null,
            "_view_module_version": "1.2.0",
            "bar_color": null,
            "_model_module": "@jupyter-widgets/controls"
          },
          "model_module_version": "1.5.0"
        },
        "f6f46d7c66d14b77b57702b8ddd8be1a": {
          "model_module": "@jupyter-widgets/base",
          "model_name": "LayoutModel",
          "state": {
            "_view_name": "LayoutView",
            "grid_template_rows": null,
            "right": null,
            "justify_content": null,
            "_view_module": "@jupyter-widgets/base",
            "overflow": null,
            "_model_module_version": "1.2.0",
            "_view_count": null,
            "flex_flow": null,
            "width": null,
            "min_width": null,
            "border": null,
            "align_items": null,
            "bottom": null,
            "_model_module": "@jupyter-widgets/base",
            "top": null,
            "grid_column": null,
            "overflow_y": null,
            "overflow_x": null,
            "grid_auto_flow": null,
            "grid_area": null,
            "grid_template_columns": null,
            "flex": null,
            "_model_name": "LayoutModel",
            "justify_items": null,
            "grid_row": null,
            "max_height": null,
            "align_content": null,
            "visibility": null,
            "align_self": null,
            "height": null,
            "min_height": null,
            "padding": null,
            "grid_auto_rows": null,
            "grid_gap": null,
            "max_width": null,
            "order": null,
            "_view_module_version": "1.2.0",
            "grid_template_areas": null,
            "object_position": null,
            "object_fit": null,
            "grid_auto_columns": null,
            "margin": null,
            "display": null,
            "left": null
          },
          "model_module_version": "1.2.0"
        },
        "0ba72266ce994d7fb9d3cef5d829b12b": {
          "model_module": "@jupyter-widgets/controls",
          "model_name": "DescriptionStyleModel",
          "state": {
            "_view_name": "StyleView",
            "_model_name": "DescriptionStyleModel",
            "description_width": "",
            "_view_module": "@jupyter-widgets/base",
            "_model_module_version": "1.5.0",
            "_view_count": null,
            "_view_module_version": "1.2.0",
            "_model_module": "@jupyter-widgets/controls"
          },
          "model_module_version": "1.5.0"
        },
        "dadf9974408d4e3087fe46ba703bcf5a": {
          "model_module": "@jupyter-widgets/base",
          "model_name": "LayoutModel",
          "state": {
            "_view_name": "LayoutView",
            "grid_template_rows": null,
            "right": null,
            "justify_content": null,
            "_view_module": "@jupyter-widgets/base",
            "overflow": null,
            "_model_module_version": "1.2.0",
            "_view_count": null,
            "flex_flow": null,
            "width": null,
            "min_width": null,
            "border": null,
            "align_items": null,
            "bottom": null,
            "_model_module": "@jupyter-widgets/base",
            "top": null,
            "grid_column": null,
            "overflow_y": null,
            "overflow_x": null,
            "grid_auto_flow": null,
            "grid_area": null,
            "grid_template_columns": null,
            "flex": null,
            "_model_name": "LayoutModel",
            "justify_items": null,
            "grid_row": null,
            "max_height": null,
            "align_content": null,
            "visibility": null,
            "align_self": null,
            "height": null,
            "min_height": null,
            "padding": null,
            "grid_auto_rows": null,
            "grid_gap": null,
            "max_width": null,
            "order": null,
            "_view_module_version": "1.2.0",
            "grid_template_areas": null,
            "object_position": null,
            "object_fit": null,
            "grid_auto_columns": null,
            "margin": null,
            "display": null,
            "left": null
          },
          "model_module_version": "1.2.0"
        },
        "7655abce762346fc88409fca953fe272": {
          "model_module": "@jupyter-widgets/controls",
          "model_name": "HBoxModel",
          "state": {
            "_view_name": "HBoxView",
            "_dom_classes": [],
            "_model_name": "HBoxModel",
            "_view_module": "@jupyter-widgets/controls",
            "_model_module_version": "1.5.0",
            "_view_count": null,
            "_view_module_version": "1.5.0",
            "box_style": "",
            "layout": "IPY_MODEL_572c6804d01b45ca84bbd69ad0bf0ea3",
            "_model_module": "@jupyter-widgets/controls",
            "children": [
              "IPY_MODEL_e618221164ab43ca9b9bacd6f5f9e6ef",
              "IPY_MODEL_3a15f690794e435b98375e103da334b5"
            ]
          },
          "model_module_version": "1.5.0"
        },
        "572c6804d01b45ca84bbd69ad0bf0ea3": {
          "model_module": "@jupyter-widgets/base",
          "model_name": "LayoutModel",
          "state": {
            "_view_name": "LayoutView",
            "grid_template_rows": null,
            "right": null,
            "justify_content": null,
            "_view_module": "@jupyter-widgets/base",
            "overflow": null,
            "_model_module_version": "1.2.0",
            "_view_count": null,
            "flex_flow": null,
            "width": null,
            "min_width": null,
            "border": null,
            "align_items": null,
            "bottom": null,
            "_model_module": "@jupyter-widgets/base",
            "top": null,
            "grid_column": null,
            "overflow_y": null,
            "overflow_x": null,
            "grid_auto_flow": null,
            "grid_area": null,
            "grid_template_columns": null,
            "flex": null,
            "_model_name": "LayoutModel",
            "justify_items": null,
            "grid_row": null,
            "max_height": null,
            "align_content": null,
            "visibility": null,
            "align_self": null,
            "height": null,
            "min_height": null,
            "padding": null,
            "grid_auto_rows": null,
            "grid_gap": null,
            "max_width": null,
            "order": null,
            "_view_module_version": "1.2.0",
            "grid_template_areas": null,
            "object_position": null,
            "object_fit": null,
            "grid_auto_columns": null,
            "margin": null,
            "display": null,
            "left": null
          },
          "model_module_version": "1.2.0"
        },
        "e618221164ab43ca9b9bacd6f5f9e6ef": {
          "model_module": "@jupyter-widgets/controls",
          "model_name": "FloatProgressModel",
          "state": {
            "_view_name": "ProgressView",
            "style": "IPY_MODEL_e5a81b394b854113a15e0d531524c4e6",
            "_dom_classes": [],
            "description": "100%",
            "_model_name": "FloatProgressModel",
            "bar_style": "success",
            "max": 898,
            "_view_module": "@jupyter-widgets/controls",
            "_model_module_version": "1.5.0",
            "value": 898,
            "_view_count": null,
            "_view_module_version": "1.5.0",
            "orientation": "horizontal",
            "min": 0,
            "description_tooltip": null,
            "_model_module": "@jupyter-widgets/controls",
            "layout": "IPY_MODEL_3eeb38e5278c4c67b929579a73f43c62"
          },
          "model_module_version": "1.5.0"
        },
        "3a15f690794e435b98375e103da334b5": {
          "model_module": "@jupyter-widgets/controls",
          "model_name": "HTMLModel",
          "state": {
            "_view_name": "HTMLView",
            "style": "IPY_MODEL_5b1581c59fc94bb7810cd49c547f1600",
            "_dom_classes": [],
            "description": "",
            "_model_name": "HTMLModel",
            "placeholder": "​",
            "_view_module": "@jupyter-widgets/controls",
            "_model_module_version": "1.5.0",
            "value": " 898/898 [00:40&lt;00:00, 22.42it/s]",
            "_view_count": null,
            "_view_module_version": "1.5.0",
            "description_tooltip": null,
            "_model_module": "@jupyter-widgets/controls",
            "layout": "IPY_MODEL_14f5239c9fc44c2eabceba66e6475d68"
          },
          "model_module_version": "1.5.0"
        },
        "e5a81b394b854113a15e0d531524c4e6": {
          "model_module": "@jupyter-widgets/controls",
          "model_name": "ProgressStyleModel",
          "state": {
            "_view_name": "StyleView",
            "_model_name": "ProgressStyleModel",
            "description_width": "initial",
            "_view_module": "@jupyter-widgets/base",
            "_model_module_version": "1.5.0",
            "_view_count": null,
            "_view_module_version": "1.2.0",
            "bar_color": null,
            "_model_module": "@jupyter-widgets/controls"
          },
          "model_module_version": "1.5.0"
        },
        "3eeb38e5278c4c67b929579a73f43c62": {
          "model_module": "@jupyter-widgets/base",
          "model_name": "LayoutModel",
          "state": {
            "_view_name": "LayoutView",
            "grid_template_rows": null,
            "right": null,
            "justify_content": null,
            "_view_module": "@jupyter-widgets/base",
            "overflow": null,
            "_model_module_version": "1.2.0",
            "_view_count": null,
            "flex_flow": null,
            "width": null,
            "min_width": null,
            "border": null,
            "align_items": null,
            "bottom": null,
            "_model_module": "@jupyter-widgets/base",
            "top": null,
            "grid_column": null,
            "overflow_y": null,
            "overflow_x": null,
            "grid_auto_flow": null,
            "grid_area": null,
            "grid_template_columns": null,
            "flex": null,
            "_model_name": "LayoutModel",
            "justify_items": null,
            "grid_row": null,
            "max_height": null,
            "align_content": null,
            "visibility": null,
            "align_self": null,
            "height": null,
            "min_height": null,
            "padding": null,
            "grid_auto_rows": null,
            "grid_gap": null,
            "max_width": null,
            "order": null,
            "_view_module_version": "1.2.0",
            "grid_template_areas": null,
            "object_position": null,
            "object_fit": null,
            "grid_auto_columns": null,
            "margin": null,
            "display": null,
            "left": null
          },
          "model_module_version": "1.2.0"
        },
        "5b1581c59fc94bb7810cd49c547f1600": {
          "model_module": "@jupyter-widgets/controls",
          "model_name": "DescriptionStyleModel",
          "state": {
            "_view_name": "StyleView",
            "_model_name": "DescriptionStyleModel",
            "description_width": "",
            "_view_module": "@jupyter-widgets/base",
            "_model_module_version": "1.5.0",
            "_view_count": null,
            "_view_module_version": "1.2.0",
            "_model_module": "@jupyter-widgets/controls"
          },
          "model_module_version": "1.5.0"
        },
        "14f5239c9fc44c2eabceba66e6475d68": {
          "model_module": "@jupyter-widgets/base",
          "model_name": "LayoutModel",
          "state": {
            "_view_name": "LayoutView",
            "grid_template_rows": null,
            "right": null,
            "justify_content": null,
            "_view_module": "@jupyter-widgets/base",
            "overflow": null,
            "_model_module_version": "1.2.0",
            "_view_count": null,
            "flex_flow": null,
            "width": null,
            "min_width": null,
            "border": null,
            "align_items": null,
            "bottom": null,
            "_model_module": "@jupyter-widgets/base",
            "top": null,
            "grid_column": null,
            "overflow_y": null,
            "overflow_x": null,
            "grid_auto_flow": null,
            "grid_area": null,
            "grid_template_columns": null,
            "flex": null,
            "_model_name": "LayoutModel",
            "justify_items": null,
            "grid_row": null,
            "max_height": null,
            "align_content": null,
            "visibility": null,
            "align_self": null,
            "height": null,
            "min_height": null,
            "padding": null,
            "grid_auto_rows": null,
            "grid_gap": null,
            "max_width": null,
            "order": null,
            "_view_module_version": "1.2.0",
            "grid_template_areas": null,
            "object_position": null,
            "object_fit": null,
            "grid_auto_columns": null,
            "margin": null,
            "display": null,
            "left": null
          },
          "model_module_version": "1.2.0"
        },
        "5c22c58cd7394ffabf9fdeaecdadcbc7": {
          "model_module": "@jupyter-widgets/controls",
          "model_name": "HBoxModel",
          "state": {
            "_view_name": "HBoxView",
            "_dom_classes": [],
            "_model_name": "HBoxModel",
            "_view_module": "@jupyter-widgets/controls",
            "_model_module_version": "1.5.0",
            "_view_count": null,
            "_view_module_version": "1.5.0",
            "box_style": "",
            "layout": "IPY_MODEL_6eb762e1c12145f4b1b1136b23fca8d7",
            "_model_module": "@jupyter-widgets/controls",
            "children": [
              "IPY_MODEL_28f2af5ff57841e9ab96d38216699ff0",
              "IPY_MODEL_d7b2606e52aa4c4fba3b1e7e4fcbb94b"
            ]
          },
          "model_module_version": "1.5.0"
        },
        "6eb762e1c12145f4b1b1136b23fca8d7": {
          "model_module": "@jupyter-widgets/base",
          "model_name": "LayoutModel",
          "state": {
            "_view_name": "LayoutView",
            "grid_template_rows": null,
            "right": null,
            "justify_content": null,
            "_view_module": "@jupyter-widgets/base",
            "overflow": null,
            "_model_module_version": "1.2.0",
            "_view_count": null,
            "flex_flow": null,
            "width": null,
            "min_width": null,
            "border": null,
            "align_items": null,
            "bottom": null,
            "_model_module": "@jupyter-widgets/base",
            "top": null,
            "grid_column": null,
            "overflow_y": null,
            "overflow_x": null,
            "grid_auto_flow": null,
            "grid_area": null,
            "grid_template_columns": null,
            "flex": null,
            "_model_name": "LayoutModel",
            "justify_items": null,
            "grid_row": null,
            "max_height": null,
            "align_content": null,
            "visibility": null,
            "align_self": null,
            "height": null,
            "min_height": null,
            "padding": null,
            "grid_auto_rows": null,
            "grid_gap": null,
            "max_width": null,
            "order": null,
            "_view_module_version": "1.2.0",
            "grid_template_areas": null,
            "object_position": null,
            "object_fit": null,
            "grid_auto_columns": null,
            "margin": null,
            "display": null,
            "left": null
          },
          "model_module_version": "1.2.0"
        },
        "28f2af5ff57841e9ab96d38216699ff0": {
          "model_module": "@jupyter-widgets/controls",
          "model_name": "FloatProgressModel",
          "state": {
            "_view_name": "ProgressView",
            "style": "IPY_MODEL_1385f645d2c14ad985a3f0fec4ecb02a",
            "_dom_classes": [],
            "description": "100%",
            "_model_name": "FloatProgressModel",
            "bar_style": "success",
            "max": 41071,
            "_view_module": "@jupyter-widgets/controls",
            "_model_module_version": "1.5.0",
            "value": 41071,
            "_view_count": null,
            "_view_module_version": "1.5.0",
            "orientation": "horizontal",
            "min": 0,
            "description_tooltip": null,
            "_model_module": "@jupyter-widgets/controls",
            "layout": "IPY_MODEL_f5d2b7fd05574fe79115c952f62a07c0"
          },
          "model_module_version": "1.5.0"
        },
        "d7b2606e52aa4c4fba3b1e7e4fcbb94b": {
          "model_module": "@jupyter-widgets/controls",
          "model_name": "HTMLModel",
          "state": {
            "_view_name": "HTMLView",
            "style": "IPY_MODEL_85b3c4656f424f619303a3ff6b1d4dba",
            "_dom_classes": [],
            "description": "",
            "_model_name": "HTMLModel",
            "placeholder": "​",
            "_view_module": "@jupyter-widgets/controls",
            "_model_module_version": "1.5.0",
            "value": " 41071/41071 [21:30&lt;00:00, 31.82it/s]",
            "_view_count": null,
            "_view_module_version": "1.5.0",
            "description_tooltip": null,
            "_model_module": "@jupyter-widgets/controls",
            "layout": "IPY_MODEL_23e753acc9c34c6c8b81f00275a5b8ec"
          },
          "model_module_version": "1.5.0"
        },
        "1385f645d2c14ad985a3f0fec4ecb02a": {
          "model_module": "@jupyter-widgets/controls",
          "model_name": "ProgressStyleModel",
          "state": {
            "_view_name": "StyleView",
            "_model_name": "ProgressStyleModel",
            "description_width": "initial",
            "_view_module": "@jupyter-widgets/base",
            "_model_module_version": "1.5.0",
            "_view_count": null,
            "_view_module_version": "1.2.0",
            "bar_color": null,
            "_model_module": "@jupyter-widgets/controls"
          },
          "model_module_version": "1.5.0"
        },
        "f5d2b7fd05574fe79115c952f62a07c0": {
          "model_module": "@jupyter-widgets/base",
          "model_name": "LayoutModel",
          "state": {
            "_view_name": "LayoutView",
            "grid_template_rows": null,
            "right": null,
            "justify_content": null,
            "_view_module": "@jupyter-widgets/base",
            "overflow": null,
            "_model_module_version": "1.2.0",
            "_view_count": null,
            "flex_flow": null,
            "width": null,
            "min_width": null,
            "border": null,
            "align_items": null,
            "bottom": null,
            "_model_module": "@jupyter-widgets/base",
            "top": null,
            "grid_column": null,
            "overflow_y": null,
            "overflow_x": null,
            "grid_auto_flow": null,
            "grid_area": null,
            "grid_template_columns": null,
            "flex": null,
            "_model_name": "LayoutModel",
            "justify_items": null,
            "grid_row": null,
            "max_height": null,
            "align_content": null,
            "visibility": null,
            "align_self": null,
            "height": null,
            "min_height": null,
            "padding": null,
            "grid_auto_rows": null,
            "grid_gap": null,
            "max_width": null,
            "order": null,
            "_view_module_version": "1.2.0",
            "grid_template_areas": null,
            "object_position": null,
            "object_fit": null,
            "grid_auto_columns": null,
            "margin": null,
            "display": null,
            "left": null
          },
          "model_module_version": "1.2.0"
        },
        "85b3c4656f424f619303a3ff6b1d4dba": {
          "model_module": "@jupyter-widgets/controls",
          "model_name": "DescriptionStyleModel",
          "state": {
            "_view_name": "StyleView",
            "_model_name": "DescriptionStyleModel",
            "description_width": "",
            "_view_module": "@jupyter-widgets/base",
            "_model_module_version": "1.5.0",
            "_view_count": null,
            "_view_module_version": "1.2.0",
            "_model_module": "@jupyter-widgets/controls"
          },
          "model_module_version": "1.5.0"
        },
        "23e753acc9c34c6c8b81f00275a5b8ec": {
          "model_module": "@jupyter-widgets/base",
          "model_name": "LayoutModel",
          "state": {
            "_view_name": "LayoutView",
            "grid_template_rows": null,
            "right": null,
            "justify_content": null,
            "_view_module": "@jupyter-widgets/base",
            "overflow": null,
            "_model_module_version": "1.2.0",
            "_view_count": null,
            "flex_flow": null,
            "width": null,
            "min_width": null,
            "border": null,
            "align_items": null,
            "bottom": null,
            "_model_module": "@jupyter-widgets/base",
            "top": null,
            "grid_column": null,
            "overflow_y": null,
            "overflow_x": null,
            "grid_auto_flow": null,
            "grid_area": null,
            "grid_template_columns": null,
            "flex": null,
            "_model_name": "LayoutModel",
            "justify_items": null,
            "grid_row": null,
            "max_height": null,
            "align_content": null,
            "visibility": null,
            "align_self": null,
            "height": null,
            "min_height": null,
            "padding": null,
            "grid_auto_rows": null,
            "grid_gap": null,
            "max_width": null,
            "order": null,
            "_view_module_version": "1.2.0",
            "grid_template_areas": null,
            "object_position": null,
            "object_fit": null,
            "grid_auto_columns": null,
            "margin": null,
            "display": null,
            "left": null
          },
          "model_module_version": "1.2.0"
        },
        "6624ae297dac4a5282025ffc13c67dda": {
          "model_module": "@jupyter-widgets/controls",
          "model_name": "HBoxModel",
          "state": {
            "_view_name": "HBoxView",
            "_dom_classes": [],
            "_model_name": "HBoxModel",
            "_view_module": "@jupyter-widgets/controls",
            "_model_module_version": "1.5.0",
            "_view_count": null,
            "_view_module_version": "1.5.0",
            "box_style": "",
            "layout": "IPY_MODEL_b96bf0ac520b44b1a55f95970cff879f",
            "_model_module": "@jupyter-widgets/controls",
            "children": [
              "IPY_MODEL_92aeb9f61786468a972e5ab082f6021a",
              "IPY_MODEL_cc0cf7aa236c43ab901cab103e292833"
            ]
          },
          "model_module_version": "1.5.0"
        },
        "b96bf0ac520b44b1a55f95970cff879f": {
          "model_module": "@jupyter-widgets/base",
          "model_name": "LayoutModel",
          "state": {
            "_view_name": "LayoutView",
            "grid_template_rows": null,
            "right": null,
            "justify_content": null,
            "_view_module": "@jupyter-widgets/base",
            "overflow": null,
            "_model_module_version": "1.2.0",
            "_view_count": null,
            "flex_flow": null,
            "width": null,
            "min_width": null,
            "border": null,
            "align_items": null,
            "bottom": null,
            "_model_module": "@jupyter-widgets/base",
            "top": null,
            "grid_column": null,
            "overflow_y": null,
            "overflow_x": null,
            "grid_auto_flow": null,
            "grid_area": null,
            "grid_template_columns": null,
            "flex": null,
            "_model_name": "LayoutModel",
            "justify_items": null,
            "grid_row": null,
            "max_height": null,
            "align_content": null,
            "visibility": null,
            "align_self": null,
            "height": null,
            "min_height": null,
            "padding": null,
            "grid_auto_rows": null,
            "grid_gap": null,
            "max_width": null,
            "order": null,
            "_view_module_version": "1.2.0",
            "grid_template_areas": null,
            "object_position": null,
            "object_fit": null,
            "grid_auto_columns": null,
            "margin": null,
            "display": null,
            "left": null
          },
          "model_module_version": "1.2.0"
        },
        "92aeb9f61786468a972e5ab082f6021a": {
          "model_module": "@jupyter-widgets/controls",
          "model_name": "FloatProgressModel",
          "state": {
            "_view_name": "ProgressView",
            "style": "IPY_MODEL_cad8d312f71748ceaed391c7253eda6a",
            "_dom_classes": [],
            "description": "100%",
            "_model_name": "FloatProgressModel",
            "bar_style": "success",
            "max": 41071,
            "_view_module": "@jupyter-widgets/controls",
            "_model_module_version": "1.5.0",
            "value": 41071,
            "_view_count": null,
            "_view_module_version": "1.5.0",
            "orientation": "horizontal",
            "min": 0,
            "description_tooltip": null,
            "_model_module": "@jupyter-widgets/controls",
            "layout": "IPY_MODEL_132dffc5017f4bf3a7b50d718b3b9ae7"
          },
          "model_module_version": "1.5.0"
        },
        "cc0cf7aa236c43ab901cab103e292833": {
          "model_module": "@jupyter-widgets/controls",
          "model_name": "HTMLModel",
          "state": {
            "_view_name": "HTMLView",
            "style": "IPY_MODEL_69b3a5e5e2aa4fea9f9ca98b8f7783cd",
            "_dom_classes": [],
            "description": "",
            "_model_name": "HTMLModel",
            "placeholder": "​",
            "_view_module": "@jupyter-widgets/controls",
            "_model_module_version": "1.5.0",
            "value": " 41071/41071 [1:46:26&lt;00:00,  6.43it/s]",
            "_view_count": null,
            "_view_module_version": "1.5.0",
            "description_tooltip": null,
            "_model_module": "@jupyter-widgets/controls",
            "layout": "IPY_MODEL_18f18a74fcaa474d939708a3d4bcb94d"
          },
          "model_module_version": "1.5.0"
        },
        "cad8d312f71748ceaed391c7253eda6a": {
          "model_module": "@jupyter-widgets/controls",
          "model_name": "ProgressStyleModel",
          "state": {
            "_view_name": "StyleView",
            "_model_name": "ProgressStyleModel",
            "description_width": "initial",
            "_view_module": "@jupyter-widgets/base",
            "_model_module_version": "1.5.0",
            "_view_count": null,
            "_view_module_version": "1.2.0",
            "bar_color": null,
            "_model_module": "@jupyter-widgets/controls"
          },
          "model_module_version": "1.5.0"
        },
        "132dffc5017f4bf3a7b50d718b3b9ae7": {
          "model_module": "@jupyter-widgets/base",
          "model_name": "LayoutModel",
          "state": {
            "_view_name": "LayoutView",
            "grid_template_rows": null,
            "right": null,
            "justify_content": null,
            "_view_module": "@jupyter-widgets/base",
            "overflow": null,
            "_model_module_version": "1.2.0",
            "_view_count": null,
            "flex_flow": null,
            "width": null,
            "min_width": null,
            "border": null,
            "align_items": null,
            "bottom": null,
            "_model_module": "@jupyter-widgets/base",
            "top": null,
            "grid_column": null,
            "overflow_y": null,
            "overflow_x": null,
            "grid_auto_flow": null,
            "grid_area": null,
            "grid_template_columns": null,
            "flex": null,
            "_model_name": "LayoutModel",
            "justify_items": null,
            "grid_row": null,
            "max_height": null,
            "align_content": null,
            "visibility": null,
            "align_self": null,
            "height": null,
            "min_height": null,
            "padding": null,
            "grid_auto_rows": null,
            "grid_gap": null,
            "max_width": null,
            "order": null,
            "_view_module_version": "1.2.0",
            "grid_template_areas": null,
            "object_position": null,
            "object_fit": null,
            "grid_auto_columns": null,
            "margin": null,
            "display": null,
            "left": null
          },
          "model_module_version": "1.2.0"
        },
        "69b3a5e5e2aa4fea9f9ca98b8f7783cd": {
          "model_module": "@jupyter-widgets/controls",
          "model_name": "DescriptionStyleModel",
          "state": {
            "_view_name": "StyleView",
            "_model_name": "DescriptionStyleModel",
            "description_width": "",
            "_view_module": "@jupyter-widgets/base",
            "_model_module_version": "1.5.0",
            "_view_count": null,
            "_view_module_version": "1.2.0",
            "_model_module": "@jupyter-widgets/controls"
          },
          "model_module_version": "1.5.0"
        },
        "18f18a74fcaa474d939708a3d4bcb94d": {
          "model_module": "@jupyter-widgets/base",
          "model_name": "LayoutModel",
          "state": {
            "_view_name": "LayoutView",
            "grid_template_rows": null,
            "right": null,
            "justify_content": null,
            "_view_module": "@jupyter-widgets/base",
            "overflow": null,
            "_model_module_version": "1.2.0",
            "_view_count": null,
            "flex_flow": null,
            "width": null,
            "min_width": null,
            "border": null,
            "align_items": null,
            "bottom": null,
            "_model_module": "@jupyter-widgets/base",
            "top": null,
            "grid_column": null,
            "overflow_y": null,
            "overflow_x": null,
            "grid_auto_flow": null,
            "grid_area": null,
            "grid_template_columns": null,
            "flex": null,
            "_model_name": "LayoutModel",
            "justify_items": null,
            "grid_row": null,
            "max_height": null,
            "align_content": null,
            "visibility": null,
            "align_self": null,
            "height": null,
            "min_height": null,
            "padding": null,
            "grid_auto_rows": null,
            "grid_gap": null,
            "max_width": null,
            "order": null,
            "_view_module_version": "1.2.0",
            "grid_template_areas": null,
            "object_position": null,
            "object_fit": null,
            "grid_auto_columns": null,
            "margin": null,
            "display": null,
            "left": null
          },
          "model_module_version": "1.2.0"
        },
        "d2aa3cb230e648b5a715fbb8070d5048": {
          "model_module": "@jupyter-widgets/controls",
          "model_name": "HBoxModel",
          "state": {
            "_view_name": "HBoxView",
            "_dom_classes": [],
            "_model_name": "HBoxModel",
            "_view_module": "@jupyter-widgets/controls",
            "_model_module_version": "1.5.0",
            "_view_count": null,
            "_view_module_version": "1.5.0",
            "box_style": "",
            "layout": "IPY_MODEL_47db24c0888f4f608abcfad6bba153c1",
            "_model_module": "@jupyter-widgets/controls",
            "children": [
              "IPY_MODEL_4187f8d95a084824bce29f4c354e829e",
              "IPY_MODEL_2560ab0c63104e29aebf3d640d70d3e4"
            ]
          },
          "model_module_version": "1.5.0"
        },
        "47db24c0888f4f608abcfad6bba153c1": {
          "model_module": "@jupyter-widgets/base",
          "model_name": "LayoutModel",
          "state": {
            "_view_name": "LayoutView",
            "grid_template_rows": null,
            "right": null,
            "justify_content": null,
            "_view_module": "@jupyter-widgets/base",
            "overflow": null,
            "_model_module_version": "1.2.0",
            "_view_count": null,
            "flex_flow": null,
            "width": null,
            "min_width": null,
            "border": null,
            "align_items": null,
            "bottom": null,
            "_model_module": "@jupyter-widgets/base",
            "top": null,
            "grid_column": null,
            "overflow_y": null,
            "overflow_x": null,
            "grid_auto_flow": null,
            "grid_area": null,
            "grid_template_columns": null,
            "flex": null,
            "_model_name": "LayoutModel",
            "justify_items": null,
            "grid_row": null,
            "max_height": null,
            "align_content": null,
            "visibility": null,
            "align_self": null,
            "height": null,
            "min_height": null,
            "padding": null,
            "grid_auto_rows": null,
            "grid_gap": null,
            "max_width": null,
            "order": null,
            "_view_module_version": "1.2.0",
            "grid_template_areas": null,
            "object_position": null,
            "object_fit": null,
            "grid_auto_columns": null,
            "margin": null,
            "display": null,
            "left": null
          },
          "model_module_version": "1.2.0"
        },
        "4187f8d95a084824bce29f4c354e829e": {
          "model_module": "@jupyter-widgets/controls",
          "model_name": "FloatProgressModel",
          "state": {
            "_view_name": "ProgressView",
            "style": "IPY_MODEL_e00c53af71004589829df9beb595d7cd",
            "_dom_classes": [],
            "description": "100%",
            "_model_name": "FloatProgressModel",
            "bar_style": "success",
            "max": 41071,
            "_view_module": "@jupyter-widgets/controls",
            "_model_module_version": "1.5.0",
            "value": 41071,
            "_view_count": null,
            "_view_module_version": "1.5.0",
            "orientation": "horizontal",
            "min": 0,
            "description_tooltip": null,
            "_model_module": "@jupyter-widgets/controls",
            "layout": "IPY_MODEL_123f844ef9a14538b00b07fac0f03966"
          },
          "model_module_version": "1.5.0"
        },
        "2560ab0c63104e29aebf3d640d70d3e4": {
          "model_module": "@jupyter-widgets/controls",
          "model_name": "HTMLModel",
          "state": {
            "_view_name": "HTMLView",
            "style": "IPY_MODEL_d6bb6a8dd9d8415ab89c3ddb158dd807",
            "_dom_classes": [],
            "description": "",
            "_model_name": "HTMLModel",
            "placeholder": "​",
            "_view_module": "@jupyter-widgets/controls",
            "_model_module_version": "1.5.0",
            "value": " 41071/41071 [55:29&lt;00:00, 12.34it/s]",
            "_view_count": null,
            "_view_module_version": "1.5.0",
            "description_tooltip": null,
            "_model_module": "@jupyter-widgets/controls",
            "layout": "IPY_MODEL_09aa2d6d56b94f2ea0c9b6628dde4dc3"
          },
          "model_module_version": "1.5.0"
        },
        "e00c53af71004589829df9beb595d7cd": {
          "model_module": "@jupyter-widgets/controls",
          "model_name": "ProgressStyleModel",
          "state": {
            "_view_name": "StyleView",
            "_model_name": "ProgressStyleModel",
            "description_width": "initial",
            "_view_module": "@jupyter-widgets/base",
            "_model_module_version": "1.5.0",
            "_view_count": null,
            "_view_module_version": "1.2.0",
            "bar_color": null,
            "_model_module": "@jupyter-widgets/controls"
          },
          "model_module_version": "1.5.0"
        },
        "123f844ef9a14538b00b07fac0f03966": {
          "model_module": "@jupyter-widgets/base",
          "model_name": "LayoutModel",
          "state": {
            "_view_name": "LayoutView",
            "grid_template_rows": null,
            "right": null,
            "justify_content": null,
            "_view_module": "@jupyter-widgets/base",
            "overflow": null,
            "_model_module_version": "1.2.0",
            "_view_count": null,
            "flex_flow": null,
            "width": null,
            "min_width": null,
            "border": null,
            "align_items": null,
            "bottom": null,
            "_model_module": "@jupyter-widgets/base",
            "top": null,
            "grid_column": null,
            "overflow_y": null,
            "overflow_x": null,
            "grid_auto_flow": null,
            "grid_area": null,
            "grid_template_columns": null,
            "flex": null,
            "_model_name": "LayoutModel",
            "justify_items": null,
            "grid_row": null,
            "max_height": null,
            "align_content": null,
            "visibility": null,
            "align_self": null,
            "height": null,
            "min_height": null,
            "padding": null,
            "grid_auto_rows": null,
            "grid_gap": null,
            "max_width": null,
            "order": null,
            "_view_module_version": "1.2.0",
            "grid_template_areas": null,
            "object_position": null,
            "object_fit": null,
            "grid_auto_columns": null,
            "margin": null,
            "display": null,
            "left": null
          },
          "model_module_version": "1.2.0"
        },
        "d6bb6a8dd9d8415ab89c3ddb158dd807": {
          "model_module": "@jupyter-widgets/controls",
          "model_name": "DescriptionStyleModel",
          "state": {
            "_view_name": "StyleView",
            "_model_name": "DescriptionStyleModel",
            "description_width": "",
            "_view_module": "@jupyter-widgets/base",
            "_model_module_version": "1.5.0",
            "_view_count": null,
            "_view_module_version": "1.2.0",
            "_model_module": "@jupyter-widgets/controls"
          },
          "model_module_version": "1.5.0"
        },
        "09aa2d6d56b94f2ea0c9b6628dde4dc3": {
          "model_module": "@jupyter-widgets/base",
          "model_name": "LayoutModel",
          "state": {
            "_view_name": "LayoutView",
            "grid_template_rows": null,
            "right": null,
            "justify_content": null,
            "_view_module": "@jupyter-widgets/base",
            "overflow": null,
            "_model_module_version": "1.2.0",
            "_view_count": null,
            "flex_flow": null,
            "width": null,
            "min_width": null,
            "border": null,
            "align_items": null,
            "bottom": null,
            "_model_module": "@jupyter-widgets/base",
            "top": null,
            "grid_column": null,
            "overflow_y": null,
            "overflow_x": null,
            "grid_auto_flow": null,
            "grid_area": null,
            "grid_template_columns": null,
            "flex": null,
            "_model_name": "LayoutModel",
            "justify_items": null,
            "grid_row": null,
            "max_height": null,
            "align_content": null,
            "visibility": null,
            "align_self": null,
            "height": null,
            "min_height": null,
            "padding": null,
            "grid_auto_rows": null,
            "grid_gap": null,
            "max_width": null,
            "order": null,
            "_view_module_version": "1.2.0",
            "grid_template_areas": null,
            "object_position": null,
            "object_fit": null,
            "grid_auto_columns": null,
            "margin": null,
            "display": null,
            "left": null
          },
          "model_module_version": "1.2.0"
        },
        "40b19988c2024eed88fbf5d681b52fec": {
          "model_module": "@jupyter-widgets/controls",
          "model_name": "HBoxModel",
          "state": {
            "_view_name": "HBoxView",
            "_dom_classes": [],
            "_model_name": "HBoxModel",
            "_view_module": "@jupyter-widgets/controls",
            "_model_module_version": "1.5.0",
            "_view_count": null,
            "_view_module_version": "1.5.0",
            "box_style": "",
            "layout": "IPY_MODEL_08b062cde6d54ef182abc3e51aa29f1b",
            "_model_module": "@jupyter-widgets/controls",
            "children": [
              "IPY_MODEL_eecba371ce65473591a593daa2425907",
              "IPY_MODEL_e9848b3863424863bbce9f5676c3afd2"
            ]
          },
          "model_module_version": "1.5.0"
        },
        "08b062cde6d54ef182abc3e51aa29f1b": {
          "model_module": "@jupyter-widgets/base",
          "model_name": "LayoutModel",
          "state": {
            "_view_name": "LayoutView",
            "grid_template_rows": null,
            "right": null,
            "justify_content": null,
            "_view_module": "@jupyter-widgets/base",
            "overflow": null,
            "_model_module_version": "1.2.0",
            "_view_count": null,
            "flex_flow": null,
            "width": null,
            "min_width": null,
            "border": null,
            "align_items": null,
            "bottom": null,
            "_model_module": "@jupyter-widgets/base",
            "top": null,
            "grid_column": null,
            "overflow_y": null,
            "overflow_x": null,
            "grid_auto_flow": null,
            "grid_area": null,
            "grid_template_columns": null,
            "flex": null,
            "_model_name": "LayoutModel",
            "justify_items": null,
            "grid_row": null,
            "max_height": null,
            "align_content": null,
            "visibility": null,
            "align_self": null,
            "height": null,
            "min_height": null,
            "padding": null,
            "grid_auto_rows": null,
            "grid_gap": null,
            "max_width": null,
            "order": null,
            "_view_module_version": "1.2.0",
            "grid_template_areas": null,
            "object_position": null,
            "object_fit": null,
            "grid_auto_columns": null,
            "margin": null,
            "display": null,
            "left": null
          },
          "model_module_version": "1.2.0"
        },
        "eecba371ce65473591a593daa2425907": {
          "model_module": "@jupyter-widgets/controls",
          "model_name": "FloatProgressModel",
          "state": {
            "_view_name": "ProgressView",
            "style": "IPY_MODEL_fc7874f97dca4437a91de99e9988c007",
            "_dom_classes": [],
            "description": "100%",
            "_model_name": "FloatProgressModel",
            "bar_style": "success",
            "max": 41071,
            "_view_module": "@jupyter-widgets/controls",
            "_model_module_version": "1.5.0",
            "value": 41071,
            "_view_count": null,
            "_view_module_version": "1.5.0",
            "orientation": "horizontal",
            "min": 0,
            "description_tooltip": null,
            "_model_module": "@jupyter-widgets/controls",
            "layout": "IPY_MODEL_681363ba0f89451aa6ed8d8a39864f62"
          },
          "model_module_version": "1.5.0"
        },
        "e9848b3863424863bbce9f5676c3afd2": {
          "model_module": "@jupyter-widgets/controls",
          "model_name": "HTMLModel",
          "state": {
            "_view_name": "HTMLView",
            "style": "IPY_MODEL_e98eded87a0847acb64ebe822af7f6e5",
            "_dom_classes": [],
            "description": "",
            "_model_name": "HTMLModel",
            "placeholder": "​",
            "_view_module": "@jupyter-widgets/controls",
            "_model_module_version": "1.5.0",
            "value": " 41071/41071 [33:24&lt;00:00, 20.49it/s]",
            "_view_count": null,
            "_view_module_version": "1.5.0",
            "description_tooltip": null,
            "_model_module": "@jupyter-widgets/controls",
            "layout": "IPY_MODEL_618638432a0a45ef9bb00f373a785b3c"
          },
          "model_module_version": "1.5.0"
        },
        "fc7874f97dca4437a91de99e9988c007": {
          "model_module": "@jupyter-widgets/controls",
          "model_name": "ProgressStyleModel",
          "state": {
            "_view_name": "StyleView",
            "_model_name": "ProgressStyleModel",
            "description_width": "initial",
            "_view_module": "@jupyter-widgets/base",
            "_model_module_version": "1.5.0",
            "_view_count": null,
            "_view_module_version": "1.2.0",
            "bar_color": null,
            "_model_module": "@jupyter-widgets/controls"
          },
          "model_module_version": "1.5.0"
        },
        "681363ba0f89451aa6ed8d8a39864f62": {
          "model_module": "@jupyter-widgets/base",
          "model_name": "LayoutModel",
          "state": {
            "_view_name": "LayoutView",
            "grid_template_rows": null,
            "right": null,
            "justify_content": null,
            "_view_module": "@jupyter-widgets/base",
            "overflow": null,
            "_model_module_version": "1.2.0",
            "_view_count": null,
            "flex_flow": null,
            "width": null,
            "min_width": null,
            "border": null,
            "align_items": null,
            "bottom": null,
            "_model_module": "@jupyter-widgets/base",
            "top": null,
            "grid_column": null,
            "overflow_y": null,
            "overflow_x": null,
            "grid_auto_flow": null,
            "grid_area": null,
            "grid_template_columns": null,
            "flex": null,
            "_model_name": "LayoutModel",
            "justify_items": null,
            "grid_row": null,
            "max_height": null,
            "align_content": null,
            "visibility": null,
            "align_self": null,
            "height": null,
            "min_height": null,
            "padding": null,
            "grid_auto_rows": null,
            "grid_gap": null,
            "max_width": null,
            "order": null,
            "_view_module_version": "1.2.0",
            "grid_template_areas": null,
            "object_position": null,
            "object_fit": null,
            "grid_auto_columns": null,
            "margin": null,
            "display": null,
            "left": null
          },
          "model_module_version": "1.2.0"
        },
        "e98eded87a0847acb64ebe822af7f6e5": {
          "model_module": "@jupyter-widgets/controls",
          "model_name": "DescriptionStyleModel",
          "state": {
            "_view_name": "StyleView",
            "_model_name": "DescriptionStyleModel",
            "description_width": "",
            "_view_module": "@jupyter-widgets/base",
            "_model_module_version": "1.5.0",
            "_view_count": null,
            "_view_module_version": "1.2.0",
            "_model_module": "@jupyter-widgets/controls"
          },
          "model_module_version": "1.5.0"
        },
        "618638432a0a45ef9bb00f373a785b3c": {
          "model_module": "@jupyter-widgets/base",
          "model_name": "LayoutModel",
          "state": {
            "_view_name": "LayoutView",
            "grid_template_rows": null,
            "right": null,
            "justify_content": null,
            "_view_module": "@jupyter-widgets/base",
            "overflow": null,
            "_model_module_version": "1.2.0",
            "_view_count": null,
            "flex_flow": null,
            "width": null,
            "min_width": null,
            "border": null,
            "align_items": null,
            "bottom": null,
            "_model_module": "@jupyter-widgets/base",
            "top": null,
            "grid_column": null,
            "overflow_y": null,
            "overflow_x": null,
            "grid_auto_flow": null,
            "grid_area": null,
            "grid_template_columns": null,
            "flex": null,
            "_model_name": "LayoutModel",
            "justify_items": null,
            "grid_row": null,
            "max_height": null,
            "align_content": null,
            "visibility": null,
            "align_self": null,
            "height": null,
            "min_height": null,
            "padding": null,
            "grid_auto_rows": null,
            "grid_gap": null,
            "max_width": null,
            "order": null,
            "_view_module_version": "1.2.0",
            "grid_template_areas": null,
            "object_position": null,
            "object_fit": null,
            "grid_auto_columns": null,
            "margin": null,
            "display": null,
            "left": null
          },
          "model_module_version": "1.2.0"
        },
        "64e485d7e8cd49779f2a5787c0da9239": {
          "model_module": "@jupyter-widgets/controls",
          "model_name": "HBoxModel",
          "state": {
            "_view_name": "HBoxView",
            "_dom_classes": [],
            "_model_name": "HBoxModel",
            "_view_module": "@jupyter-widgets/controls",
            "_model_module_version": "1.5.0",
            "_view_count": null,
            "_view_module_version": "1.5.0",
            "box_style": "",
            "layout": "IPY_MODEL_bf1981e13c624daeb292ac14dc3082db",
            "_model_module": "@jupyter-widgets/controls",
            "children": [
              "IPY_MODEL_fd9888da761b49e1bd27952984663ec0",
              "IPY_MODEL_953d6e2feb6547f484497296b5cfaee1"
            ]
          },
          "model_module_version": "1.5.0"
        },
        "bf1981e13c624daeb292ac14dc3082db": {
          "model_module": "@jupyter-widgets/base",
          "model_name": "LayoutModel",
          "state": {
            "_view_name": "LayoutView",
            "grid_template_rows": null,
            "right": null,
            "justify_content": null,
            "_view_module": "@jupyter-widgets/base",
            "overflow": null,
            "_model_module_version": "1.2.0",
            "_view_count": null,
            "flex_flow": null,
            "width": null,
            "min_width": null,
            "border": null,
            "align_items": null,
            "bottom": null,
            "_model_module": "@jupyter-widgets/base",
            "top": null,
            "grid_column": null,
            "overflow_y": null,
            "overflow_x": null,
            "grid_auto_flow": null,
            "grid_area": null,
            "grid_template_columns": null,
            "flex": null,
            "_model_name": "LayoutModel",
            "justify_items": null,
            "grid_row": null,
            "max_height": null,
            "align_content": null,
            "visibility": null,
            "align_self": null,
            "height": null,
            "min_height": null,
            "padding": null,
            "grid_auto_rows": null,
            "grid_gap": null,
            "max_width": null,
            "order": null,
            "_view_module_version": "1.2.0",
            "grid_template_areas": null,
            "object_position": null,
            "object_fit": null,
            "grid_auto_columns": null,
            "margin": null,
            "display": null,
            "left": null
          },
          "model_module_version": "1.2.0"
        },
        "fd9888da761b49e1bd27952984663ec0": {
          "model_module": "@jupyter-widgets/controls",
          "model_name": "FloatProgressModel",
          "state": {
            "_view_name": "ProgressView",
            "style": "IPY_MODEL_d59ffa71787b4c1786743436125b9879",
            "_dom_classes": [],
            "description": "100%",
            "_model_name": "FloatProgressModel",
            "bar_style": "success",
            "max": 41071,
            "_view_module": "@jupyter-widgets/controls",
            "_model_module_version": "1.5.0",
            "value": 41071,
            "_view_count": null,
            "_view_module_version": "1.5.0",
            "orientation": "horizontal",
            "min": 0,
            "description_tooltip": null,
            "_model_module": "@jupyter-widgets/controls",
            "layout": "IPY_MODEL_4a9bd86812ff46d3b6ddc3cab6595e31"
          },
          "model_module_version": "1.5.0"
        },
        "953d6e2feb6547f484497296b5cfaee1": {
          "model_module": "@jupyter-widgets/controls",
          "model_name": "HTMLModel",
          "state": {
            "_view_name": "HTMLView",
            "style": "IPY_MODEL_0e356be4ed7244579018e2434b2fcb45",
            "_dom_classes": [],
            "description": "",
            "_model_name": "HTMLModel",
            "placeholder": "​",
            "_view_module": "@jupyter-widgets/controls",
            "_model_module_version": "1.5.0",
            "value": " 41071/41071 [33:36&lt;00:00, 20.36it/s]",
            "_view_count": null,
            "_view_module_version": "1.5.0",
            "description_tooltip": null,
            "_model_module": "@jupyter-widgets/controls",
            "layout": "IPY_MODEL_2baca1807b574ff9b3cb33911e4934b4"
          },
          "model_module_version": "1.5.0"
        },
        "d59ffa71787b4c1786743436125b9879": {
          "model_module": "@jupyter-widgets/controls",
          "model_name": "ProgressStyleModel",
          "state": {
            "_view_name": "StyleView",
            "_model_name": "ProgressStyleModel",
            "description_width": "initial",
            "_view_module": "@jupyter-widgets/base",
            "_model_module_version": "1.5.0",
            "_view_count": null,
            "_view_module_version": "1.2.0",
            "bar_color": null,
            "_model_module": "@jupyter-widgets/controls"
          },
          "model_module_version": "1.5.0"
        },
        "4a9bd86812ff46d3b6ddc3cab6595e31": {
          "model_module": "@jupyter-widgets/base",
          "model_name": "LayoutModel",
          "state": {
            "_view_name": "LayoutView",
            "grid_template_rows": null,
            "right": null,
            "justify_content": null,
            "_view_module": "@jupyter-widgets/base",
            "overflow": null,
            "_model_module_version": "1.2.0",
            "_view_count": null,
            "flex_flow": null,
            "width": null,
            "min_width": null,
            "border": null,
            "align_items": null,
            "bottom": null,
            "_model_module": "@jupyter-widgets/base",
            "top": null,
            "grid_column": null,
            "overflow_y": null,
            "overflow_x": null,
            "grid_auto_flow": null,
            "grid_area": null,
            "grid_template_columns": null,
            "flex": null,
            "_model_name": "LayoutModel",
            "justify_items": null,
            "grid_row": null,
            "max_height": null,
            "align_content": null,
            "visibility": null,
            "align_self": null,
            "height": null,
            "min_height": null,
            "padding": null,
            "grid_auto_rows": null,
            "grid_gap": null,
            "max_width": null,
            "order": null,
            "_view_module_version": "1.2.0",
            "grid_template_areas": null,
            "object_position": null,
            "object_fit": null,
            "grid_auto_columns": null,
            "margin": null,
            "display": null,
            "left": null
          },
          "model_module_version": "1.2.0"
        },
        "0e356be4ed7244579018e2434b2fcb45": {
          "model_module": "@jupyter-widgets/controls",
          "model_name": "DescriptionStyleModel",
          "state": {
            "_view_name": "StyleView",
            "_model_name": "DescriptionStyleModel",
            "description_width": "",
            "_view_module": "@jupyter-widgets/base",
            "_model_module_version": "1.5.0",
            "_view_count": null,
            "_view_module_version": "1.2.0",
            "_model_module": "@jupyter-widgets/controls"
          },
          "model_module_version": "1.5.0"
        },
        "2baca1807b574ff9b3cb33911e4934b4": {
          "model_module": "@jupyter-widgets/base",
          "model_name": "LayoutModel",
          "state": {
            "_view_name": "LayoutView",
            "grid_template_rows": null,
            "right": null,
            "justify_content": null,
            "_view_module": "@jupyter-widgets/base",
            "overflow": null,
            "_model_module_version": "1.2.0",
            "_view_count": null,
            "flex_flow": null,
            "width": null,
            "min_width": null,
            "border": null,
            "align_items": null,
            "bottom": null,
            "_model_module": "@jupyter-widgets/base",
            "top": null,
            "grid_column": null,
            "overflow_y": null,
            "overflow_x": null,
            "grid_auto_flow": null,
            "grid_area": null,
            "grid_template_columns": null,
            "flex": null,
            "_model_name": "LayoutModel",
            "justify_items": null,
            "grid_row": null,
            "max_height": null,
            "align_content": null,
            "visibility": null,
            "align_self": null,
            "height": null,
            "min_height": null,
            "padding": null,
            "grid_auto_rows": null,
            "grid_gap": null,
            "max_width": null,
            "order": null,
            "_view_module_version": "1.2.0",
            "grid_template_areas": null,
            "object_position": null,
            "object_fit": null,
            "grid_auto_columns": null,
            "margin": null,
            "display": null,
            "left": null
          },
          "model_module_version": "1.2.0"
        },
        "75cac2f4ddf64d7994c2eea41ed4ef28": {
          "model_module": "@jupyter-widgets/controls",
          "model_name": "HBoxModel",
          "state": {
            "_view_name": "HBoxView",
            "_dom_classes": [],
            "_model_name": "HBoxModel",
            "_view_module": "@jupyter-widgets/controls",
            "_model_module_version": "1.5.0",
            "_view_count": null,
            "_view_module_version": "1.5.0",
            "box_style": "",
            "layout": "IPY_MODEL_19d9115733144f058975f8a65d7d7c04",
            "_model_module": "@jupyter-widgets/controls",
            "children": [
              "IPY_MODEL_f51b6afd46be4665a2354d4bbbd793f6",
              "IPY_MODEL_cd96ff33c52a4559868890084c1f040c"
            ]
          },
          "model_module_version": "1.5.0"
        },
        "19d9115733144f058975f8a65d7d7c04": {
          "model_module": "@jupyter-widgets/base",
          "model_name": "LayoutModel",
          "state": {
            "_view_name": "LayoutView",
            "grid_template_rows": null,
            "right": null,
            "justify_content": null,
            "_view_module": "@jupyter-widgets/base",
            "overflow": null,
            "_model_module_version": "1.2.0",
            "_view_count": null,
            "flex_flow": null,
            "width": null,
            "min_width": null,
            "border": null,
            "align_items": null,
            "bottom": null,
            "_model_module": "@jupyter-widgets/base",
            "top": null,
            "grid_column": null,
            "overflow_y": null,
            "overflow_x": null,
            "grid_auto_flow": null,
            "grid_area": null,
            "grid_template_columns": null,
            "flex": null,
            "_model_name": "LayoutModel",
            "justify_items": null,
            "grid_row": null,
            "max_height": null,
            "align_content": null,
            "visibility": null,
            "align_self": null,
            "height": null,
            "min_height": null,
            "padding": null,
            "grid_auto_rows": null,
            "grid_gap": null,
            "max_width": null,
            "order": null,
            "_view_module_version": "1.2.0",
            "grid_template_areas": null,
            "object_position": null,
            "object_fit": null,
            "grid_auto_columns": null,
            "margin": null,
            "display": null,
            "left": null
          },
          "model_module_version": "1.2.0"
        },
        "f51b6afd46be4665a2354d4bbbd793f6": {
          "model_module": "@jupyter-widgets/controls",
          "model_name": "FloatProgressModel",
          "state": {
            "_view_name": "ProgressView",
            "style": "IPY_MODEL_0944429ebc7f4bb8bbee3bc651e5c535",
            "_dom_classes": [],
            "description": "100%",
            "_model_name": "FloatProgressModel",
            "bar_style": "success",
            "max": 6205,
            "_view_module": "@jupyter-widgets/controls",
            "_model_module_version": "1.5.0",
            "value": 6205,
            "_view_count": null,
            "_view_module_version": "1.5.0",
            "orientation": "horizontal",
            "min": 0,
            "description_tooltip": null,
            "_model_module": "@jupyter-widgets/controls",
            "layout": "IPY_MODEL_d893f4677f5e49cdbc6fc5e748304bd3"
          },
          "model_module_version": "1.5.0"
        },
        "cd96ff33c52a4559868890084c1f040c": {
          "model_module": "@jupyter-widgets/controls",
          "model_name": "HTMLModel",
          "state": {
            "_view_name": "HTMLView",
            "style": "IPY_MODEL_8117cbde152f41bda7241aabcc25da7c",
            "_dom_classes": [],
            "description": "",
            "_model_name": "HTMLModel",
            "placeholder": "​",
            "_view_module": "@jupyter-widgets/controls",
            "_model_module_version": "1.5.0",
            "value": " 6205/6205 [15:36&lt;00:00,  6.63it/s]",
            "_view_count": null,
            "_view_module_version": "1.5.0",
            "description_tooltip": null,
            "_model_module": "@jupyter-widgets/controls",
            "layout": "IPY_MODEL_f3f4c52e91ec44d39df23528fda06fa4"
          },
          "model_module_version": "1.5.0"
        },
        "0944429ebc7f4bb8bbee3bc651e5c535": {
          "model_module": "@jupyter-widgets/controls",
          "model_name": "ProgressStyleModel",
          "state": {
            "_view_name": "StyleView",
            "_model_name": "ProgressStyleModel",
            "description_width": "initial",
            "_view_module": "@jupyter-widgets/base",
            "_model_module_version": "1.5.0",
            "_view_count": null,
            "_view_module_version": "1.2.0",
            "bar_color": null,
            "_model_module": "@jupyter-widgets/controls"
          },
          "model_module_version": "1.5.0"
        },
        "d893f4677f5e49cdbc6fc5e748304bd3": {
          "model_module": "@jupyter-widgets/base",
          "model_name": "LayoutModel",
          "state": {
            "_view_name": "LayoutView",
            "grid_template_rows": null,
            "right": null,
            "justify_content": null,
            "_view_module": "@jupyter-widgets/base",
            "overflow": null,
            "_model_module_version": "1.2.0",
            "_view_count": null,
            "flex_flow": null,
            "width": null,
            "min_width": null,
            "border": null,
            "align_items": null,
            "bottom": null,
            "_model_module": "@jupyter-widgets/base",
            "top": null,
            "grid_column": null,
            "overflow_y": null,
            "overflow_x": null,
            "grid_auto_flow": null,
            "grid_area": null,
            "grid_template_columns": null,
            "flex": null,
            "_model_name": "LayoutModel",
            "justify_items": null,
            "grid_row": null,
            "max_height": null,
            "align_content": null,
            "visibility": null,
            "align_self": null,
            "height": null,
            "min_height": null,
            "padding": null,
            "grid_auto_rows": null,
            "grid_gap": null,
            "max_width": null,
            "order": null,
            "_view_module_version": "1.2.0",
            "grid_template_areas": null,
            "object_position": null,
            "object_fit": null,
            "grid_auto_columns": null,
            "margin": null,
            "display": null,
            "left": null
          },
          "model_module_version": "1.2.0"
        },
        "8117cbde152f41bda7241aabcc25da7c": {
          "model_module": "@jupyter-widgets/controls",
          "model_name": "DescriptionStyleModel",
          "state": {
            "_view_name": "StyleView",
            "_model_name": "DescriptionStyleModel",
            "description_width": "",
            "_view_module": "@jupyter-widgets/base",
            "_model_module_version": "1.5.0",
            "_view_count": null,
            "_view_module_version": "1.2.0",
            "_model_module": "@jupyter-widgets/controls"
          },
          "model_module_version": "1.5.0"
        },
        "f3f4c52e91ec44d39df23528fda06fa4": {
          "model_module": "@jupyter-widgets/base",
          "model_name": "LayoutModel",
          "state": {
            "_view_name": "LayoutView",
            "grid_template_rows": null,
            "right": null,
            "justify_content": null,
            "_view_module": "@jupyter-widgets/base",
            "overflow": null,
            "_model_module_version": "1.2.0",
            "_view_count": null,
            "flex_flow": null,
            "width": null,
            "min_width": null,
            "border": null,
            "align_items": null,
            "bottom": null,
            "_model_module": "@jupyter-widgets/base",
            "top": null,
            "grid_column": null,
            "overflow_y": null,
            "overflow_x": null,
            "grid_auto_flow": null,
            "grid_area": null,
            "grid_template_columns": null,
            "flex": null,
            "_model_name": "LayoutModel",
            "justify_items": null,
            "grid_row": null,
            "max_height": null,
            "align_content": null,
            "visibility": null,
            "align_self": null,
            "height": null,
            "min_height": null,
            "padding": null,
            "grid_auto_rows": null,
            "grid_gap": null,
            "max_width": null,
            "order": null,
            "_view_module_version": "1.2.0",
            "grid_template_areas": null,
            "object_position": null,
            "object_fit": null,
            "grid_auto_columns": null,
            "margin": null,
            "display": null,
            "left": null
          },
          "model_module_version": "1.2.0"
        },
        "9c76e341b5774e9f88941725abec301e": {
          "model_module": "@jupyter-widgets/controls",
          "model_name": "HBoxModel",
          "state": {
            "_view_name": "HBoxView",
            "_dom_classes": [],
            "_model_name": "HBoxModel",
            "_view_module": "@jupyter-widgets/controls",
            "_model_module_version": "1.5.0",
            "_view_count": null,
            "_view_module_version": "1.5.0",
            "box_style": "",
            "layout": "IPY_MODEL_80e460d29cd94b16b730fb018bbade49",
            "_model_module": "@jupyter-widgets/controls",
            "children": [
              "IPY_MODEL_867d5f473f7243e0996fc0d5dd2644ae",
              "IPY_MODEL_39576134d93f442d9b48ccdbd0d9312b"
            ]
          },
          "model_module_version": "1.5.0"
        },
        "80e460d29cd94b16b730fb018bbade49": {
          "model_module": "@jupyter-widgets/base",
          "model_name": "LayoutModel",
          "state": {
            "_view_name": "LayoutView",
            "grid_template_rows": null,
            "right": null,
            "justify_content": null,
            "_view_module": "@jupyter-widgets/base",
            "overflow": null,
            "_model_module_version": "1.2.0",
            "_view_count": null,
            "flex_flow": null,
            "width": null,
            "min_width": null,
            "border": null,
            "align_items": null,
            "bottom": null,
            "_model_module": "@jupyter-widgets/base",
            "top": null,
            "grid_column": null,
            "overflow_y": null,
            "overflow_x": null,
            "grid_auto_flow": null,
            "grid_area": null,
            "grid_template_columns": null,
            "flex": null,
            "_model_name": "LayoutModel",
            "justify_items": null,
            "grid_row": null,
            "max_height": null,
            "align_content": null,
            "visibility": null,
            "align_self": null,
            "height": null,
            "min_height": null,
            "padding": null,
            "grid_auto_rows": null,
            "grid_gap": null,
            "max_width": null,
            "order": null,
            "_view_module_version": "1.2.0",
            "grid_template_areas": null,
            "object_position": null,
            "object_fit": null,
            "grid_auto_columns": null,
            "margin": null,
            "display": null,
            "left": null
          },
          "model_module_version": "1.2.0"
        },
        "867d5f473f7243e0996fc0d5dd2644ae": {
          "model_module": "@jupyter-widgets/controls",
          "model_name": "FloatProgressModel",
          "state": {
            "_view_name": "ProgressView",
            "style": "IPY_MODEL_17e0ae16c4a04378adcce059e6de5435",
            "_dom_classes": [],
            "description": "100%",
            "_model_name": "FloatProgressModel",
            "bar_style": "success",
            "max": 6205,
            "_view_module": "@jupyter-widgets/controls",
            "_model_module_version": "1.5.0",
            "value": 6205,
            "_view_count": null,
            "_view_module_version": "1.5.0",
            "orientation": "horizontal",
            "min": 0,
            "description_tooltip": null,
            "_model_module": "@jupyter-widgets/controls",
            "layout": "IPY_MODEL_8adb9e8b6941458aa70f0da4c308b1fd"
          },
          "model_module_version": "1.5.0"
        },
        "39576134d93f442d9b48ccdbd0d9312b": {
          "model_module": "@jupyter-widgets/controls",
          "model_name": "HTMLModel",
          "state": {
            "_view_name": "HTMLView",
            "style": "IPY_MODEL_30e50e6c2c654b6ea5af82af763fe4c8",
            "_dom_classes": [],
            "description": "",
            "_model_name": "HTMLModel",
            "placeholder": "​",
            "_view_module": "@jupyter-widgets/controls",
            "_model_module_version": "1.5.0",
            "value": " 6205/6205 [08:58&lt;00:00, 11.52it/s]",
            "_view_count": null,
            "_view_module_version": "1.5.0",
            "description_tooltip": null,
            "_model_module": "@jupyter-widgets/controls",
            "layout": "IPY_MODEL_eb7d04981a0e4cbd92601438fa8494f4"
          },
          "model_module_version": "1.5.0"
        },
        "17e0ae16c4a04378adcce059e6de5435": {
          "model_module": "@jupyter-widgets/controls",
          "model_name": "ProgressStyleModel",
          "state": {
            "_view_name": "StyleView",
            "_model_name": "ProgressStyleModel",
            "description_width": "initial",
            "_view_module": "@jupyter-widgets/base",
            "_model_module_version": "1.5.0",
            "_view_count": null,
            "_view_module_version": "1.2.0",
            "bar_color": null,
            "_model_module": "@jupyter-widgets/controls"
          },
          "model_module_version": "1.5.0"
        },
        "8adb9e8b6941458aa70f0da4c308b1fd": {
          "model_module": "@jupyter-widgets/base",
          "model_name": "LayoutModel",
          "state": {
            "_view_name": "LayoutView",
            "grid_template_rows": null,
            "right": null,
            "justify_content": null,
            "_view_module": "@jupyter-widgets/base",
            "overflow": null,
            "_model_module_version": "1.2.0",
            "_view_count": null,
            "flex_flow": null,
            "width": null,
            "min_width": null,
            "border": null,
            "align_items": null,
            "bottom": null,
            "_model_module": "@jupyter-widgets/base",
            "top": null,
            "grid_column": null,
            "overflow_y": null,
            "overflow_x": null,
            "grid_auto_flow": null,
            "grid_area": null,
            "grid_template_columns": null,
            "flex": null,
            "_model_name": "LayoutModel",
            "justify_items": null,
            "grid_row": null,
            "max_height": null,
            "align_content": null,
            "visibility": null,
            "align_self": null,
            "height": null,
            "min_height": null,
            "padding": null,
            "grid_auto_rows": null,
            "grid_gap": null,
            "max_width": null,
            "order": null,
            "_view_module_version": "1.2.0",
            "grid_template_areas": null,
            "object_position": null,
            "object_fit": null,
            "grid_auto_columns": null,
            "margin": null,
            "display": null,
            "left": null
          },
          "model_module_version": "1.2.0"
        },
        "30e50e6c2c654b6ea5af82af763fe4c8": {
          "model_module": "@jupyter-widgets/controls",
          "model_name": "DescriptionStyleModel",
          "state": {
            "_view_name": "StyleView",
            "_model_name": "DescriptionStyleModel",
            "description_width": "",
            "_view_module": "@jupyter-widgets/base",
            "_model_module_version": "1.5.0",
            "_view_count": null,
            "_view_module_version": "1.2.0",
            "_model_module": "@jupyter-widgets/controls"
          },
          "model_module_version": "1.5.0"
        },
        "eb7d04981a0e4cbd92601438fa8494f4": {
          "model_module": "@jupyter-widgets/base",
          "model_name": "LayoutModel",
          "state": {
            "_view_name": "LayoutView",
            "grid_template_rows": null,
            "right": null,
            "justify_content": null,
            "_view_module": "@jupyter-widgets/base",
            "overflow": null,
            "_model_module_version": "1.2.0",
            "_view_count": null,
            "flex_flow": null,
            "width": null,
            "min_width": null,
            "border": null,
            "align_items": null,
            "bottom": null,
            "_model_module": "@jupyter-widgets/base",
            "top": null,
            "grid_column": null,
            "overflow_y": null,
            "overflow_x": null,
            "grid_auto_flow": null,
            "grid_area": null,
            "grid_template_columns": null,
            "flex": null,
            "_model_name": "LayoutModel",
            "justify_items": null,
            "grid_row": null,
            "max_height": null,
            "align_content": null,
            "visibility": null,
            "align_self": null,
            "height": null,
            "min_height": null,
            "padding": null,
            "grid_auto_rows": null,
            "grid_gap": null,
            "max_width": null,
            "order": null,
            "_view_module_version": "1.2.0",
            "grid_template_areas": null,
            "object_position": null,
            "object_fit": null,
            "grid_auto_columns": null,
            "margin": null,
            "display": null,
            "left": null
          },
          "model_module_version": "1.2.0"
        },
        "370831a036a0433e9b89ced08886f2c9": {
          "model_module": "@jupyter-widgets/controls",
          "model_name": "HBoxModel",
          "state": {
            "_view_name": "HBoxView",
            "_dom_classes": [],
            "_model_name": "HBoxModel",
            "_view_module": "@jupyter-widgets/controls",
            "_model_module_version": "1.5.0",
            "_view_count": null,
            "_view_module_version": "1.5.0",
            "box_style": "",
            "layout": "IPY_MODEL_864190fdee9d4c7592d617e3b9b981d5",
            "_model_module": "@jupyter-widgets/controls",
            "children": [
              "IPY_MODEL_412cd20918da4be7a41a081d1c64448c",
              "IPY_MODEL_86590045a4864469a04c63d93596a48e"
            ]
          },
          "model_module_version": "1.5.0"
        },
        "864190fdee9d4c7592d617e3b9b981d5": {
          "model_module": "@jupyter-widgets/base",
          "model_name": "LayoutModel",
          "state": {
            "_view_name": "LayoutView",
            "grid_template_rows": null,
            "right": null,
            "justify_content": null,
            "_view_module": "@jupyter-widgets/base",
            "overflow": null,
            "_model_module_version": "1.2.0",
            "_view_count": null,
            "flex_flow": null,
            "width": null,
            "min_width": null,
            "border": null,
            "align_items": null,
            "bottom": null,
            "_model_module": "@jupyter-widgets/base",
            "top": null,
            "grid_column": null,
            "overflow_y": null,
            "overflow_x": null,
            "grid_auto_flow": null,
            "grid_area": null,
            "grid_template_columns": null,
            "flex": null,
            "_model_name": "LayoutModel",
            "justify_items": null,
            "grid_row": null,
            "max_height": null,
            "align_content": null,
            "visibility": null,
            "align_self": null,
            "height": null,
            "min_height": null,
            "padding": null,
            "grid_auto_rows": null,
            "grid_gap": null,
            "max_width": null,
            "order": null,
            "_view_module_version": "1.2.0",
            "grid_template_areas": null,
            "object_position": null,
            "object_fit": null,
            "grid_auto_columns": null,
            "margin": null,
            "display": null,
            "left": null
          },
          "model_module_version": "1.2.0"
        },
        "412cd20918da4be7a41a081d1c64448c": {
          "model_module": "@jupyter-widgets/controls",
          "model_name": "FloatProgressModel",
          "state": {
            "_view_name": "ProgressView",
            "style": "IPY_MODEL_f5ff9885fad541a8864c91a84868efec",
            "_dom_classes": [],
            "description": "100%",
            "_model_name": "FloatProgressModel",
            "bar_style": "success",
            "max": 6205,
            "_view_module": "@jupyter-widgets/controls",
            "_model_module_version": "1.5.0",
            "value": 6205,
            "_view_count": null,
            "_view_module_version": "1.5.0",
            "orientation": "horizontal",
            "min": 0,
            "description_tooltip": null,
            "_model_module": "@jupyter-widgets/controls",
            "layout": "IPY_MODEL_9e442e6e1850491994bbdaf9f95c32f3"
          },
          "model_module_version": "1.5.0"
        },
        "86590045a4864469a04c63d93596a48e": {
          "model_module": "@jupyter-widgets/controls",
          "model_name": "HTMLModel",
          "state": {
            "_view_name": "HTMLView",
            "style": "IPY_MODEL_e3bcbfa33eb64860a48ba001f7797e40",
            "_dom_classes": [],
            "description": "",
            "_model_name": "HTMLModel",
            "placeholder": "​",
            "_view_module": "@jupyter-widgets/controls",
            "_model_module_version": "1.5.0",
            "value": " 6205/6205 [04:40&lt;00:00, 22.14it/s]",
            "_view_count": null,
            "_view_module_version": "1.5.0",
            "description_tooltip": null,
            "_model_module": "@jupyter-widgets/controls",
            "layout": "IPY_MODEL_adbbc9d677a04a31981a5e1651b794e9"
          },
          "model_module_version": "1.5.0"
        },
        "f5ff9885fad541a8864c91a84868efec": {
          "model_module": "@jupyter-widgets/controls",
          "model_name": "ProgressStyleModel",
          "state": {
            "_view_name": "StyleView",
            "_model_name": "ProgressStyleModel",
            "description_width": "initial",
            "_view_module": "@jupyter-widgets/base",
            "_model_module_version": "1.5.0",
            "_view_count": null,
            "_view_module_version": "1.2.0",
            "bar_color": null,
            "_model_module": "@jupyter-widgets/controls"
          },
          "model_module_version": "1.5.0"
        },
        "9e442e6e1850491994bbdaf9f95c32f3": {
          "model_module": "@jupyter-widgets/base",
          "model_name": "LayoutModel",
          "state": {
            "_view_name": "LayoutView",
            "grid_template_rows": null,
            "right": null,
            "justify_content": null,
            "_view_module": "@jupyter-widgets/base",
            "overflow": null,
            "_model_module_version": "1.2.0",
            "_view_count": null,
            "flex_flow": null,
            "width": null,
            "min_width": null,
            "border": null,
            "align_items": null,
            "bottom": null,
            "_model_module": "@jupyter-widgets/base",
            "top": null,
            "grid_column": null,
            "overflow_y": null,
            "overflow_x": null,
            "grid_auto_flow": null,
            "grid_area": null,
            "grid_template_columns": null,
            "flex": null,
            "_model_name": "LayoutModel",
            "justify_items": null,
            "grid_row": null,
            "max_height": null,
            "align_content": null,
            "visibility": null,
            "align_self": null,
            "height": null,
            "min_height": null,
            "padding": null,
            "grid_auto_rows": null,
            "grid_gap": null,
            "max_width": null,
            "order": null,
            "_view_module_version": "1.2.0",
            "grid_template_areas": null,
            "object_position": null,
            "object_fit": null,
            "grid_auto_columns": null,
            "margin": null,
            "display": null,
            "left": null
          },
          "model_module_version": "1.2.0"
        },
        "e3bcbfa33eb64860a48ba001f7797e40": {
          "model_module": "@jupyter-widgets/controls",
          "model_name": "DescriptionStyleModel",
          "state": {
            "_view_name": "StyleView",
            "_model_name": "DescriptionStyleModel",
            "description_width": "",
            "_view_module": "@jupyter-widgets/base",
            "_model_module_version": "1.5.0",
            "_view_count": null,
            "_view_module_version": "1.2.0",
            "_model_module": "@jupyter-widgets/controls"
          },
          "model_module_version": "1.5.0"
        },
        "adbbc9d677a04a31981a5e1651b794e9": {
          "model_module": "@jupyter-widgets/base",
          "model_name": "LayoutModel",
          "state": {
            "_view_name": "LayoutView",
            "grid_template_rows": null,
            "right": null,
            "justify_content": null,
            "_view_module": "@jupyter-widgets/base",
            "overflow": null,
            "_model_module_version": "1.2.0",
            "_view_count": null,
            "flex_flow": null,
            "width": null,
            "min_width": null,
            "border": null,
            "align_items": null,
            "bottom": null,
            "_model_module": "@jupyter-widgets/base",
            "top": null,
            "grid_column": null,
            "overflow_y": null,
            "overflow_x": null,
            "grid_auto_flow": null,
            "grid_area": null,
            "grid_template_columns": null,
            "flex": null,
            "_model_name": "LayoutModel",
            "justify_items": null,
            "grid_row": null,
            "max_height": null,
            "align_content": null,
            "visibility": null,
            "align_self": null,
            "height": null,
            "min_height": null,
            "padding": null,
            "grid_auto_rows": null,
            "grid_gap": null,
            "max_width": null,
            "order": null,
            "_view_module_version": "1.2.0",
            "grid_template_areas": null,
            "object_position": null,
            "object_fit": null,
            "grid_auto_columns": null,
            "margin": null,
            "display": null,
            "left": null
          },
          "model_module_version": "1.2.0"
        },
        "899f28d787c64fbb98a942b44d58752c": {
          "model_module": "@jupyter-widgets/controls",
          "model_name": "HBoxModel",
          "state": {
            "_view_name": "HBoxView",
            "_dom_classes": [],
            "_model_name": "HBoxModel",
            "_view_module": "@jupyter-widgets/controls",
            "_model_module_version": "1.5.0",
            "_view_count": null,
            "_view_module_version": "1.5.0",
            "box_style": "",
            "layout": "IPY_MODEL_17123231ed874b2484166ea58a36aba2",
            "_model_module": "@jupyter-widgets/controls",
            "children": [
              "IPY_MODEL_075cca76b88240c78a0bb2f1c17acdd7",
              "IPY_MODEL_85b8cc25c8a246449f4e40d9bbc02fc1"
            ]
          },
          "model_module_version": "1.5.0"
        },
        "17123231ed874b2484166ea58a36aba2": {
          "model_module": "@jupyter-widgets/base",
          "model_name": "LayoutModel",
          "state": {
            "_view_name": "LayoutView",
            "grid_template_rows": null,
            "right": null,
            "justify_content": null,
            "_view_module": "@jupyter-widgets/base",
            "overflow": null,
            "_model_module_version": "1.2.0",
            "_view_count": null,
            "flex_flow": null,
            "width": null,
            "min_width": null,
            "border": null,
            "align_items": null,
            "bottom": null,
            "_model_module": "@jupyter-widgets/base",
            "top": null,
            "grid_column": null,
            "overflow_y": null,
            "overflow_x": null,
            "grid_auto_flow": null,
            "grid_area": null,
            "grid_template_columns": null,
            "flex": null,
            "_model_name": "LayoutModel",
            "justify_items": null,
            "grid_row": null,
            "max_height": null,
            "align_content": null,
            "visibility": null,
            "align_self": null,
            "height": null,
            "min_height": null,
            "padding": null,
            "grid_auto_rows": null,
            "grid_gap": null,
            "max_width": null,
            "order": null,
            "_view_module_version": "1.2.0",
            "grid_template_areas": null,
            "object_position": null,
            "object_fit": null,
            "grid_auto_columns": null,
            "margin": null,
            "display": null,
            "left": null
          },
          "model_module_version": "1.2.0"
        },
        "075cca76b88240c78a0bb2f1c17acdd7": {
          "model_module": "@jupyter-widgets/controls",
          "model_name": "FloatProgressModel",
          "state": {
            "_view_name": "ProgressView",
            "style": "IPY_MODEL_8f56f32832f7470ba225970248d1aad6",
            "_dom_classes": [],
            "description": "100%",
            "_model_name": "FloatProgressModel",
            "bar_style": "success",
            "max": 6205,
            "_view_module": "@jupyter-widgets/controls",
            "_model_module_version": "1.5.0",
            "value": 6205,
            "_view_count": null,
            "_view_module_version": "1.5.0",
            "orientation": "horizontal",
            "min": 0,
            "description_tooltip": null,
            "_model_module": "@jupyter-widgets/controls",
            "layout": "IPY_MODEL_81fe304aaf6b477685a53bee1250c2e6"
          },
          "model_module_version": "1.5.0"
        },
        "85b8cc25c8a246449f4e40d9bbc02fc1": {
          "model_module": "@jupyter-widgets/controls",
          "model_name": "HTMLModel",
          "state": {
            "_view_name": "HTMLView",
            "style": "IPY_MODEL_cc54f8766ecb4a66af90ae9302ea94d6",
            "_dom_classes": [],
            "description": "",
            "_model_name": "HTMLModel",
            "placeholder": "​",
            "_view_module": "@jupyter-widgets/controls",
            "_model_module_version": "1.5.0",
            "value": " 6205/6205 [02:48&lt;00:00, 36.74it/s]",
            "_view_count": null,
            "_view_module_version": "1.5.0",
            "description_tooltip": null,
            "_model_module": "@jupyter-widgets/controls",
            "layout": "IPY_MODEL_a2300948b5664b68bfd79ae607654625"
          },
          "model_module_version": "1.5.0"
        },
        "8f56f32832f7470ba225970248d1aad6": {
          "model_module": "@jupyter-widgets/controls",
          "model_name": "ProgressStyleModel",
          "state": {
            "_view_name": "StyleView",
            "_model_name": "ProgressStyleModel",
            "description_width": "initial",
            "_view_module": "@jupyter-widgets/base",
            "_model_module_version": "1.5.0",
            "_view_count": null,
            "_view_module_version": "1.2.0",
            "bar_color": null,
            "_model_module": "@jupyter-widgets/controls"
          },
          "model_module_version": "1.5.0"
        },
        "81fe304aaf6b477685a53bee1250c2e6": {
          "model_module": "@jupyter-widgets/base",
          "model_name": "LayoutModel",
          "state": {
            "_view_name": "LayoutView",
            "grid_template_rows": null,
            "right": null,
            "justify_content": null,
            "_view_module": "@jupyter-widgets/base",
            "overflow": null,
            "_model_module_version": "1.2.0",
            "_view_count": null,
            "flex_flow": null,
            "width": null,
            "min_width": null,
            "border": null,
            "align_items": null,
            "bottom": null,
            "_model_module": "@jupyter-widgets/base",
            "top": null,
            "grid_column": null,
            "overflow_y": null,
            "overflow_x": null,
            "grid_auto_flow": null,
            "grid_area": null,
            "grid_template_columns": null,
            "flex": null,
            "_model_name": "LayoutModel",
            "justify_items": null,
            "grid_row": null,
            "max_height": null,
            "align_content": null,
            "visibility": null,
            "align_self": null,
            "height": null,
            "min_height": null,
            "padding": null,
            "grid_auto_rows": null,
            "grid_gap": null,
            "max_width": null,
            "order": null,
            "_view_module_version": "1.2.0",
            "grid_template_areas": null,
            "object_position": null,
            "object_fit": null,
            "grid_auto_columns": null,
            "margin": null,
            "display": null,
            "left": null
          },
          "model_module_version": "1.2.0"
        },
        "cc54f8766ecb4a66af90ae9302ea94d6": {
          "model_module": "@jupyter-widgets/controls",
          "model_name": "DescriptionStyleModel",
          "state": {
            "_view_name": "StyleView",
            "_model_name": "DescriptionStyleModel",
            "description_width": "",
            "_view_module": "@jupyter-widgets/base",
            "_model_module_version": "1.5.0",
            "_view_count": null,
            "_view_module_version": "1.2.0",
            "_model_module": "@jupyter-widgets/controls"
          },
          "model_module_version": "1.5.0"
        },
        "a2300948b5664b68bfd79ae607654625": {
          "model_module": "@jupyter-widgets/base",
          "model_name": "LayoutModel",
          "state": {
            "_view_name": "LayoutView",
            "grid_template_rows": null,
            "right": null,
            "justify_content": null,
            "_view_module": "@jupyter-widgets/base",
            "overflow": null,
            "_model_module_version": "1.2.0",
            "_view_count": null,
            "flex_flow": null,
            "width": null,
            "min_width": null,
            "border": null,
            "align_items": null,
            "bottom": null,
            "_model_module": "@jupyter-widgets/base",
            "top": null,
            "grid_column": null,
            "overflow_y": null,
            "overflow_x": null,
            "grid_auto_flow": null,
            "grid_area": null,
            "grid_template_columns": null,
            "flex": null,
            "_model_name": "LayoutModel",
            "justify_items": null,
            "grid_row": null,
            "max_height": null,
            "align_content": null,
            "visibility": null,
            "align_self": null,
            "height": null,
            "min_height": null,
            "padding": null,
            "grid_auto_rows": null,
            "grid_gap": null,
            "max_width": null,
            "order": null,
            "_view_module_version": "1.2.0",
            "grid_template_areas": null,
            "object_position": null,
            "object_fit": null,
            "grid_auto_columns": null,
            "margin": null,
            "display": null,
            "left": null
          },
          "model_module_version": "1.2.0"
        },
        "ccec545200764866894c0e16af2cee23": {
          "model_module": "@jupyter-widgets/controls",
          "model_name": "HBoxModel",
          "state": {
            "_view_name": "HBoxView",
            "_dom_classes": [],
            "_model_name": "HBoxModel",
            "_view_module": "@jupyter-widgets/controls",
            "_model_module_version": "1.5.0",
            "_view_count": null,
            "_view_module_version": "1.5.0",
            "box_style": "",
            "layout": "IPY_MODEL_648bdd25e78b4d8da0b0b08b503852f9",
            "_model_module": "@jupyter-widgets/controls",
            "children": [
              "IPY_MODEL_41e8b864390841b891328f09345ef0fe",
              "IPY_MODEL_2c0e1d9c034e4635b570d61be93d3eb1"
            ]
          },
          "model_module_version": "1.5.0"
        },
        "648bdd25e78b4d8da0b0b08b503852f9": {
          "model_module": "@jupyter-widgets/base",
          "model_name": "LayoutModel",
          "state": {
            "_view_name": "LayoutView",
            "grid_template_rows": null,
            "right": null,
            "justify_content": null,
            "_view_module": "@jupyter-widgets/base",
            "overflow": null,
            "_model_module_version": "1.2.0",
            "_view_count": null,
            "flex_flow": null,
            "width": null,
            "min_width": null,
            "border": null,
            "align_items": null,
            "bottom": null,
            "_model_module": "@jupyter-widgets/base",
            "top": null,
            "grid_column": null,
            "overflow_y": null,
            "overflow_x": null,
            "grid_auto_flow": null,
            "grid_area": null,
            "grid_template_columns": null,
            "flex": null,
            "_model_name": "LayoutModel",
            "justify_items": null,
            "grid_row": null,
            "max_height": null,
            "align_content": null,
            "visibility": null,
            "align_self": null,
            "height": null,
            "min_height": null,
            "padding": null,
            "grid_auto_rows": null,
            "grid_gap": null,
            "max_width": null,
            "order": null,
            "_view_module_version": "1.2.0",
            "grid_template_areas": null,
            "object_position": null,
            "object_fit": null,
            "grid_auto_columns": null,
            "margin": null,
            "display": null,
            "left": null
          },
          "model_module_version": "1.2.0"
        },
        "41e8b864390841b891328f09345ef0fe": {
          "model_module": "@jupyter-widgets/controls",
          "model_name": "FloatProgressModel",
          "state": {
            "_view_name": "ProgressView",
            "style": "IPY_MODEL_1add03af0eb2401b9a0620fa72777299",
            "_dom_classes": [],
            "description": "100%",
            "_model_name": "FloatProgressModel",
            "bar_style": "success",
            "max": 6205,
            "_view_module": "@jupyter-widgets/controls",
            "_model_module_version": "1.5.0",
            "value": 6205,
            "_view_count": null,
            "_view_module_version": "1.5.0",
            "orientation": "horizontal",
            "min": 0,
            "description_tooltip": null,
            "_model_module": "@jupyter-widgets/controls",
            "layout": "IPY_MODEL_e257bd3dee83460c9d4face9ac3c50c4"
          },
          "model_module_version": "1.5.0"
        },
        "2c0e1d9c034e4635b570d61be93d3eb1": {
          "model_module": "@jupyter-widgets/controls",
          "model_name": "HTMLModel",
          "state": {
            "_view_name": "HTMLView",
            "style": "IPY_MODEL_53c8141fb9954d94bbd4a176c9759f9b",
            "_dom_classes": [],
            "description": "",
            "_model_name": "HTMLModel",
            "placeholder": "​",
            "_view_module": "@jupyter-widgets/controls",
            "_model_module_version": "1.5.0",
            "value": " 6205/6205 [02:51&lt;00:00, 36.25it/s]",
            "_view_count": null,
            "_view_module_version": "1.5.0",
            "description_tooltip": null,
            "_model_module": "@jupyter-widgets/controls",
            "layout": "IPY_MODEL_0a8336c1452b47f08a9bc9b3ea097ae8"
          },
          "model_module_version": "1.5.0"
        },
        "1add03af0eb2401b9a0620fa72777299": {
          "model_module": "@jupyter-widgets/controls",
          "model_name": "ProgressStyleModel",
          "state": {
            "_view_name": "StyleView",
            "_model_name": "ProgressStyleModel",
            "description_width": "initial",
            "_view_module": "@jupyter-widgets/base",
            "_model_module_version": "1.5.0",
            "_view_count": null,
            "_view_module_version": "1.2.0",
            "bar_color": null,
            "_model_module": "@jupyter-widgets/controls"
          },
          "model_module_version": "1.5.0"
        },
        "e257bd3dee83460c9d4face9ac3c50c4": {
          "model_module": "@jupyter-widgets/base",
          "model_name": "LayoutModel",
          "state": {
            "_view_name": "LayoutView",
            "grid_template_rows": null,
            "right": null,
            "justify_content": null,
            "_view_module": "@jupyter-widgets/base",
            "overflow": null,
            "_model_module_version": "1.2.0",
            "_view_count": null,
            "flex_flow": null,
            "width": null,
            "min_width": null,
            "border": null,
            "align_items": null,
            "bottom": null,
            "_model_module": "@jupyter-widgets/base",
            "top": null,
            "grid_column": null,
            "overflow_y": null,
            "overflow_x": null,
            "grid_auto_flow": null,
            "grid_area": null,
            "grid_template_columns": null,
            "flex": null,
            "_model_name": "LayoutModel",
            "justify_items": null,
            "grid_row": null,
            "max_height": null,
            "align_content": null,
            "visibility": null,
            "align_self": null,
            "height": null,
            "min_height": null,
            "padding": null,
            "grid_auto_rows": null,
            "grid_gap": null,
            "max_width": null,
            "order": null,
            "_view_module_version": "1.2.0",
            "grid_template_areas": null,
            "object_position": null,
            "object_fit": null,
            "grid_auto_columns": null,
            "margin": null,
            "display": null,
            "left": null
          },
          "model_module_version": "1.2.0"
        },
        "53c8141fb9954d94bbd4a176c9759f9b": {
          "model_module": "@jupyter-widgets/controls",
          "model_name": "DescriptionStyleModel",
          "state": {
            "_view_name": "StyleView",
            "_model_name": "DescriptionStyleModel",
            "description_width": "",
            "_view_module": "@jupyter-widgets/base",
            "_model_module_version": "1.5.0",
            "_view_count": null,
            "_view_module_version": "1.2.0",
            "_model_module": "@jupyter-widgets/controls"
          },
          "model_module_version": "1.5.0"
        },
        "0a8336c1452b47f08a9bc9b3ea097ae8": {
          "model_module": "@jupyter-widgets/base",
          "model_name": "LayoutModel",
          "state": {
            "_view_name": "LayoutView",
            "grid_template_rows": null,
            "right": null,
            "justify_content": null,
            "_view_module": "@jupyter-widgets/base",
            "overflow": null,
            "_model_module_version": "1.2.0",
            "_view_count": null,
            "flex_flow": null,
            "width": null,
            "min_width": null,
            "border": null,
            "align_items": null,
            "bottom": null,
            "_model_module": "@jupyter-widgets/base",
            "top": null,
            "grid_column": null,
            "overflow_y": null,
            "overflow_x": null,
            "grid_auto_flow": null,
            "grid_area": null,
            "grid_template_columns": null,
            "flex": null,
            "_model_name": "LayoutModel",
            "justify_items": null,
            "grid_row": null,
            "max_height": null,
            "align_content": null,
            "visibility": null,
            "align_self": null,
            "height": null,
            "min_height": null,
            "padding": null,
            "grid_auto_rows": null,
            "grid_gap": null,
            "max_width": null,
            "order": null,
            "_view_module_version": "1.2.0",
            "grid_template_areas": null,
            "object_position": null,
            "object_fit": null,
            "grid_auto_columns": null,
            "margin": null,
            "display": null,
            "left": null
          },
          "model_module_version": "1.2.0"
        },
        "0c7e3740a31546e498057ffcb5caefa7": {
          "model_module": "@jupyter-widgets/controls",
          "model_name": "HBoxModel",
          "state": {
            "_dom_classes": [],
            "_model_module": "@jupyter-widgets/controls",
            "_model_module_version": "1.5.0",
            "_model_name": "HBoxModel",
            "_view_count": null,
            "_view_module": "@jupyter-widgets/controls",
            "_view_module_version": "1.5.0",
            "_view_name": "HBoxView",
            "box_style": "",
            "children": [
              "IPY_MODEL_dca5f5c89b5c4d55b955fb718c5d3ee6",
              "IPY_MODEL_4b8b2191717748428bda87fa36efca49"
            ],
            "layout": "IPY_MODEL_487a82d8fa644b8d928954c30ffd3c3f"
          },
          "model_module_version": "1.5.0"
        },
        "dca5f5c89b5c4d55b955fb718c5d3ee6": {
          "model_module": "@jupyter-widgets/controls",
          "model_name": "FloatProgressModel",
          "state": {
            "_dom_classes": [],
            "_model_module": "@jupyter-widgets/controls",
            "_model_module_version": "1.5.0",
            "_model_name": "FloatProgressModel",
            "_view_count": null,
            "_view_module": "@jupyter-widgets/controls",
            "_view_module_version": "1.5.0",
            "_view_name": "ProgressView",
            "bar_style": "",
            "description": " 64%",
            "description_tooltip": null,
            "layout": "IPY_MODEL_4a2c339c0c4a4f8294f45784a1d021a1",
            "max": 41071,
            "min": 0,
            "orientation": "horizontal",
            "style": "IPY_MODEL_8ce7f52e82664f1cb8d740de95f7c436",
            "value": 26188
          },
          "model_module_version": "1.5.0"
        },
        "4b8b2191717748428bda87fa36efca49": {
          "model_module": "@jupyter-widgets/controls",
          "model_name": "HTMLModel",
          "state": {
            "_dom_classes": [],
            "_model_module": "@jupyter-widgets/controls",
            "_model_module_version": "1.5.0",
            "_model_name": "HTMLModel",
            "_view_count": null,
            "_view_module": "@jupyter-widgets/controls",
            "_view_module_version": "1.5.0",
            "_view_name": "HTMLView",
            "description": "",
            "description_tooltip": null,
            "layout": "IPY_MODEL_9f479f4733404be3b2935a571c5d8117",
            "placeholder": "​",
            "style": "IPY_MODEL_3aaad281f4a143a9a8e8afaa3bab8725",
            "value": " 26188/41071 [3:42:48&lt;2:05:26,  1.98it/s]"
          },
          "model_module_version": "1.5.0"
        },
        "487a82d8fa644b8d928954c30ffd3c3f": {
          "model_module": "@jupyter-widgets/base",
          "model_name": "LayoutModel",
          "state": {
            "_model_module": "@jupyter-widgets/base",
            "_model_module_version": "1.2.0",
            "_model_name": "LayoutModel",
            "_view_count": null,
            "_view_module": "@jupyter-widgets/base",
            "_view_module_version": "1.2.0",
            "_view_name": "LayoutView",
            "align_content": null,
            "align_items": null,
            "align_self": null,
            "border": null,
            "bottom": null,
            "display": null,
            "flex": null,
            "flex_flow": null,
            "grid_area": null,
            "grid_auto_columns": null,
            "grid_auto_flow": null,
            "grid_auto_rows": null,
            "grid_column": null,
            "grid_gap": null,
            "grid_row": null,
            "grid_template_areas": null,
            "grid_template_columns": null,
            "grid_template_rows": null,
            "height": null,
            "justify_content": null,
            "justify_items": null,
            "left": null,
            "margin": null,
            "max_height": null,
            "max_width": null,
            "min_height": null,
            "min_width": null,
            "object_fit": null,
            "object_position": null,
            "order": null,
            "overflow": null,
            "overflow_x": null,
            "overflow_y": null,
            "padding": null,
            "right": null,
            "top": null,
            "visibility": null,
            "width": null
          },
          "model_module_version": "1.2.0"
        },
        "4a2c339c0c4a4f8294f45784a1d021a1": {
          "model_module": "@jupyter-widgets/base",
          "model_name": "LayoutModel",
          "state": {
            "_model_module": "@jupyter-widgets/base",
            "_model_module_version": "1.2.0",
            "_model_name": "LayoutModel",
            "_view_count": null,
            "_view_module": "@jupyter-widgets/base",
            "_view_module_version": "1.2.0",
            "_view_name": "LayoutView",
            "align_content": null,
            "align_items": null,
            "align_self": null,
            "border": null,
            "bottom": null,
            "display": null,
            "flex": null,
            "flex_flow": null,
            "grid_area": null,
            "grid_auto_columns": null,
            "grid_auto_flow": null,
            "grid_auto_rows": null,
            "grid_column": null,
            "grid_gap": null,
            "grid_row": null,
            "grid_template_areas": null,
            "grid_template_columns": null,
            "grid_template_rows": null,
            "height": null,
            "justify_content": null,
            "justify_items": null,
            "left": null,
            "margin": null,
            "max_height": null,
            "max_width": null,
            "min_height": null,
            "min_width": null,
            "object_fit": null,
            "object_position": null,
            "order": null,
            "overflow": null,
            "overflow_x": null,
            "overflow_y": null,
            "padding": null,
            "right": null,
            "top": null,
            "visibility": null,
            "width": null
          },
          "model_module_version": "1.2.0"
        },
        "8ce7f52e82664f1cb8d740de95f7c436": {
          "model_module": "@jupyter-widgets/controls",
          "model_name": "ProgressStyleModel",
          "state": {
            "_model_module": "@jupyter-widgets/controls",
            "_model_module_version": "1.5.0",
            "_model_name": "ProgressStyleModel",
            "_view_count": null,
            "_view_module": "@jupyter-widgets/base",
            "_view_module_version": "1.2.0",
            "_view_name": "StyleView",
            "bar_color": null,
            "description_width": "initial"
          },
          "model_module_version": "1.5.0"
        },
        "9f479f4733404be3b2935a571c5d8117": {
          "model_module": "@jupyter-widgets/base",
          "model_name": "LayoutModel",
          "state": {
            "_model_module": "@jupyter-widgets/base",
            "_model_module_version": "1.2.0",
            "_model_name": "LayoutModel",
            "_view_count": null,
            "_view_module": "@jupyter-widgets/base",
            "_view_module_version": "1.2.0",
            "_view_name": "LayoutView",
            "align_content": null,
            "align_items": null,
            "align_self": null,
            "border": null,
            "bottom": null,
            "display": null,
            "flex": null,
            "flex_flow": null,
            "grid_area": null,
            "grid_auto_columns": null,
            "grid_auto_flow": null,
            "grid_auto_rows": null,
            "grid_column": null,
            "grid_gap": null,
            "grid_row": null,
            "grid_template_areas": null,
            "grid_template_columns": null,
            "grid_template_rows": null,
            "height": null,
            "justify_content": null,
            "justify_items": null,
            "left": null,
            "margin": null,
            "max_height": null,
            "max_width": null,
            "min_height": null,
            "min_width": null,
            "object_fit": null,
            "object_position": null,
            "order": null,
            "overflow": null,
            "overflow_x": null,
            "overflow_y": null,
            "padding": null,
            "right": null,
            "top": null,
            "visibility": null,
            "width": null
          },
          "model_module_version": "1.2.0"
        },
        "3aaad281f4a143a9a8e8afaa3bab8725": {
          "model_module": "@jupyter-widgets/controls",
          "model_name": "DescriptionStyleModel",
          "state": {
            "_model_module": "@jupyter-widgets/controls",
            "_model_module_version": "1.5.0",
            "_model_name": "DescriptionStyleModel",
            "_view_count": null,
            "_view_module": "@jupyter-widgets/base",
            "_view_module_version": "1.2.0",
            "_view_name": "StyleView",
            "description_width": ""
          },
          "model_module_version": "1.5.0"
        },
        "070d43fb5fa8444fbf7dcafc2d1b7656": {
          "model_module": "@jupyter-widgets/controls",
          "model_name": "HBoxModel",
          "state": {
            "_view_name": "HBoxView",
            "_dom_classes": [],
            "_model_name": "HBoxModel",
            "_view_module": "@jupyter-widgets/controls",
            "_model_module_version": "1.5.0",
            "_view_count": null,
            "_view_module_version": "1.5.0",
            "box_style": "",
            "layout": "IPY_MODEL_f75501b9fa98488e9b402593a302c900",
            "_model_module": "@jupyter-widgets/controls",
            "children": [
              "IPY_MODEL_6d2fb83480fc43f09970f7a80b60d457",
              "IPY_MODEL_627866b26d274309b1dfa5946d199baa"
            ]
          },
          "model_module_version": "1.5.0"
        },
        "f75501b9fa98488e9b402593a302c900": {
          "model_module": "@jupyter-widgets/base",
          "model_name": "LayoutModel",
          "state": {
            "_view_name": "LayoutView",
            "grid_template_rows": null,
            "right": null,
            "justify_content": null,
            "_view_module": "@jupyter-widgets/base",
            "overflow": null,
            "_model_module_version": "1.2.0",
            "_view_count": null,
            "flex_flow": null,
            "width": null,
            "min_width": null,
            "border": null,
            "align_items": null,
            "bottom": null,
            "_model_module": "@jupyter-widgets/base",
            "top": null,
            "grid_column": null,
            "overflow_y": null,
            "overflow_x": null,
            "grid_auto_flow": null,
            "grid_area": null,
            "grid_template_columns": null,
            "flex": null,
            "_model_name": "LayoutModel",
            "justify_items": null,
            "grid_row": null,
            "max_height": null,
            "align_content": null,
            "visibility": null,
            "align_self": null,
            "height": null,
            "min_height": null,
            "padding": null,
            "grid_auto_rows": null,
            "grid_gap": null,
            "max_width": null,
            "order": null,
            "_view_module_version": "1.2.0",
            "grid_template_areas": null,
            "object_position": null,
            "object_fit": null,
            "grid_auto_columns": null,
            "margin": null,
            "display": null,
            "left": null
          },
          "model_module_version": "1.2.0"
        },
        "6d2fb83480fc43f09970f7a80b60d457": {
          "model_module": "@jupyter-widgets/controls",
          "model_name": "FloatProgressModel",
          "state": {
            "_view_name": "ProgressView",
            "style": "IPY_MODEL_4f06c7fcc34e4fea853e6dd8cbd5f17e",
            "_dom_classes": [],
            "description": "",
            "_model_name": "FloatProgressModel",
            "bar_style": "success",
            "max": 1,
            "_view_module": "@jupyter-widgets/controls",
            "_model_module_version": "1.5.0",
            "value": 1,
            "_view_count": null,
            "_view_module_version": "1.5.0",
            "orientation": "horizontal",
            "min": 0,
            "description_tooltip": null,
            "_model_module": "@jupyter-widgets/controls",
            "layout": "IPY_MODEL_f17929a793e14574bd7ad5a22c626499"
          },
          "model_module_version": "1.5.0"
        },
        "627866b26d274309b1dfa5946d199baa": {
          "model_module": "@jupyter-widgets/controls",
          "model_name": "HTMLModel",
          "state": {
            "_view_name": "HTMLView",
            "style": "IPY_MODEL_b53890e7455b43bd82dd8b181c85082a",
            "_dom_classes": [],
            "description": "",
            "_model_name": "HTMLModel",
            "placeholder": "​",
            "_view_module": "@jupyter-widgets/controls",
            "_model_module_version": "1.5.0",
            "value": " 41071/? [00:00&lt;00:00, 85423.97it/s]",
            "_view_count": null,
            "_view_module_version": "1.5.0",
            "description_tooltip": null,
            "_model_module": "@jupyter-widgets/controls",
            "layout": "IPY_MODEL_889506f6687542c1897dcd43d8a66f44"
          },
          "model_module_version": "1.5.0"
        },
        "4f06c7fcc34e4fea853e6dd8cbd5f17e": {
          "model_module": "@jupyter-widgets/controls",
          "model_name": "ProgressStyleModel",
          "state": {
            "_view_name": "StyleView",
            "_model_name": "ProgressStyleModel",
            "description_width": "initial",
            "_view_module": "@jupyter-widgets/base",
            "_model_module_version": "1.5.0",
            "_view_count": null,
            "_view_module_version": "1.2.0",
            "bar_color": null,
            "_model_module": "@jupyter-widgets/controls"
          },
          "model_module_version": "1.5.0"
        },
        "f17929a793e14574bd7ad5a22c626499": {
          "model_module": "@jupyter-widgets/base",
          "model_name": "LayoutModel",
          "state": {
            "_view_name": "LayoutView",
            "grid_template_rows": null,
            "right": null,
            "justify_content": null,
            "_view_module": "@jupyter-widgets/base",
            "overflow": null,
            "_model_module_version": "1.2.0",
            "_view_count": null,
            "flex_flow": null,
            "width": null,
            "min_width": null,
            "border": null,
            "align_items": null,
            "bottom": null,
            "_model_module": "@jupyter-widgets/base",
            "top": null,
            "grid_column": null,
            "overflow_y": null,
            "overflow_x": null,
            "grid_auto_flow": null,
            "grid_area": null,
            "grid_template_columns": null,
            "flex": null,
            "_model_name": "LayoutModel",
            "justify_items": null,
            "grid_row": null,
            "max_height": null,
            "align_content": null,
            "visibility": null,
            "align_self": null,
            "height": null,
            "min_height": null,
            "padding": null,
            "grid_auto_rows": null,
            "grid_gap": null,
            "max_width": null,
            "order": null,
            "_view_module_version": "1.2.0",
            "grid_template_areas": null,
            "object_position": null,
            "object_fit": null,
            "grid_auto_columns": null,
            "margin": null,
            "display": null,
            "left": null
          },
          "model_module_version": "1.2.0"
        },
        "b53890e7455b43bd82dd8b181c85082a": {
          "model_module": "@jupyter-widgets/controls",
          "model_name": "DescriptionStyleModel",
          "state": {
            "_view_name": "StyleView",
            "_model_name": "DescriptionStyleModel",
            "description_width": "",
            "_view_module": "@jupyter-widgets/base",
            "_model_module_version": "1.5.0",
            "_view_count": null,
            "_view_module_version": "1.2.0",
            "_model_module": "@jupyter-widgets/controls"
          },
          "model_module_version": "1.5.0"
        },
        "889506f6687542c1897dcd43d8a66f44": {
          "model_module": "@jupyter-widgets/base",
          "model_name": "LayoutModel",
          "state": {
            "_view_name": "LayoutView",
            "grid_template_rows": null,
            "right": null,
            "justify_content": null,
            "_view_module": "@jupyter-widgets/base",
            "overflow": null,
            "_model_module_version": "1.2.0",
            "_view_count": null,
            "flex_flow": null,
            "width": null,
            "min_width": null,
            "border": null,
            "align_items": null,
            "bottom": null,
            "_model_module": "@jupyter-widgets/base",
            "top": null,
            "grid_column": null,
            "overflow_y": null,
            "overflow_x": null,
            "grid_auto_flow": null,
            "grid_area": null,
            "grid_template_columns": null,
            "flex": null,
            "_model_name": "LayoutModel",
            "justify_items": null,
            "grid_row": null,
            "max_height": null,
            "align_content": null,
            "visibility": null,
            "align_self": null,
            "height": null,
            "min_height": null,
            "padding": null,
            "grid_auto_rows": null,
            "grid_gap": null,
            "max_width": null,
            "order": null,
            "_view_module_version": "1.2.0",
            "grid_template_areas": null,
            "object_position": null,
            "object_fit": null,
            "grid_auto_columns": null,
            "margin": null,
            "display": null,
            "left": null
          },
          "model_module_version": "1.2.0"
        },
        "8c5eaf1995d34721adc9c1839880e40f": {
          "model_module": "@jupyter-widgets/controls",
          "model_name": "HBoxModel",
          "state": {
            "_view_name": "HBoxView",
            "_dom_classes": [],
            "_model_name": "HBoxModel",
            "_view_module": "@jupyter-widgets/controls",
            "_model_module_version": "1.5.0",
            "_view_count": null,
            "_view_module_version": "1.5.0",
            "box_style": "",
            "layout": "IPY_MODEL_80c1bdca86da476888b4405e4ad61c69",
            "_model_module": "@jupyter-widgets/controls",
            "children": [
              "IPY_MODEL_42258d5989f34c3cbc297ab499252ba2",
              "IPY_MODEL_afd2f0226e12486fae710ee4bde35a0b"
            ]
          },
          "model_module_version": "1.5.0"
        },
        "80c1bdca86da476888b4405e4ad61c69": {
          "model_module": "@jupyter-widgets/base",
          "model_name": "LayoutModel",
          "state": {
            "_view_name": "LayoutView",
            "grid_template_rows": null,
            "right": null,
            "justify_content": null,
            "_view_module": "@jupyter-widgets/base",
            "overflow": null,
            "_model_module_version": "1.2.0",
            "_view_count": null,
            "flex_flow": null,
            "width": null,
            "min_width": null,
            "border": null,
            "align_items": null,
            "bottom": null,
            "_model_module": "@jupyter-widgets/base",
            "top": null,
            "grid_column": null,
            "overflow_y": null,
            "overflow_x": null,
            "grid_auto_flow": null,
            "grid_area": null,
            "grid_template_columns": null,
            "flex": null,
            "_model_name": "LayoutModel",
            "justify_items": null,
            "grid_row": null,
            "max_height": null,
            "align_content": null,
            "visibility": null,
            "align_self": null,
            "height": null,
            "min_height": null,
            "padding": null,
            "grid_auto_rows": null,
            "grid_gap": null,
            "max_width": null,
            "order": null,
            "_view_module_version": "1.2.0",
            "grid_template_areas": null,
            "object_position": null,
            "object_fit": null,
            "grid_auto_columns": null,
            "margin": null,
            "display": null,
            "left": null
          },
          "model_module_version": "1.2.0"
        },
        "42258d5989f34c3cbc297ab499252ba2": {
          "model_module": "@jupyter-widgets/controls",
          "model_name": "FloatProgressModel",
          "state": {
            "_view_name": "ProgressView",
            "style": "IPY_MODEL_53f958211ce64cbeb7f3e3dac9390939",
            "_dom_classes": [],
            "description": "",
            "_model_name": "FloatProgressModel",
            "bar_style": "success",
            "max": 1,
            "_view_module": "@jupyter-widgets/controls",
            "_model_module_version": "1.5.0",
            "value": 1,
            "_view_count": null,
            "_view_module_version": "1.5.0",
            "orientation": "horizontal",
            "min": 0,
            "description_tooltip": null,
            "_model_module": "@jupyter-widgets/controls",
            "layout": "IPY_MODEL_2d5ee4fb011e466794f415ddafeaf8cc"
          },
          "model_module_version": "1.5.0"
        },
        "afd2f0226e12486fae710ee4bde35a0b": {
          "model_module": "@jupyter-widgets/controls",
          "model_name": "HTMLModel",
          "state": {
            "_view_name": "HTMLView",
            "style": "IPY_MODEL_9395f18fa65a4c7288e63dbffceff3d2",
            "_dom_classes": [],
            "description": "",
            "_model_name": "HTMLModel",
            "placeholder": "​",
            "_view_module": "@jupyter-widgets/controls",
            "_model_module_version": "1.5.0",
            "value": " 6205/? [00:00&lt;00:00, 61857.01it/s]",
            "_view_count": null,
            "_view_module_version": "1.5.0",
            "description_tooltip": null,
            "_model_module": "@jupyter-widgets/controls",
            "layout": "IPY_MODEL_221704dbf55144e88bab993ececc2a7d"
          },
          "model_module_version": "1.5.0"
        },
        "53f958211ce64cbeb7f3e3dac9390939": {
          "model_module": "@jupyter-widgets/controls",
          "model_name": "ProgressStyleModel",
          "state": {
            "_view_name": "StyleView",
            "_model_name": "ProgressStyleModel",
            "description_width": "initial",
            "_view_module": "@jupyter-widgets/base",
            "_model_module_version": "1.5.0",
            "_view_count": null,
            "_view_module_version": "1.2.0",
            "bar_color": null,
            "_model_module": "@jupyter-widgets/controls"
          },
          "model_module_version": "1.5.0"
        },
        "2d5ee4fb011e466794f415ddafeaf8cc": {
          "model_module": "@jupyter-widgets/base",
          "model_name": "LayoutModel",
          "state": {
            "_view_name": "LayoutView",
            "grid_template_rows": null,
            "right": null,
            "justify_content": null,
            "_view_module": "@jupyter-widgets/base",
            "overflow": null,
            "_model_module_version": "1.2.0",
            "_view_count": null,
            "flex_flow": null,
            "width": null,
            "min_width": null,
            "border": null,
            "align_items": null,
            "bottom": null,
            "_model_module": "@jupyter-widgets/base",
            "top": null,
            "grid_column": null,
            "overflow_y": null,
            "overflow_x": null,
            "grid_auto_flow": null,
            "grid_area": null,
            "grid_template_columns": null,
            "flex": null,
            "_model_name": "LayoutModel",
            "justify_items": null,
            "grid_row": null,
            "max_height": null,
            "align_content": null,
            "visibility": null,
            "align_self": null,
            "height": null,
            "min_height": null,
            "padding": null,
            "grid_auto_rows": null,
            "grid_gap": null,
            "max_width": null,
            "order": null,
            "_view_module_version": "1.2.0",
            "grid_template_areas": null,
            "object_position": null,
            "object_fit": null,
            "grid_auto_columns": null,
            "margin": null,
            "display": null,
            "left": null
          },
          "model_module_version": "1.2.0"
        },
        "9395f18fa65a4c7288e63dbffceff3d2": {
          "model_module": "@jupyter-widgets/controls",
          "model_name": "DescriptionStyleModel",
          "state": {
            "_view_name": "StyleView",
            "_model_name": "DescriptionStyleModel",
            "description_width": "",
            "_view_module": "@jupyter-widgets/base",
            "_model_module_version": "1.5.0",
            "_view_count": null,
            "_view_module_version": "1.2.0",
            "_model_module": "@jupyter-widgets/controls"
          },
          "model_module_version": "1.5.0"
        },
        "221704dbf55144e88bab993ececc2a7d": {
          "model_module": "@jupyter-widgets/base",
          "model_name": "LayoutModel",
          "state": {
            "_view_name": "LayoutView",
            "grid_template_rows": null,
            "right": null,
            "justify_content": null,
            "_view_module": "@jupyter-widgets/base",
            "overflow": null,
            "_model_module_version": "1.2.0",
            "_view_count": null,
            "flex_flow": null,
            "width": null,
            "min_width": null,
            "border": null,
            "align_items": null,
            "bottom": null,
            "_model_module": "@jupyter-widgets/base",
            "top": null,
            "grid_column": null,
            "overflow_y": null,
            "overflow_x": null,
            "grid_auto_flow": null,
            "grid_area": null,
            "grid_template_columns": null,
            "flex": null,
            "_model_name": "LayoutModel",
            "justify_items": null,
            "grid_row": null,
            "max_height": null,
            "align_content": null,
            "visibility": null,
            "align_self": null,
            "height": null,
            "min_height": null,
            "padding": null,
            "grid_auto_rows": null,
            "grid_gap": null,
            "max_width": null,
            "order": null,
            "_view_module_version": "1.2.0",
            "grid_template_areas": null,
            "object_position": null,
            "object_fit": null,
            "grid_auto_columns": null,
            "margin": null,
            "display": null,
            "left": null
          },
          "model_module_version": "1.2.0"
        }
      }
    }
  },
  "cells": [
    {
      "cell_type": "markdown",
      "metadata": {
        "id": "view-in-github",
        "colab_type": "text"
      },
      "source": [
        "<a href=\"https://colab.research.google.com/github/annamuyanli/MehtA-Machine-Learning-Morality-Analysis-on-Terrorism/blob/main/Final_Project.ipynb\" target=\"_parent\"><img src=\"https://colab.research.google.com/assets/colab-badge.svg\" alt=\"Open In Colab\"/></a>"
      ]
    },
    {
      "cell_type": "code",
      "metadata": {
        "colab": {
          "base_uri": "https://localhost:8080/"
        },
        "id": "fcOPbYscH9Ch",
        "outputId": "955163de-e64c-4af8-9912-fca0e8526267"
      },
      "source": [
        "from google.colab import drive\n",
        "drive.mount('/content/drive')"
      ],
      "execution_count": null,
      "outputs": [
        {
          "output_type": "stream",
          "text": [
            "Mounted at /content/drive\n"
          ],
          "name": "stdout"
        }
      ]
    },
    {
      "cell_type": "code",
      "metadata": {
        "colab": {
          "base_uri": "https://localhost:8080/"
        },
        "id": "HylouP0mG962",
        "outputId": "cc4ed589-7282-40e7-e3f4-e5c88e9102bf"
      },
      "source": [
        "import json\n",
        "import requests\n",
        "from pandas import json_normalize\n",
        "import os\n",
        "import pandas as pd\n",
        "import numpy as np\n",
        "import spacy\n",
        "sp = spacy.load('en_core_web_sm')\n",
        "import gensim\n",
        "from gensim.models import Word2Vec\n",
        "import gensim.downloader\n",
        "from tqdm.notebook import tqdm\n",
        "from sklearn.model_selection import train_test_split\n",
        "from sklearn import svm\n",
        "import functools\n",
        "import operator\n",
        "from sklearn.metrics import accuracy_score\n",
        "import requests\n",
        "from sklearn.neighbors import KNeighborsClassifier\n",
        "import statistics\n",
        "from sklearn.feature_extraction.text import TfidfVectorizer\n",
        "from sklearn.datasets import make_multilabel_classification\n",
        "!pip3 install nltk\n",
        "import nltk\n",
        "nltk.download('words')\n",
        "from nltk.corpus import words"
      ],
      "execution_count": null,
      "outputs": [
        {
          "output_type": "stream",
          "text": [
            "Requirement already satisfied: nltk in /usr/local/lib/python3.7/dist-packages (3.2.5)\n",
            "Requirement already satisfied: six in /usr/local/lib/python3.7/dist-packages (from nltk) (1.15.0)\n",
            "[nltk_data] Downloading package words to /root/nltk_data...\n",
            "[nltk_data]   Unzipping corpora/words.zip.\n"
          ],
          "name": "stdout"
        }
      ]
    },
    {
      "cell_type": "markdown",
      "metadata": {
        "id": "-bIaUR_qhpLg"
      },
      "source": [
        "#Preprocessing"
      ]
    },
    {
      "cell_type": "markdown",
      "metadata": {
        "id": "gy9ZjC1MyLVl"
      },
      "source": [
        "##Preprocessing of our own dataset"
      ]
    },
    {
      "cell_type": "code",
      "metadata": {
        "colab": {
          "base_uri": "https://localhost:8080/"
        },
        "id": "DQS-HpcWH72f",
        "outputId": "7f06a7aa-f9b4-4781-ad5b-7fa08ca3f707"
      },
      "source": [
        "#!unzip \"/content/drive/MyDrive/DHML/Final Project/El_Paso_Attack.zip\" -d \"/content/drive/MyDrive/DHML/Final Project/El_Paso\"\n",
        "#!unzip \"/content/drive/MyDrive/DHML/Final Project/Vegas_Attack.zip\" -d \"/content/drive/MyDrive/DHML/Final Project/Vegas\""
      ],
      "execution_count": null,
      "outputs": [
        {
          "output_type": "stream",
          "text": [
            "Archive:  /content/drive/MyDrive/DHML/Final Project/El_Paso_Attack.zip\n",
            "replace /content/drive/MyDrive/DHML/Final Project/El_Paso/El Paso Attack/users_1157748115132309509.json? [y]es, [n]o, [A]ll, [N]one, [r]ename: Archive:  /content/drive/MyDrive/DHML/Final Project/Vegas_Attack.zip\n",
            "replace /content/drive/MyDrive/DHML/Final Project/Vegas/Vegas Attack/Vegas Attack Data/users_915072754143186946.json? [y]es, [n]o, [A]ll, [N]one, [r]ename: "
          ],
          "name": "stdout"
        }
      ]
    },
    {
      "cell_type": "code",
      "metadata": {
        "id": "dKWMauWTVeyw"
      },
      "source": [
        "def to_df (path_name, file_path):\n",
        "  with open(file_path + \"/\" + path_name) as json_data:\n",
        "    data=json.load(json_data)\n",
        "    df=pd.DataFrame(data[\"tweets\"])\n",
        "    df = df[df[\"lang\"]==\"en\"]\n",
        "    df=df[['created_at','text']]\n",
        "    return df"
      ],
      "execution_count": null,
      "outputs": []
    },
    {
      "cell_type": "code",
      "metadata": {
        "id": "MpdwNDu9zWqw"
      },
      "source": [
        "def preprocessing (file_path):\n",
        "  json_file = os.listdir(file_path)\n",
        "  df=to_df(json_file[0], file_path)\n",
        "  for i in range(1, len(json_file)):\n",
        "    if json_file[i].startswith(\"users\"):\n",
        "      df2=to_df(json_file[i], file_path)\n",
        "      df=df.append(df2,ignore_index=True)\n",
        "  return df"
      ],
      "execution_count": null,
      "outputs": []
    },
    {
      "cell_type": "code",
      "metadata": {
        "id": "JoVY_jGd1VRC"
      },
      "source": [
        "#df_ElPaso = preprocessing(\"/content/drive/MyDrive/DHML/Final Project/El_Paso/El Paso Attack\")"
      ],
      "execution_count": null,
      "outputs": []
    },
    {
      "cell_type": "code",
      "metadata": {
        "id": "ig-wl-9nqzE8"
      },
      "source": [
        "#df_ElPaso.to_csv(\"El_Paso_Final.csv\") \n",
        "#!cp El_Paso_Final.csv \"/content/drive/MyDrive/DHML/Final Project\""
      ],
      "execution_count": null,
      "outputs": []
    },
    {
      "cell_type": "code",
      "metadata": {
        "id": "GS5Uf2FXwUjO"
      },
      "source": [
        "#df_Vegas = preprocessing(\"/content/drive/MyDrive/DHML/Final Project/Vegas/Vegas Attack/Vegas Attack Data\")"
      ],
      "execution_count": null,
      "outputs": []
    },
    {
      "cell_type": "code",
      "metadata": {
        "id": "2qOunC_OHrKx"
      },
      "source": [
        "#df_Vegas.to_csv(\"Vegas_Final.csv\") \n",
        "#!cp Vegas_Final.csv \"/content/drive/MyDrive/DHML/Final Project\""
      ],
      "execution_count": null,
      "outputs": []
    },
    {
      "cell_type": "markdown",
      "metadata": {
        "id": "tsFh-eO796WP"
      },
      "source": [
        "## Our training & testing data"
      ]
    },
    {
      "cell_type": "code",
      "metadata": {
        "id": "335Nazt9-CCx"
      },
      "source": [
        "own1 = pd.read_csv(\"/content/drive/MyDrive/DHML/Final Project/El_Paso_Final_annotate.csv\")\n",
        "own2 = pd.read_csv(\"/content/drive/MyDrive/DHML/Final Project/Vegas_Final_annotate.csv\")\n",
        "own1 = own1.dropna()\n",
        "#print(own1)\n",
        "own2 = own2.dropna()\n",
        "#print(own2)\n",
        "df = pd.concat([own1, own2])\n",
        "df = df.drop([\"Unnamed: 0\"], axis = 1)"
      ],
      "execution_count": null,
      "outputs": []
    },
    {
      "cell_type": "markdown",
      "metadata": {
        "id": "NU5u77r__Ii6"
      },
      "source": [
        "#Get features:\n",
        "\n",
        "num of word associated, length of sentence, maximum similarity, number of hashtages, TF-IDF"
      ]
    },
    {
      "cell_type": "markdown",
      "metadata": {
        "id": "O6EYyo1EV2ug"
      },
      "source": [
        "###Word 2 Vec"
      ]
    },
    {
      "cell_type": "code",
      "metadata": {
        "id": "QxfuTf25Jpme",
        "colab": {
          "base_uri": "https://localhost:8080/"
        },
        "outputId": "3abed015-fb11-424f-99e5-0da08c4f1757"
      },
      "source": [
        "model = gensim.downloader.load('word2vec-google-news-300')"
      ],
      "execution_count": null,
      "outputs": [
        {
          "output_type": "stream",
          "text": [
            "[==================================================] 100.0% 1662.8/1662.8MB downloaded\n"
          ],
          "name": "stdout"
        }
      ]
    },
    {
      "cell_type": "markdown",
      "metadata": {
        "id": "KakVGK76V66T"
      },
      "source": [
        "### TF-IDF"
      ]
    },
    {
      "cell_type": "code",
      "metadata": {
        "id": "CJbn1GLh_wfJ"
      },
      "source": [
        "def tfidf (data, data2, category):\n",
        "  corpus = []\n",
        "  for row in data2:\n",
        "    corpus.append(row)\n",
        "    #corpus.append(\" \".join([word for word in row.split() if word in words.words()]))\n",
        "  for row in tqdm(data):\n",
        "    corpus.append(row)\n",
        "    #corpus.append(\" \".join([word for word in row.split() if word in words.words()]))\n",
        "  vectorizer = TfidfVectorizer(token_pattern=r\"\\b[a-z][a-z]+\\b\")\n",
        "  X = vectorizer.fit_transform(corpus)\n",
        "  result = pd.DataFrame(X.toarray())\n",
        "  #print(result)\n",
        "  list_word = vectorizer.get_feature_names()\n",
        "  print(list_word)\n",
        "  add_column = []\n",
        "  for word in tqdm(list_word):\n",
        "    if word in words.words():\n",
        "      index = list_word.index(word)\n",
        "      add_column.append(index)\n",
        "  result = result[add_column]\n",
        "  #print(list_word)\n",
        "  return result\n",
        "  #print(X.toarray)\n",
        "  #print(X.shape)"
      ],
      "execution_count": null,
      "outputs": []
    },
    {
      "cell_type": "code",
      "metadata": {
        "id": "4gXG_dInPg_V"
      },
      "source": [
        "Vegas = Vegas.dropna()"
      ],
      "execution_count": null,
      "outputs": []
    },
    {
      "cell_type": "code",
      "metadata": {
        "id": "JdlZq4MaApdL"
      },
      "source": [
        "tfidf_num = tfidf(ElPaso[\"text\"], Vegas[\"text\"], care1)\n",
        "tfidf_num.to_csv(\"tfidf.csv\") \n",
        "!cp tfidf.csv \"/content/drive/MyDrive/DHML/Final Project\""
      ],
      "execution_count": null,
      "outputs": []
    },
    {
      "cell_type": "markdown",
      "metadata": {
        "id": "fSNs1XAiWDdn"
      },
      "source": [
        "### Get features and Labels"
      ]
    },
    {
      "cell_type": "code",
      "metadata": {
        "id": "NZs4sJX0Tut7"
      },
      "source": [
        "TFIDF = pd.read_csv(\"/content/drive/MyDrive/DHML/Final Project/tfidf.csv\")"
      ],
      "execution_count": null,
      "outputs": []
    },
    {
      "cell_type": "code",
      "metadata": {
        "id": "b3s0rGlpHDS4"
      },
      "source": [
        "def get_x(data, category, category_name):\n",
        "  list_num = []\n",
        "  list_len = []\n",
        "  list_n = []\n",
        "  list_hashtag = []\n",
        "  for row in tqdm(data[\"text\"].values):\n",
        "    #print(row)\n",
        "    num = 0\n",
        "    ns = []\n",
        "    hashtag = 0\n",
        "    try:\n",
        "      #print(row.split())\n",
        "      for word in row.split():\n",
        "        #print(word)\n",
        "        if \"#\" in word:\n",
        "          hashtag += 1\n",
        "        if word not in model:\n",
        "          continue\n",
        "        for phrases in category:\n",
        "          if phrases not in model:\n",
        "            continue\n",
        "          n = model.similarity(phrases, word)\n",
        "          if n > 0.25: \n",
        "            num += 1\n",
        "            ns.append(n)\n",
        "    except:\n",
        "      list_n.append(0)\n",
        "      list_num.append(0)\n",
        "      list_len.append(0)\n",
        "      list_hashtag.append(0)\n",
        "      continue\n",
        "    if not ns:\n",
        "      list_n.append(0)\n",
        "    else:\n",
        "      list_n.append(max(ns))\n",
        "    list_num.append(num)\n",
        "    list_len.append(len(row.split()))\n",
        "    list_hashtag.append(hashtag)\n",
        "  x = pd.DataFrame({\"length\": list_len, \"hastages\": list_hashtag, (\"num \"+str(category_name)): list_num, (\"max_n \"+str(category_name)): list_n})\n",
        "  #print(x)\n",
        "  return x"
      ],
      "execution_count": null,
      "outputs": []
    },
    {
      "cell_type": "code",
      "metadata": {
        "id": "jDJ8zAWQbwE7"
      },
      "source": [
        "def get_y(category):\n",
        "  y = df[category]\n",
        "  return y"
      ],
      "execution_count": null,
      "outputs": []
    },
    {
      "cell_type": "code",
      "metadata": {
        "id": "nfQcX6b9kQ8x"
      },
      "source": [
        "def get_x_2(data, category, category_name):\n",
        "  list_num = []\n",
        "  list_n = []\n",
        "  for row in tqdm(data[\"text\"].values):\n",
        "    #print(row)\n",
        "    num = 0\n",
        "    ns = []\n",
        "    hashtag = 0\n",
        "    try:\n",
        "      for word in row.split():\n",
        "        #print(word)\n",
        "        if word not in model:\n",
        "          continue\n",
        "        for phrases in category:\n",
        "          if phrases not in model:\n",
        "            continue\n",
        "          n = model.similarity(phrases, word)\n",
        "          if n > 0.25: \n",
        "            num += 1\n",
        "            ns.append(n)\n",
        "    except:\n",
        "      list_num.append(0)\n",
        "      list_n.append(0)\n",
        "      continue\n",
        "    if not ns:\n",
        "      list_n.append(0)\n",
        "    else:\n",
        "      list_n.append(max(ns))\n",
        "    list_num.append(num)\n",
        "  x = pd.DataFrame({(\"num \"+str(category_name)): list_num, (\"max_n \"+str(category_name)): list_n})\n",
        "  #print(x)\n",
        "  return x"
      ],
      "execution_count": null,
      "outputs": []
    },
    {
      "cell_type": "markdown",
      "metadata": {
        "id": "rIvw7vTUBF0d"
      },
      "source": [
        "#Data"
      ]
    },
    {
      "cell_type": "code",
      "metadata": {
        "id": "PoDH1oOnz6s2"
      },
      "source": [
        "care1 = [\"safe\", \"peace\", \"compassion\", \"empath\", \"sympathy\", \"care\", \"caring\", \"protect\", \"shield\", \"shelter\", \"amity\", \"secure\", \"benefit\", \"defense\", \"guard\", \"preserve\", \"harm\", \"suffer\", \"war\", \"wars\", \"warring\", \"fight\", \"violent\", \"hurt\", \"kill\", \"kills\", \"killer\", \"killed\", \"killing\", \"endanger\", \"cruel\", \"brutal\", \"abuse\", \"damage\", \"ruin\", \"ravage\", \"detriment\", \"crush\", \"attack\", \"annihilate\", \"destroy\", \"stomp\", \"abandon\", \"spurn\", \"impair\", \"exploit\", \"exploits\", \"exploited\", \"exploiting\", \"wound\"]\n",
        "\n",
        "fairness1 = [\"fair\",\"fairly\",\"fairness\",\"fairmind\",\"fairplay\",\"equal\",\"justice\",\"justness\",\"justification\",\"reciprocate\",\"impartial\",\"egalitar\",\"rights\",\"equity\",\"evenness\",\"equivalent\",\"unbias\",\"tolerant\",\"equable\",\"balance\",\"homologous\",\"unprejudice\",\"reasonable\",\"constant\",\"honest\", \"unfair\",\"unequal\",\"bias\",\"unjust\",\"injust\",\"bigotry\",\"discriminate\",\"disproportion\",\"inequitable\",\"prejudice\",\"dishonest\",\"unscrupulous\",\"dissociate\",\"preference\",\"favoritism\",\"segregate\",\"exclusion\",\"exclude\"]\n",
        "\n",
        "in_group1 = [\"segregate\", \"together\", \"nation\", \"homeland\", \"family\", \"families\", \"familial\", \"group\", \"loyal\", \"patriot\", \"communal\", \"commune\", \"community\", \"communist\", \"comrade\", \"cadre\", \"collective\", \"joint\", \"unison\", \"unite\", \"fellow\", \"guild\", \"solidarity\", \"devote\", \"member\", \"clique\", \"cohort\", \"ally\", \"insider\", \"abandon\", \"foreign\", \"betray\", \"treason\", \"traitor\", \"treacherous\", \"disloyal\", \"individual\", \"apostasy\", \"apostate\", \"deserted\", \"deserter\", \"deserting\", \"deceive\", \"jilt \", \"imposter\", \"miscreant\", \"spy\", \"sequester\", \"renegade\", \"terrorist\", \"immigrant\", \"racist\"]\n",
        "\n",
        "authority1 = [\"obey\", \"obedient\", \"duty\", \"law\", \"lawful\", \"legal\", \"duty\", \"honor\", \"respect\", \"respectful\", \"respected\", \"respects\", \"order\", \"father\", \"mother\", \"mother\", \"mothering\", \"mothers\", \"tradition\", \"hierarchy\", \"authority\", \"permit\", \"permission\",\"status\", \"rank\", \"leader\", \"class\", \"bourgeoisie\", \"caste\", \"position\", \"compliant\", \"command\", \"supremacy\", \"control\",\"submit\", \"allegiant\", \"serve\", \"abide\", \"deference\", \"defer\", \"reverence \", \"veneration\", \"comply\", \"betray*\", \"treason\", \"traitor\", \"treachery\", \"disloyal\", \"individual\", \"apostasy\", \"apostate\", \"deserted\", \"deserter\",\"deserting\", \"defiant\", \"rebel\", \"dissent\", \"subvert\", \"disrespect\", \"disobedient*\", \"sedition\", \"agitation\", \"insubordination\",\"illegal\", \"lawless\", \"insurgent\", \"mutinous\", \"defy\", \"dissident\", \"unfaithful\", \"alienate\", \"defector\", \"heretic\",\"nonconformist\", \"oppose\", \"protest\", \"refuse\", \"denounce\", \"remonstrate\", \"riot\", \"obstruct\"]\n",
        "\n",
        "purity1 = [\"piety\", \"pious\", \"purity\", \"pure\", \"clean\", \"sterile\", \"sacred\", \"chaste\", \"holy\", \"holiness\", \"saint\", \"wholesome\",\"celibate\", \"abstention\", \"virgin\", \"virgins\", \"virginity\", \"virginal\", \"austerity\", \"integrity\", \"modesty\", \"abstinence\",\"abstemiousness\", \"upright\", \"limpid\", \"unadulterated\" , \"maiden\", \"virtuous\", \"refined\", \"immaculate\", \"innocent\",\"pristine\", \"church\", \"apostasy\", \"heretic\", \"disgust\", \"depraved\", \"disease\", \"unclean\", \"contagious\" , \"indecent\", \"sin\", \"sinful\", \"sinner\", \"sins\", \"sinned\",\"sinning\", \"slut\", \"whore\", \"dirt\", \"impiety\", \"impious\", \"profane\", \"gross\", \"repulsive\", \"sick*\", \"promiscuous*\", \"lewd\",\"adultery\", \"debauchery*\", \"defile\", \"tramp\", \"prostitute\", \"unchaste\", \"intemperate\", \"wanton\", \"profligate\", \"filth\",\"trashy\", \"obscene\", \"lax\", \"tainted\", \"stain\", \"tarnish\", \"debased\", \"desecrate\", \"wicked\", \"blemish\", \"exploitation\",\"pervert\", \"wretched\"]"
      ],
      "execution_count": null,
      "outputs": []
    },
    {
      "cell_type": "code",
      "metadata": {
        "id": "V5g8uvAFZLqU"
      },
      "source": [
        "ElPaso = pd.read_csv(\"/content/drive/MyDrive/DHML/Final Project/El_Paso_Final.csv\")\n",
        "Vegas = pd.read_csv(\"/content/drive/MyDrive/DHML/Final Project/Vegas_Final.csv\")"
      ],
      "execution_count": null,
      "outputs": []
    },
    {
      "cell_type": "markdown",
      "metadata": {
        "id": "gO-xTDnUBIrV"
      },
      "source": [
        "## Random Processing"
      ]
    },
    {
      "cell_type": "code",
      "metadata": {
        "id": "YfpnHIHapfTZ"
      },
      "source": [
        "TFIDF_training = pd.concat([TFIDF[6204:6704], TFIDF.head(398)])"
      ],
      "execution_count": null,
      "outputs": []
    },
    {
      "cell_type": "code",
      "metadata": {
        "id": "WDS3M37XL7ZE"
      },
      "source": [
        "TFIDF_training = TFIDF_training.drop([\"Unnamed: 0\"], axis = 1)"
      ],
      "execution_count": null,
      "outputs": []
    },
    {
      "cell_type": "code",
      "metadata": {
        "id": "rCheBuLJMLmt"
      },
      "source": [
        "TFIDF_training.reset_index(drop=True, inplace=True)"
      ],
      "execution_count": null,
      "outputs": []
    },
    {
      "cell_type": "code",
      "metadata": {
        "colab": {
          "base_uri": "https://localhost:8080/",
          "height": 439
        },
        "id": "iORrjD_OMVxc",
        "outputId": "e6803638-e914-4640-87ac-0423c439b4a0"
      },
      "source": [
        "TFIDF_training"
      ],
      "execution_count": null,
      "outputs": [
        {
          "output_type": "execute_result",
          "data": {
            "text/html": [
              "<div>\n",
              "<style scoped>\n",
              "    .dataframe tbody tr th:only-of-type {\n",
              "        vertical-align: middle;\n",
              "    }\n",
              "\n",
              "    .dataframe tbody tr th {\n",
              "        vertical-align: top;\n",
              "    }\n",
              "\n",
              "    .dataframe thead th {\n",
              "        text-align: right;\n",
              "    }\n",
              "</style>\n",
              "<table border=\"1\" class=\"dataframe\">\n",
              "  <thead>\n",
              "    <tr style=\"text-align: right;\">\n",
              "      <th></th>\n",
              "      <th>10</th>\n",
              "      <th>20</th>\n",
              "      <th>25</th>\n",
              "      <th>30</th>\n",
              "      <th>31</th>\n",
              "      <th>32</th>\n",
              "      <th>33</th>\n",
              "      <th>35</th>\n",
              "      <th>39</th>\n",
              "      <th>40</th>\n",
              "      <th>42</th>\n",
              "      <th>43</th>\n",
              "      <th>45</th>\n",
              "      <th>47</th>\n",
              "      <th>51</th>\n",
              "      <th>56</th>\n",
              "      <th>57</th>\n",
              "      <th>58</th>\n",
              "      <th>59</th>\n",
              "      <th>60</th>\n",
              "      <th>62</th>\n",
              "      <th>63</th>\n",
              "      <th>64</th>\n",
              "      <th>67</th>\n",
              "      <th>68</th>\n",
              "      <th>69</th>\n",
              "      <th>70</th>\n",
              "      <th>72</th>\n",
              "      <th>76</th>\n",
              "      <th>77</th>\n",
              "      <th>79</th>\n",
              "      <th>80</th>\n",
              "      <th>81</th>\n",
              "      <th>84</th>\n",
              "      <th>85</th>\n",
              "      <th>86</th>\n",
              "      <th>87</th>\n",
              "      <th>90</th>\n",
              "      <th>91</th>\n",
              "      <th>93</th>\n",
              "      <th>...</th>\n",
              "      <th>18381</th>\n",
              "      <th>18383</th>\n",
              "      <th>18386</th>\n",
              "      <th>18390</th>\n",
              "      <th>18391</th>\n",
              "      <th>18393</th>\n",
              "      <th>18405</th>\n",
              "      <th>18406</th>\n",
              "      <th>18407</th>\n",
              "      <th>18408</th>\n",
              "      <th>18409</th>\n",
              "      <th>18410</th>\n",
              "      <th>18413</th>\n",
              "      <th>18418</th>\n",
              "      <th>18420</th>\n",
              "      <th>18421</th>\n",
              "      <th>18424</th>\n",
              "      <th>18425</th>\n",
              "      <th>18426</th>\n",
              "      <th>18429</th>\n",
              "      <th>18433</th>\n",
              "      <th>18466</th>\n",
              "      <th>18469</th>\n",
              "      <th>18470</th>\n",
              "      <th>18477</th>\n",
              "      <th>18478</th>\n",
              "      <th>18480</th>\n",
              "      <th>18482</th>\n",
              "      <th>18484</th>\n",
              "      <th>18486</th>\n",
              "      <th>18488</th>\n",
              "      <th>18489</th>\n",
              "      <th>18490</th>\n",
              "      <th>18491</th>\n",
              "      <th>18499</th>\n",
              "      <th>18544</th>\n",
              "      <th>18551</th>\n",
              "      <th>18552</th>\n",
              "      <th>18580</th>\n",
              "      <th>18582</th>\n",
              "    </tr>\n",
              "  </thead>\n",
              "  <tbody>\n",
              "    <tr>\n",
              "      <th>0</th>\n",
              "      <td>0.0</td>\n",
              "      <td>0.0</td>\n",
              "      <td>0.0</td>\n",
              "      <td>0.0</td>\n",
              "      <td>0.0</td>\n",
              "      <td>0.0</td>\n",
              "      <td>0.0</td>\n",
              "      <td>0.0</td>\n",
              "      <td>0.0</td>\n",
              "      <td>0.0</td>\n",
              "      <td>0.0</td>\n",
              "      <td>0.0</td>\n",
              "      <td>0.000000</td>\n",
              "      <td>0.0</td>\n",
              "      <td>0.0</td>\n",
              "      <td>0.0</td>\n",
              "      <td>0.0</td>\n",
              "      <td>0.0</td>\n",
              "      <td>0.0</td>\n",
              "      <td>0.0</td>\n",
              "      <td>0.0</td>\n",
              "      <td>0.0</td>\n",
              "      <td>0.0</td>\n",
              "      <td>0.0</td>\n",
              "      <td>0.0</td>\n",
              "      <td>0.0</td>\n",
              "      <td>0.0</td>\n",
              "      <td>0.0</td>\n",
              "      <td>0.0</td>\n",
              "      <td>0.0</td>\n",
              "      <td>0.0</td>\n",
              "      <td>0.0</td>\n",
              "      <td>0.0</td>\n",
              "      <td>0.0</td>\n",
              "      <td>0.0</td>\n",
              "      <td>0.0</td>\n",
              "      <td>0.0</td>\n",
              "      <td>0.0</td>\n",
              "      <td>0.0</td>\n",
              "      <td>0.0</td>\n",
              "      <td>...</td>\n",
              "      <td>0.0</td>\n",
              "      <td>0.0</td>\n",
              "      <td>0.0</td>\n",
              "      <td>0.0</td>\n",
              "      <td>0.0</td>\n",
              "      <td>0.0</td>\n",
              "      <td>0.0</td>\n",
              "      <td>0.0</td>\n",
              "      <td>0.0</td>\n",
              "      <td>0.0</td>\n",
              "      <td>0.0</td>\n",
              "      <td>0.0</td>\n",
              "      <td>0.0</td>\n",
              "      <td>0.0</td>\n",
              "      <td>0.0</td>\n",
              "      <td>0.0</td>\n",
              "      <td>0.0</td>\n",
              "      <td>0.0</td>\n",
              "      <td>0.0</td>\n",
              "      <td>0.0</td>\n",
              "      <td>0.0</td>\n",
              "      <td>0.0</td>\n",
              "      <td>0.0</td>\n",
              "      <td>0.0</td>\n",
              "      <td>0.0</td>\n",
              "      <td>0.0</td>\n",
              "      <td>0.000000</td>\n",
              "      <td>0.0</td>\n",
              "      <td>0.0</td>\n",
              "      <td>0.0</td>\n",
              "      <td>0.0</td>\n",
              "      <td>0.0</td>\n",
              "      <td>0.0</td>\n",
              "      <td>0.0</td>\n",
              "      <td>0.0</td>\n",
              "      <td>0.0</td>\n",
              "      <td>0.0</td>\n",
              "      <td>0.0</td>\n",
              "      <td>0.0</td>\n",
              "      <td>0.0</td>\n",
              "    </tr>\n",
              "    <tr>\n",
              "      <th>1</th>\n",
              "      <td>0.0</td>\n",
              "      <td>0.0</td>\n",
              "      <td>0.0</td>\n",
              "      <td>0.0</td>\n",
              "      <td>0.0</td>\n",
              "      <td>0.0</td>\n",
              "      <td>0.0</td>\n",
              "      <td>0.0</td>\n",
              "      <td>0.0</td>\n",
              "      <td>0.0</td>\n",
              "      <td>0.0</td>\n",
              "      <td>0.0</td>\n",
              "      <td>0.000000</td>\n",
              "      <td>0.0</td>\n",
              "      <td>0.0</td>\n",
              "      <td>0.0</td>\n",
              "      <td>0.0</td>\n",
              "      <td>0.0</td>\n",
              "      <td>0.0</td>\n",
              "      <td>0.0</td>\n",
              "      <td>0.0</td>\n",
              "      <td>0.0</td>\n",
              "      <td>0.0</td>\n",
              "      <td>0.0</td>\n",
              "      <td>0.0</td>\n",
              "      <td>0.0</td>\n",
              "      <td>0.0</td>\n",
              "      <td>0.0</td>\n",
              "      <td>0.0</td>\n",
              "      <td>0.0</td>\n",
              "      <td>0.0</td>\n",
              "      <td>0.0</td>\n",
              "      <td>0.0</td>\n",
              "      <td>0.0</td>\n",
              "      <td>0.0</td>\n",
              "      <td>0.0</td>\n",
              "      <td>0.0</td>\n",
              "      <td>0.0</td>\n",
              "      <td>0.0</td>\n",
              "      <td>0.0</td>\n",
              "      <td>...</td>\n",
              "      <td>0.0</td>\n",
              "      <td>0.0</td>\n",
              "      <td>0.0</td>\n",
              "      <td>0.0</td>\n",
              "      <td>0.0</td>\n",
              "      <td>0.0</td>\n",
              "      <td>0.0</td>\n",
              "      <td>0.0</td>\n",
              "      <td>0.0</td>\n",
              "      <td>0.0</td>\n",
              "      <td>0.0</td>\n",
              "      <td>0.0</td>\n",
              "      <td>0.0</td>\n",
              "      <td>0.0</td>\n",
              "      <td>0.0</td>\n",
              "      <td>0.0</td>\n",
              "      <td>0.0</td>\n",
              "      <td>0.0</td>\n",
              "      <td>0.0</td>\n",
              "      <td>0.0</td>\n",
              "      <td>0.0</td>\n",
              "      <td>0.0</td>\n",
              "      <td>0.0</td>\n",
              "      <td>0.0</td>\n",
              "      <td>0.0</td>\n",
              "      <td>0.0</td>\n",
              "      <td>0.000000</td>\n",
              "      <td>0.0</td>\n",
              "      <td>0.0</td>\n",
              "      <td>0.0</td>\n",
              "      <td>0.0</td>\n",
              "      <td>0.0</td>\n",
              "      <td>0.0</td>\n",
              "      <td>0.0</td>\n",
              "      <td>0.0</td>\n",
              "      <td>0.0</td>\n",
              "      <td>0.0</td>\n",
              "      <td>0.0</td>\n",
              "      <td>0.0</td>\n",
              "      <td>0.0</td>\n",
              "    </tr>\n",
              "    <tr>\n",
              "      <th>2</th>\n",
              "      <td>0.0</td>\n",
              "      <td>0.0</td>\n",
              "      <td>0.0</td>\n",
              "      <td>0.0</td>\n",
              "      <td>0.0</td>\n",
              "      <td>0.0</td>\n",
              "      <td>0.0</td>\n",
              "      <td>0.0</td>\n",
              "      <td>0.0</td>\n",
              "      <td>0.0</td>\n",
              "      <td>0.0</td>\n",
              "      <td>0.0</td>\n",
              "      <td>0.100113</td>\n",
              "      <td>0.0</td>\n",
              "      <td>0.0</td>\n",
              "      <td>0.0</td>\n",
              "      <td>0.0</td>\n",
              "      <td>0.0</td>\n",
              "      <td>0.0</td>\n",
              "      <td>0.0</td>\n",
              "      <td>0.0</td>\n",
              "      <td>0.0</td>\n",
              "      <td>0.0</td>\n",
              "      <td>0.0</td>\n",
              "      <td>0.0</td>\n",
              "      <td>0.0</td>\n",
              "      <td>0.0</td>\n",
              "      <td>0.0</td>\n",
              "      <td>0.0</td>\n",
              "      <td>0.0</td>\n",
              "      <td>0.0</td>\n",
              "      <td>0.0</td>\n",
              "      <td>0.0</td>\n",
              "      <td>0.0</td>\n",
              "      <td>0.0</td>\n",
              "      <td>0.0</td>\n",
              "      <td>0.0</td>\n",
              "      <td>0.0</td>\n",
              "      <td>0.0</td>\n",
              "      <td>0.0</td>\n",
              "      <td>...</td>\n",
              "      <td>0.0</td>\n",
              "      <td>0.0</td>\n",
              "      <td>0.0</td>\n",
              "      <td>0.0</td>\n",
              "      <td>0.0</td>\n",
              "      <td>0.0</td>\n",
              "      <td>0.0</td>\n",
              "      <td>0.0</td>\n",
              "      <td>0.0</td>\n",
              "      <td>0.0</td>\n",
              "      <td>0.0</td>\n",
              "      <td>0.0</td>\n",
              "      <td>0.0</td>\n",
              "      <td>0.0</td>\n",
              "      <td>0.0</td>\n",
              "      <td>0.0</td>\n",
              "      <td>0.0</td>\n",
              "      <td>0.0</td>\n",
              "      <td>0.0</td>\n",
              "      <td>0.0</td>\n",
              "      <td>0.0</td>\n",
              "      <td>0.0</td>\n",
              "      <td>0.0</td>\n",
              "      <td>0.0</td>\n",
              "      <td>0.0</td>\n",
              "      <td>0.0</td>\n",
              "      <td>0.000000</td>\n",
              "      <td>0.0</td>\n",
              "      <td>0.0</td>\n",
              "      <td>0.0</td>\n",
              "      <td>0.0</td>\n",
              "      <td>0.0</td>\n",
              "      <td>0.0</td>\n",
              "      <td>0.0</td>\n",
              "      <td>0.0</td>\n",
              "      <td>0.0</td>\n",
              "      <td>0.0</td>\n",
              "      <td>0.0</td>\n",
              "      <td>0.0</td>\n",
              "      <td>0.0</td>\n",
              "    </tr>\n",
              "    <tr>\n",
              "      <th>3</th>\n",
              "      <td>0.0</td>\n",
              "      <td>0.0</td>\n",
              "      <td>0.0</td>\n",
              "      <td>0.0</td>\n",
              "      <td>0.0</td>\n",
              "      <td>0.0</td>\n",
              "      <td>0.0</td>\n",
              "      <td>0.0</td>\n",
              "      <td>0.0</td>\n",
              "      <td>0.0</td>\n",
              "      <td>0.0</td>\n",
              "      <td>0.0</td>\n",
              "      <td>0.000000</td>\n",
              "      <td>0.0</td>\n",
              "      <td>0.0</td>\n",
              "      <td>0.0</td>\n",
              "      <td>0.0</td>\n",
              "      <td>0.0</td>\n",
              "      <td>0.0</td>\n",
              "      <td>0.0</td>\n",
              "      <td>0.0</td>\n",
              "      <td>0.0</td>\n",
              "      <td>0.0</td>\n",
              "      <td>0.0</td>\n",
              "      <td>0.0</td>\n",
              "      <td>0.0</td>\n",
              "      <td>0.0</td>\n",
              "      <td>0.0</td>\n",
              "      <td>0.0</td>\n",
              "      <td>0.0</td>\n",
              "      <td>0.0</td>\n",
              "      <td>0.0</td>\n",
              "      <td>0.0</td>\n",
              "      <td>0.0</td>\n",
              "      <td>0.0</td>\n",
              "      <td>0.0</td>\n",
              "      <td>0.0</td>\n",
              "      <td>0.0</td>\n",
              "      <td>0.0</td>\n",
              "      <td>0.0</td>\n",
              "      <td>...</td>\n",
              "      <td>0.0</td>\n",
              "      <td>0.0</td>\n",
              "      <td>0.0</td>\n",
              "      <td>0.0</td>\n",
              "      <td>0.0</td>\n",
              "      <td>0.0</td>\n",
              "      <td>0.0</td>\n",
              "      <td>0.0</td>\n",
              "      <td>0.0</td>\n",
              "      <td>0.0</td>\n",
              "      <td>0.0</td>\n",
              "      <td>0.0</td>\n",
              "      <td>0.0</td>\n",
              "      <td>0.0</td>\n",
              "      <td>0.0</td>\n",
              "      <td>0.0</td>\n",
              "      <td>0.0</td>\n",
              "      <td>0.0</td>\n",
              "      <td>0.0</td>\n",
              "      <td>0.0</td>\n",
              "      <td>0.0</td>\n",
              "      <td>0.0</td>\n",
              "      <td>0.0</td>\n",
              "      <td>0.0</td>\n",
              "      <td>0.0</td>\n",
              "      <td>0.0</td>\n",
              "      <td>0.000000</td>\n",
              "      <td>0.0</td>\n",
              "      <td>0.0</td>\n",
              "      <td>0.0</td>\n",
              "      <td>0.0</td>\n",
              "      <td>0.0</td>\n",
              "      <td>0.0</td>\n",
              "      <td>0.0</td>\n",
              "      <td>0.0</td>\n",
              "      <td>0.0</td>\n",
              "      <td>0.0</td>\n",
              "      <td>0.0</td>\n",
              "      <td>0.0</td>\n",
              "      <td>0.0</td>\n",
              "    </tr>\n",
              "    <tr>\n",
              "      <th>4</th>\n",
              "      <td>0.0</td>\n",
              "      <td>0.0</td>\n",
              "      <td>0.0</td>\n",
              "      <td>0.0</td>\n",
              "      <td>0.0</td>\n",
              "      <td>0.0</td>\n",
              "      <td>0.0</td>\n",
              "      <td>0.0</td>\n",
              "      <td>0.0</td>\n",
              "      <td>0.0</td>\n",
              "      <td>0.0</td>\n",
              "      <td>0.0</td>\n",
              "      <td>0.000000</td>\n",
              "      <td>0.0</td>\n",
              "      <td>0.0</td>\n",
              "      <td>0.0</td>\n",
              "      <td>0.0</td>\n",
              "      <td>0.0</td>\n",
              "      <td>0.0</td>\n",
              "      <td>0.0</td>\n",
              "      <td>0.0</td>\n",
              "      <td>0.0</td>\n",
              "      <td>0.0</td>\n",
              "      <td>0.0</td>\n",
              "      <td>0.0</td>\n",
              "      <td>0.0</td>\n",
              "      <td>0.0</td>\n",
              "      <td>0.0</td>\n",
              "      <td>0.0</td>\n",
              "      <td>0.0</td>\n",
              "      <td>0.0</td>\n",
              "      <td>0.0</td>\n",
              "      <td>0.0</td>\n",
              "      <td>0.0</td>\n",
              "      <td>0.0</td>\n",
              "      <td>0.0</td>\n",
              "      <td>0.0</td>\n",
              "      <td>0.0</td>\n",
              "      <td>0.0</td>\n",
              "      <td>0.0</td>\n",
              "      <td>...</td>\n",
              "      <td>0.0</td>\n",
              "      <td>0.0</td>\n",
              "      <td>0.0</td>\n",
              "      <td>0.0</td>\n",
              "      <td>0.0</td>\n",
              "      <td>0.0</td>\n",
              "      <td>0.0</td>\n",
              "      <td>0.0</td>\n",
              "      <td>0.0</td>\n",
              "      <td>0.0</td>\n",
              "      <td>0.0</td>\n",
              "      <td>0.0</td>\n",
              "      <td>0.0</td>\n",
              "      <td>0.0</td>\n",
              "      <td>0.0</td>\n",
              "      <td>0.0</td>\n",
              "      <td>0.0</td>\n",
              "      <td>0.0</td>\n",
              "      <td>0.0</td>\n",
              "      <td>0.0</td>\n",
              "      <td>0.0</td>\n",
              "      <td>0.0</td>\n",
              "      <td>0.0</td>\n",
              "      <td>0.0</td>\n",
              "      <td>0.0</td>\n",
              "      <td>0.0</td>\n",
              "      <td>0.000000</td>\n",
              "      <td>0.0</td>\n",
              "      <td>0.0</td>\n",
              "      <td>0.0</td>\n",
              "      <td>0.0</td>\n",
              "      <td>0.0</td>\n",
              "      <td>0.0</td>\n",
              "      <td>0.0</td>\n",
              "      <td>0.0</td>\n",
              "      <td>0.0</td>\n",
              "      <td>0.0</td>\n",
              "      <td>0.0</td>\n",
              "      <td>0.0</td>\n",
              "      <td>0.0</td>\n",
              "    </tr>\n",
              "    <tr>\n",
              "      <th>...</th>\n",
              "      <td>...</td>\n",
              "      <td>...</td>\n",
              "      <td>...</td>\n",
              "      <td>...</td>\n",
              "      <td>...</td>\n",
              "      <td>...</td>\n",
              "      <td>...</td>\n",
              "      <td>...</td>\n",
              "      <td>...</td>\n",
              "      <td>...</td>\n",
              "      <td>...</td>\n",
              "      <td>...</td>\n",
              "      <td>...</td>\n",
              "      <td>...</td>\n",
              "      <td>...</td>\n",
              "      <td>...</td>\n",
              "      <td>...</td>\n",
              "      <td>...</td>\n",
              "      <td>...</td>\n",
              "      <td>...</td>\n",
              "      <td>...</td>\n",
              "      <td>...</td>\n",
              "      <td>...</td>\n",
              "      <td>...</td>\n",
              "      <td>...</td>\n",
              "      <td>...</td>\n",
              "      <td>...</td>\n",
              "      <td>...</td>\n",
              "      <td>...</td>\n",
              "      <td>...</td>\n",
              "      <td>...</td>\n",
              "      <td>...</td>\n",
              "      <td>...</td>\n",
              "      <td>...</td>\n",
              "      <td>...</td>\n",
              "      <td>...</td>\n",
              "      <td>...</td>\n",
              "      <td>...</td>\n",
              "      <td>...</td>\n",
              "      <td>...</td>\n",
              "      <td>...</td>\n",
              "      <td>...</td>\n",
              "      <td>...</td>\n",
              "      <td>...</td>\n",
              "      <td>...</td>\n",
              "      <td>...</td>\n",
              "      <td>...</td>\n",
              "      <td>...</td>\n",
              "      <td>...</td>\n",
              "      <td>...</td>\n",
              "      <td>...</td>\n",
              "      <td>...</td>\n",
              "      <td>...</td>\n",
              "      <td>...</td>\n",
              "      <td>...</td>\n",
              "      <td>...</td>\n",
              "      <td>...</td>\n",
              "      <td>...</td>\n",
              "      <td>...</td>\n",
              "      <td>...</td>\n",
              "      <td>...</td>\n",
              "      <td>...</td>\n",
              "      <td>...</td>\n",
              "      <td>...</td>\n",
              "      <td>...</td>\n",
              "      <td>...</td>\n",
              "      <td>...</td>\n",
              "      <td>...</td>\n",
              "      <td>...</td>\n",
              "      <td>...</td>\n",
              "      <td>...</td>\n",
              "      <td>...</td>\n",
              "      <td>...</td>\n",
              "      <td>...</td>\n",
              "      <td>...</td>\n",
              "      <td>...</td>\n",
              "      <td>...</td>\n",
              "      <td>...</td>\n",
              "      <td>...</td>\n",
              "      <td>...</td>\n",
              "      <td>...</td>\n",
              "    </tr>\n",
              "    <tr>\n",
              "      <th>893</th>\n",
              "      <td>0.0</td>\n",
              "      <td>0.0</td>\n",
              "      <td>0.0</td>\n",
              "      <td>0.0</td>\n",
              "      <td>0.0</td>\n",
              "      <td>0.0</td>\n",
              "      <td>0.0</td>\n",
              "      <td>0.0</td>\n",
              "      <td>0.0</td>\n",
              "      <td>0.0</td>\n",
              "      <td>0.0</td>\n",
              "      <td>0.0</td>\n",
              "      <td>0.000000</td>\n",
              "      <td>0.0</td>\n",
              "      <td>0.0</td>\n",
              "      <td>0.0</td>\n",
              "      <td>0.0</td>\n",
              "      <td>0.0</td>\n",
              "      <td>0.0</td>\n",
              "      <td>0.0</td>\n",
              "      <td>0.0</td>\n",
              "      <td>0.0</td>\n",
              "      <td>0.0</td>\n",
              "      <td>0.0</td>\n",
              "      <td>0.0</td>\n",
              "      <td>0.0</td>\n",
              "      <td>0.0</td>\n",
              "      <td>0.0</td>\n",
              "      <td>0.0</td>\n",
              "      <td>0.0</td>\n",
              "      <td>0.0</td>\n",
              "      <td>0.0</td>\n",
              "      <td>0.0</td>\n",
              "      <td>0.0</td>\n",
              "      <td>0.0</td>\n",
              "      <td>0.0</td>\n",
              "      <td>0.0</td>\n",
              "      <td>0.0</td>\n",
              "      <td>0.0</td>\n",
              "      <td>0.0</td>\n",
              "      <td>...</td>\n",
              "      <td>0.0</td>\n",
              "      <td>0.0</td>\n",
              "      <td>0.0</td>\n",
              "      <td>0.0</td>\n",
              "      <td>0.0</td>\n",
              "      <td>0.0</td>\n",
              "      <td>0.0</td>\n",
              "      <td>0.0</td>\n",
              "      <td>0.0</td>\n",
              "      <td>0.0</td>\n",
              "      <td>0.0</td>\n",
              "      <td>0.0</td>\n",
              "      <td>0.0</td>\n",
              "      <td>0.0</td>\n",
              "      <td>0.0</td>\n",
              "      <td>0.0</td>\n",
              "      <td>0.0</td>\n",
              "      <td>0.0</td>\n",
              "      <td>0.0</td>\n",
              "      <td>0.0</td>\n",
              "      <td>0.0</td>\n",
              "      <td>0.0</td>\n",
              "      <td>0.0</td>\n",
              "      <td>0.0</td>\n",
              "      <td>0.0</td>\n",
              "      <td>0.0</td>\n",
              "      <td>0.000000</td>\n",
              "      <td>0.0</td>\n",
              "      <td>0.0</td>\n",
              "      <td>0.0</td>\n",
              "      <td>0.0</td>\n",
              "      <td>0.0</td>\n",
              "      <td>0.0</td>\n",
              "      <td>0.0</td>\n",
              "      <td>0.0</td>\n",
              "      <td>0.0</td>\n",
              "      <td>0.0</td>\n",
              "      <td>0.0</td>\n",
              "      <td>0.0</td>\n",
              "      <td>0.0</td>\n",
              "    </tr>\n",
              "    <tr>\n",
              "      <th>894</th>\n",
              "      <td>0.0</td>\n",
              "      <td>0.0</td>\n",
              "      <td>0.0</td>\n",
              "      <td>0.0</td>\n",
              "      <td>0.0</td>\n",
              "      <td>0.0</td>\n",
              "      <td>0.0</td>\n",
              "      <td>0.0</td>\n",
              "      <td>0.0</td>\n",
              "      <td>0.0</td>\n",
              "      <td>0.0</td>\n",
              "      <td>0.0</td>\n",
              "      <td>0.000000</td>\n",
              "      <td>0.0</td>\n",
              "      <td>0.0</td>\n",
              "      <td>0.0</td>\n",
              "      <td>0.0</td>\n",
              "      <td>0.0</td>\n",
              "      <td>0.0</td>\n",
              "      <td>0.0</td>\n",
              "      <td>0.0</td>\n",
              "      <td>0.0</td>\n",
              "      <td>0.0</td>\n",
              "      <td>0.0</td>\n",
              "      <td>0.0</td>\n",
              "      <td>0.0</td>\n",
              "      <td>0.0</td>\n",
              "      <td>0.0</td>\n",
              "      <td>0.0</td>\n",
              "      <td>0.0</td>\n",
              "      <td>0.0</td>\n",
              "      <td>0.0</td>\n",
              "      <td>0.0</td>\n",
              "      <td>0.0</td>\n",
              "      <td>0.0</td>\n",
              "      <td>0.0</td>\n",
              "      <td>0.0</td>\n",
              "      <td>0.0</td>\n",
              "      <td>0.0</td>\n",
              "      <td>0.0</td>\n",
              "      <td>...</td>\n",
              "      <td>0.0</td>\n",
              "      <td>0.0</td>\n",
              "      <td>0.0</td>\n",
              "      <td>0.0</td>\n",
              "      <td>0.0</td>\n",
              "      <td>0.0</td>\n",
              "      <td>0.0</td>\n",
              "      <td>0.0</td>\n",
              "      <td>0.0</td>\n",
              "      <td>0.0</td>\n",
              "      <td>0.0</td>\n",
              "      <td>0.0</td>\n",
              "      <td>0.0</td>\n",
              "      <td>0.0</td>\n",
              "      <td>0.0</td>\n",
              "      <td>0.0</td>\n",
              "      <td>0.0</td>\n",
              "      <td>0.0</td>\n",
              "      <td>0.0</td>\n",
              "      <td>0.0</td>\n",
              "      <td>0.0</td>\n",
              "      <td>0.0</td>\n",
              "      <td>0.0</td>\n",
              "      <td>0.0</td>\n",
              "      <td>0.0</td>\n",
              "      <td>0.0</td>\n",
              "      <td>0.000000</td>\n",
              "      <td>0.0</td>\n",
              "      <td>0.0</td>\n",
              "      <td>0.0</td>\n",
              "      <td>0.0</td>\n",
              "      <td>0.0</td>\n",
              "      <td>0.0</td>\n",
              "      <td>0.0</td>\n",
              "      <td>0.0</td>\n",
              "      <td>0.0</td>\n",
              "      <td>0.0</td>\n",
              "      <td>0.0</td>\n",
              "      <td>0.0</td>\n",
              "      <td>0.0</td>\n",
              "    </tr>\n",
              "    <tr>\n",
              "      <th>895</th>\n",
              "      <td>0.0</td>\n",
              "      <td>0.0</td>\n",
              "      <td>0.0</td>\n",
              "      <td>0.0</td>\n",
              "      <td>0.0</td>\n",
              "      <td>0.0</td>\n",
              "      <td>0.0</td>\n",
              "      <td>0.0</td>\n",
              "      <td>0.0</td>\n",
              "      <td>0.0</td>\n",
              "      <td>0.0</td>\n",
              "      <td>0.0</td>\n",
              "      <td>0.000000</td>\n",
              "      <td>0.0</td>\n",
              "      <td>0.0</td>\n",
              "      <td>0.0</td>\n",
              "      <td>0.0</td>\n",
              "      <td>0.0</td>\n",
              "      <td>0.0</td>\n",
              "      <td>0.0</td>\n",
              "      <td>0.0</td>\n",
              "      <td>0.0</td>\n",
              "      <td>0.0</td>\n",
              "      <td>0.0</td>\n",
              "      <td>0.0</td>\n",
              "      <td>0.0</td>\n",
              "      <td>0.0</td>\n",
              "      <td>0.0</td>\n",
              "      <td>0.0</td>\n",
              "      <td>0.0</td>\n",
              "      <td>0.0</td>\n",
              "      <td>0.0</td>\n",
              "      <td>0.0</td>\n",
              "      <td>0.0</td>\n",
              "      <td>0.0</td>\n",
              "      <td>0.0</td>\n",
              "      <td>0.0</td>\n",
              "      <td>0.0</td>\n",
              "      <td>0.0</td>\n",
              "      <td>0.0</td>\n",
              "      <td>...</td>\n",
              "      <td>0.0</td>\n",
              "      <td>0.0</td>\n",
              "      <td>0.0</td>\n",
              "      <td>0.0</td>\n",
              "      <td>0.0</td>\n",
              "      <td>0.0</td>\n",
              "      <td>0.0</td>\n",
              "      <td>0.0</td>\n",
              "      <td>0.0</td>\n",
              "      <td>0.0</td>\n",
              "      <td>0.0</td>\n",
              "      <td>0.0</td>\n",
              "      <td>0.0</td>\n",
              "      <td>0.0</td>\n",
              "      <td>0.0</td>\n",
              "      <td>0.0</td>\n",
              "      <td>0.0</td>\n",
              "      <td>0.0</td>\n",
              "      <td>0.0</td>\n",
              "      <td>0.0</td>\n",
              "      <td>0.0</td>\n",
              "      <td>0.0</td>\n",
              "      <td>0.0</td>\n",
              "      <td>0.0</td>\n",
              "      <td>0.0</td>\n",
              "      <td>0.0</td>\n",
              "      <td>0.199759</td>\n",
              "      <td>0.0</td>\n",
              "      <td>0.0</td>\n",
              "      <td>0.0</td>\n",
              "      <td>0.0</td>\n",
              "      <td>0.0</td>\n",
              "      <td>0.0</td>\n",
              "      <td>0.0</td>\n",
              "      <td>0.0</td>\n",
              "      <td>0.0</td>\n",
              "      <td>0.0</td>\n",
              "      <td>0.0</td>\n",
              "      <td>0.0</td>\n",
              "      <td>0.0</td>\n",
              "    </tr>\n",
              "    <tr>\n",
              "      <th>896</th>\n",
              "      <td>0.0</td>\n",
              "      <td>0.0</td>\n",
              "      <td>0.0</td>\n",
              "      <td>0.0</td>\n",
              "      <td>0.0</td>\n",
              "      <td>0.0</td>\n",
              "      <td>0.0</td>\n",
              "      <td>0.0</td>\n",
              "      <td>0.0</td>\n",
              "      <td>0.0</td>\n",
              "      <td>0.0</td>\n",
              "      <td>0.0</td>\n",
              "      <td>0.000000</td>\n",
              "      <td>0.0</td>\n",
              "      <td>0.0</td>\n",
              "      <td>0.0</td>\n",
              "      <td>0.0</td>\n",
              "      <td>0.0</td>\n",
              "      <td>0.0</td>\n",
              "      <td>0.0</td>\n",
              "      <td>0.0</td>\n",
              "      <td>0.0</td>\n",
              "      <td>0.0</td>\n",
              "      <td>0.0</td>\n",
              "      <td>0.0</td>\n",
              "      <td>0.0</td>\n",
              "      <td>0.0</td>\n",
              "      <td>0.0</td>\n",
              "      <td>0.0</td>\n",
              "      <td>0.0</td>\n",
              "      <td>0.0</td>\n",
              "      <td>0.0</td>\n",
              "      <td>0.0</td>\n",
              "      <td>0.0</td>\n",
              "      <td>0.0</td>\n",
              "      <td>0.0</td>\n",
              "      <td>0.0</td>\n",
              "      <td>0.0</td>\n",
              "      <td>0.0</td>\n",
              "      <td>0.0</td>\n",
              "      <td>...</td>\n",
              "      <td>0.0</td>\n",
              "      <td>0.0</td>\n",
              "      <td>0.0</td>\n",
              "      <td>0.0</td>\n",
              "      <td>0.0</td>\n",
              "      <td>0.0</td>\n",
              "      <td>0.0</td>\n",
              "      <td>0.0</td>\n",
              "      <td>0.0</td>\n",
              "      <td>0.0</td>\n",
              "      <td>0.0</td>\n",
              "      <td>0.0</td>\n",
              "      <td>0.0</td>\n",
              "      <td>0.0</td>\n",
              "      <td>0.0</td>\n",
              "      <td>0.0</td>\n",
              "      <td>0.0</td>\n",
              "      <td>0.0</td>\n",
              "      <td>0.0</td>\n",
              "      <td>0.0</td>\n",
              "      <td>0.0</td>\n",
              "      <td>0.0</td>\n",
              "      <td>0.0</td>\n",
              "      <td>0.0</td>\n",
              "      <td>0.0</td>\n",
              "      <td>0.0</td>\n",
              "      <td>0.000000</td>\n",
              "      <td>0.0</td>\n",
              "      <td>0.0</td>\n",
              "      <td>0.0</td>\n",
              "      <td>0.0</td>\n",
              "      <td>0.0</td>\n",
              "      <td>0.0</td>\n",
              "      <td>0.0</td>\n",
              "      <td>0.0</td>\n",
              "      <td>0.0</td>\n",
              "      <td>0.0</td>\n",
              "      <td>0.0</td>\n",
              "      <td>0.0</td>\n",
              "      <td>0.0</td>\n",
              "    </tr>\n",
              "    <tr>\n",
              "      <th>897</th>\n",
              "      <td>0.0</td>\n",
              "      <td>0.0</td>\n",
              "      <td>0.0</td>\n",
              "      <td>0.0</td>\n",
              "      <td>0.0</td>\n",
              "      <td>0.0</td>\n",
              "      <td>0.0</td>\n",
              "      <td>0.0</td>\n",
              "      <td>0.0</td>\n",
              "      <td>0.0</td>\n",
              "      <td>0.0</td>\n",
              "      <td>0.0</td>\n",
              "      <td>0.000000</td>\n",
              "      <td>0.0</td>\n",
              "      <td>0.0</td>\n",
              "      <td>0.0</td>\n",
              "      <td>0.0</td>\n",
              "      <td>0.0</td>\n",
              "      <td>0.0</td>\n",
              "      <td>0.0</td>\n",
              "      <td>0.0</td>\n",
              "      <td>0.0</td>\n",
              "      <td>0.0</td>\n",
              "      <td>0.0</td>\n",
              "      <td>0.0</td>\n",
              "      <td>0.0</td>\n",
              "      <td>0.0</td>\n",
              "      <td>0.0</td>\n",
              "      <td>0.0</td>\n",
              "      <td>0.0</td>\n",
              "      <td>0.0</td>\n",
              "      <td>0.0</td>\n",
              "      <td>0.0</td>\n",
              "      <td>0.0</td>\n",
              "      <td>0.0</td>\n",
              "      <td>0.0</td>\n",
              "      <td>0.0</td>\n",
              "      <td>0.0</td>\n",
              "      <td>0.0</td>\n",
              "      <td>0.0</td>\n",
              "      <td>...</td>\n",
              "      <td>0.0</td>\n",
              "      <td>0.0</td>\n",
              "      <td>0.0</td>\n",
              "      <td>0.0</td>\n",
              "      <td>0.0</td>\n",
              "      <td>0.0</td>\n",
              "      <td>0.0</td>\n",
              "      <td>0.0</td>\n",
              "      <td>0.0</td>\n",
              "      <td>0.0</td>\n",
              "      <td>0.0</td>\n",
              "      <td>0.0</td>\n",
              "      <td>0.0</td>\n",
              "      <td>0.0</td>\n",
              "      <td>0.0</td>\n",
              "      <td>0.0</td>\n",
              "      <td>0.0</td>\n",
              "      <td>0.0</td>\n",
              "      <td>0.0</td>\n",
              "      <td>0.0</td>\n",
              "      <td>0.0</td>\n",
              "      <td>0.0</td>\n",
              "      <td>0.0</td>\n",
              "      <td>0.0</td>\n",
              "      <td>0.0</td>\n",
              "      <td>0.0</td>\n",
              "      <td>0.000000</td>\n",
              "      <td>0.0</td>\n",
              "      <td>0.0</td>\n",
              "      <td>0.0</td>\n",
              "      <td>0.0</td>\n",
              "      <td>0.0</td>\n",
              "      <td>0.0</td>\n",
              "      <td>0.0</td>\n",
              "      <td>0.0</td>\n",
              "      <td>0.0</td>\n",
              "      <td>0.0</td>\n",
              "      <td>0.0</td>\n",
              "      <td>0.0</td>\n",
              "      <td>0.0</td>\n",
              "    </tr>\n",
              "  </tbody>\n",
              "</table>\n",
              "<p>898 rows × 7524 columns</p>\n",
              "</div>"
            ],
            "text/plain": [
              "      10   20   25   30   31   32  ...  18499  18544  18551  18552  18580  18582\n",
              "0    0.0  0.0  0.0  0.0  0.0  0.0  ...    0.0    0.0    0.0    0.0    0.0    0.0\n",
              "1    0.0  0.0  0.0  0.0  0.0  0.0  ...    0.0    0.0    0.0    0.0    0.0    0.0\n",
              "2    0.0  0.0  0.0  0.0  0.0  0.0  ...    0.0    0.0    0.0    0.0    0.0    0.0\n",
              "3    0.0  0.0  0.0  0.0  0.0  0.0  ...    0.0    0.0    0.0    0.0    0.0    0.0\n",
              "4    0.0  0.0  0.0  0.0  0.0  0.0  ...    0.0    0.0    0.0    0.0    0.0    0.0\n",
              "..   ...  ...  ...  ...  ...  ...  ...    ...    ...    ...    ...    ...    ...\n",
              "893  0.0  0.0  0.0  0.0  0.0  0.0  ...    0.0    0.0    0.0    0.0    0.0    0.0\n",
              "894  0.0  0.0  0.0  0.0  0.0  0.0  ...    0.0    0.0    0.0    0.0    0.0    0.0\n",
              "895  0.0  0.0  0.0  0.0  0.0  0.0  ...    0.0    0.0    0.0    0.0    0.0    0.0\n",
              "896  0.0  0.0  0.0  0.0  0.0  0.0  ...    0.0    0.0    0.0    0.0    0.0    0.0\n",
              "897  0.0  0.0  0.0  0.0  0.0  0.0  ...    0.0    0.0    0.0    0.0    0.0    0.0\n",
              "\n",
              "[898 rows x 7524 columns]"
            ]
          },
          "metadata": {
            "tags": []
          },
          "execution_count": 67
        }
      ]
    },
    {
      "cell_type": "code",
      "metadata": {
        "colab": {
          "base_uri": "https://localhost:8080/",
          "height": 419
        },
        "id": "X7auumck-a5u",
        "outputId": "b141efbf-10ee-4a60-b6ca-6034d36e7c00"
      },
      "source": [
        "df"
      ],
      "execution_count": null,
      "outputs": [
        {
          "output_type": "execute_result",
          "data": {
            "text/html": [
              "<div>\n",
              "<style scoped>\n",
              "    .dataframe tbody tr th:only-of-type {\n",
              "        vertical-align: middle;\n",
              "    }\n",
              "\n",
              "    .dataframe tbody tr th {\n",
              "        vertical-align: top;\n",
              "    }\n",
              "\n",
              "    .dataframe thead th {\n",
              "        text-align: right;\n",
              "    }\n",
              "</style>\n",
              "<table border=\"1\" class=\"dataframe\">\n",
              "  <thead>\n",
              "    <tr style=\"text-align: right;\">\n",
              "      <th></th>\n",
              "      <th>created_at</th>\n",
              "      <th>text</th>\n",
              "      <th>Care</th>\n",
              "      <th>Faireness</th>\n",
              "      <th>In-Group Loyalty</th>\n",
              "      <th>Respect For Authority</th>\n",
              "      <th>Purity</th>\n",
              "    </tr>\n",
              "  </thead>\n",
              "  <tbody>\n",
              "    <tr>\n",
              "      <th>0</th>\n",
              "      <td>2019-08-03T20:17:40.000Z</td>\n",
              "      <td>Trump Hangs Out At His Golf Club As Americans ...</td>\n",
              "      <td>0.0</td>\n",
              "      <td>1.0</td>\n",
              "      <td>0.0</td>\n",
              "      <td>0.0</td>\n",
              "      <td>0.0</td>\n",
              "    </tr>\n",
              "    <tr>\n",
              "      <th>1</th>\n",
              "      <td>2019-08-03T20:11:43.000Z</td>\n",
              "      <td>Another day, another mass shooting. This time ...</td>\n",
              "      <td>1.0</td>\n",
              "      <td>0.0</td>\n",
              "      <td>1.0</td>\n",
              "      <td>0.0</td>\n",
              "      <td>1.0</td>\n",
              "    </tr>\n",
              "    <tr>\n",
              "      <th>2</th>\n",
              "      <td>2019-08-03T19:39:33.000Z</td>\n",
              "      <td>Apparently Trump is too busy golfing at his Ne...</td>\n",
              "      <td>0.0</td>\n",
              "      <td>1.0</td>\n",
              "      <td>0.0</td>\n",
              "      <td>0.0</td>\n",
              "      <td>1.0</td>\n",
              "    </tr>\n",
              "    <tr>\n",
              "      <th>3</th>\n",
              "      <td>2019-08-03T17:59:31.000Z</td>\n",
              "      <td>Truly heartbreaking. Stay safe, El Paso. Pleas...</td>\n",
              "      <td>1.0</td>\n",
              "      <td>0.0</td>\n",
              "      <td>0.0</td>\n",
              "      <td>0.0</td>\n",
              "      <td>1.0</td>\n",
              "    </tr>\n",
              "    <tr>\n",
              "      <th>4</th>\n",
              "      <td>2019-08-03T20:03:08.000Z</td>\n",
              "      <td>Scrap that. Manifesto likely legit. It was pos...</td>\n",
              "      <td>0.0</td>\n",
              "      <td>1.0</td>\n",
              "      <td>1.0</td>\n",
              "      <td>0.0</td>\n",
              "      <td>0.0</td>\n",
              "    </tr>\n",
              "    <tr>\n",
              "      <th>...</th>\n",
              "      <td>...</td>\n",
              "      <td>...</td>\n",
              "      <td>...</td>\n",
              "      <td>...</td>\n",
              "      <td>...</td>\n",
              "      <td>...</td>\n",
              "      <td>...</td>\n",
              "    </tr>\n",
              "    <tr>\n",
              "      <th>394</th>\n",
              "      <td>2017-10-02T17:07:19.000Z</td>\n",
              "      <td>Las Vegas shooter Stephen Paddock is son of Be...</td>\n",
              "      <td>0.0</td>\n",
              "      <td>0.0</td>\n",
              "      <td>0.0</td>\n",
              "      <td>0.0</td>\n",
              "      <td>0.0</td>\n",
              "    </tr>\n",
              "    <tr>\n",
              "      <th>395</th>\n",
              "      <td>2017-10-03T01:30:25.000Z</td>\n",
              "      <td>If you don't collectively blame whites for #La...</td>\n",
              "      <td>0.0</td>\n",
              "      <td>1.0</td>\n",
              "      <td>0.0</td>\n",
              "      <td>0.0</td>\n",
              "      <td>1.0</td>\n",
              "    </tr>\n",
              "    <tr>\n",
              "      <th>396</th>\n",
              "      <td>2017-10-03T01:48:01.000Z</td>\n",
              "      <td>Bailey Schweitzer, 20, was a member of the Val...</td>\n",
              "      <td>1.0</td>\n",
              "      <td>1.0</td>\n",
              "      <td>0.0</td>\n",
              "      <td>0.0</td>\n",
              "      <td>1.0</td>\n",
              "    </tr>\n",
              "    <tr>\n",
              "      <th>397</th>\n",
              "      <td>2017-10-02T21:28:55.000Z</td>\n",
              "      <td>My heart aches for family,friends of Rhonda Le...</td>\n",
              "      <td>1.0</td>\n",
              "      <td>0.0</td>\n",
              "      <td>0.0</td>\n",
              "      <td>0.0</td>\n",
              "      <td>1.0</td>\n",
              "    </tr>\n",
              "    <tr>\n",
              "      <th>398</th>\n",
              "      <td>2017-10-02T16:32:41.000Z</td>\n",
              "      <td>Yes, what happened in Las Vegas was absolutely...</td>\n",
              "      <td>1.0</td>\n",
              "      <td>1.0</td>\n",
              "      <td>0.0</td>\n",
              "      <td>0.0</td>\n",
              "      <td>0.0</td>\n",
              "    </tr>\n",
              "  </tbody>\n",
              "</table>\n",
              "<p>898 rows × 7 columns</p>\n",
              "</div>"
            ],
            "text/plain": [
              "                   created_at  ... Purity\n",
              "0    2019-08-03T20:17:40.000Z  ...    0.0\n",
              "1    2019-08-03T20:11:43.000Z  ...    1.0\n",
              "2    2019-08-03T19:39:33.000Z  ...    1.0\n",
              "3    2019-08-03T17:59:31.000Z  ...    1.0\n",
              "4    2019-08-03T20:03:08.000Z  ...    0.0\n",
              "..                        ...  ...    ...\n",
              "394  2017-10-02T17:07:19.000Z  ...    0.0\n",
              "395  2017-10-03T01:30:25.000Z  ...    1.0\n",
              "396  2017-10-03T01:48:01.000Z  ...    1.0\n",
              "397  2017-10-02T21:28:55.000Z  ...    1.0\n",
              "398  2017-10-02T16:32:41.000Z  ...    0.0\n",
              "\n",
              "[898 rows x 7 columns]"
            ]
          },
          "metadata": {
            "tags": []
          },
          "execution_count": 39
        }
      ]
    },
    {
      "cell_type": "code",
      "metadata": {
        "colab": {
          "base_uri": "https://localhost:8080/",
          "height": 468,
          "referenced_widgets": [
            "68855509c95e49d7897c79c9e011cdf8",
            "7398f07a58f847fdb1e58b208bfd3d05",
            "5778e8faa3fc47f2bcdf10449453d492",
            "d02bb148748446558fdeca3de76db105",
            "e10878728f3444b7af46f42b993c819d",
            "0956103342034774a63a554b9c849dfb",
            "40b3e1a85162437ea98c12b2b665e75f",
            "a65d9748123441538b71e5692291b689"
          ]
        },
        "id": "F5BRWm_y7xHx",
        "outputId": "776213c3-ea05-4994-cc25-b0f0d1485970"
      },
      "source": [
        "get_x(df, care1, \"care\")"
      ],
      "execution_count": null,
      "outputs": [
        {
          "output_type": "display_data",
          "data": {
            "application/vnd.jupyter.widget-view+json": {
              "model_id": "68855509c95e49d7897c79c9e011cdf8",
              "version_minor": 0,
              "version_major": 2
            },
            "text/plain": [
              "HBox(children=(FloatProgress(value=0.0, max=898.0), HTML(value='')))"
            ]
          },
          "metadata": {
            "tags": []
          }
        },
        {
          "output_type": "stream",
          "text": [
            "\n"
          ],
          "name": "stdout"
        },
        {
          "output_type": "execute_result",
          "data": {
            "text/html": [
              "<div>\n",
              "<style scoped>\n",
              "    .dataframe tbody tr th:only-of-type {\n",
              "        vertical-align: middle;\n",
              "    }\n",
              "\n",
              "    .dataframe tbody tr th {\n",
              "        vertical-align: top;\n",
              "    }\n",
              "\n",
              "    .dataframe thead th {\n",
              "        text-align: right;\n",
              "    }\n",
              "</style>\n",
              "<table border=\"1\" class=\"dataframe\">\n",
              "  <thead>\n",
              "    <tr style=\"text-align: right;\">\n",
              "      <th></th>\n",
              "      <th>length</th>\n",
              "      <th>hastages</th>\n",
              "      <th>num care</th>\n",
              "      <th>max_n care</th>\n",
              "    </tr>\n",
              "  </thead>\n",
              "  <tbody>\n",
              "    <tr>\n",
              "      <th>0</th>\n",
              "      <td>19</td>\n",
              "      <td>0</td>\n",
              "      <td>3</td>\n",
              "      <td>0.295930</td>\n",
              "    </tr>\n",
              "    <tr>\n",
              "      <th>1</th>\n",
              "      <td>41</td>\n",
              "      <td>0</td>\n",
              "      <td>22</td>\n",
              "      <td>0.316339</td>\n",
              "    </tr>\n",
              "    <tr>\n",
              "      <th>2</th>\n",
              "      <td>41</td>\n",
              "      <td>2</td>\n",
              "      <td>20</td>\n",
              "      <td>0.419239</td>\n",
              "    </tr>\n",
              "    <tr>\n",
              "      <th>3</th>\n",
              "      <td>21</td>\n",
              "      <td>0</td>\n",
              "      <td>14</td>\n",
              "      <td>0.369758</td>\n",
              "    </tr>\n",
              "    <tr>\n",
              "      <th>4</th>\n",
              "      <td>48</td>\n",
              "      <td>0</td>\n",
              "      <td>25</td>\n",
              "      <td>0.419239</td>\n",
              "    </tr>\n",
              "    <tr>\n",
              "      <th>...</th>\n",
              "      <td>...</td>\n",
              "      <td>...</td>\n",
              "      <td>...</td>\n",
              "      <td>...</td>\n",
              "    </tr>\n",
              "    <tr>\n",
              "      <th>893</th>\n",
              "      <td>19</td>\n",
              "      <td>0</td>\n",
              "      <td>3</td>\n",
              "      <td>0.382343</td>\n",
              "    </tr>\n",
              "    <tr>\n",
              "      <th>894</th>\n",
              "      <td>16</td>\n",
              "      <td>1</td>\n",
              "      <td>13</td>\n",
              "      <td>0.340201</td>\n",
              "    </tr>\n",
              "    <tr>\n",
              "      <th>895</th>\n",
              "      <td>20</td>\n",
              "      <td>1</td>\n",
              "      <td>2</td>\n",
              "      <td>0.316339</td>\n",
              "    </tr>\n",
              "    <tr>\n",
              "      <th>896</th>\n",
              "      <td>23</td>\n",
              "      <td>0</td>\n",
              "      <td>15</td>\n",
              "      <td>1.000000</td>\n",
              "    </tr>\n",
              "    <tr>\n",
              "      <th>897</th>\n",
              "      <td>17</td>\n",
              "      <td>0</td>\n",
              "      <td>46</td>\n",
              "      <td>1.000000</td>\n",
              "    </tr>\n",
              "  </tbody>\n",
              "</table>\n",
              "<p>898 rows × 4 columns</p>\n",
              "</div>"
            ],
            "text/plain": [
              "     length  hastages  num care  max_n care\n",
              "0        19         0         3    0.295930\n",
              "1        41         0        22    0.316339\n",
              "2        41         2        20    0.419239\n",
              "3        21         0        14    0.369758\n",
              "4        48         0        25    0.419239\n",
              "..      ...       ...       ...         ...\n",
              "893      19         0         3    0.382343\n",
              "894      16         1        13    0.340201\n",
              "895      20         1         2    0.316339\n",
              "896      23         0        15    1.000000\n",
              "897      17         0        46    1.000000\n",
              "\n",
              "[898 rows x 4 columns]"
            ]
          },
          "metadata": {
            "tags": []
          },
          "execution_count": 58
        }
      ]
    },
    {
      "cell_type": "code",
      "metadata": {
        "colab": {
          "base_uri": "https://localhost:8080/",
          "height": 262,
          "referenced_widgets": [
            "f42653686b00476394f902527ab5c0c8",
            "56c368cfbb064d75986cc46243b4cc3c",
            "47c8ffd3c4b64c7594ee88f83d22c1c8",
            "21dfdade51b14a65a18436417e483788",
            "d9029481409144ba861f8bf91fb37b32",
            "706bae55acbd4d8394a00c154520a23e",
            "c75ceeba5a7f4e78bf162851c974dd16",
            "1f4a72f7a0384918bd4ddc559edc1ed9",
            "bb2e7cd0e406483ca5c491afeb6cc7ef",
            "5bc9ebacfeb84f6d83c1dc8d727fb31f",
            "45b81e5e7c3245449655d311d91b56f5",
            "c95d49b3acd04c3fbac7dfac6ca55bfc",
            "bc3b6eba7d4f4a1ca7b77a142b1c0a87",
            "2c4fb02becf84841bbec7914def9ea62",
            "88b711dcf1e64533a847dab58a1f1eb6",
            "089ae7e05830457e8f555d72c988864e",
            "e14b31f996de49519ccc962e418c356b",
            "98f7138d827842b1aa25fe78fd86339a",
            "259dfb6f707a4d7cad8ccfd7ebeeec9d",
            "7000a8ae9765485b86502e4090b1378e",
            "68b242a8e252450fa6482d5c816ddd68",
            "faec11bd47d6455a9907ee036a6b87d9",
            "9b6a42fbe5e6452db8295fde30e4cde2",
            "6d38fc2073eb463994733fca49ee1863",
            "1b170fb8b253450b8c63c9e9b24571f1",
            "f527c551ed5c42f696279acd76189541",
            "3d9466528d7f4500a969adda71ecad59",
            "639a1a4ff6034a7b8df1c0be90b2c18a",
            "77d15691687f42eca78799c44edc39eb",
            "f6f46d7c66d14b77b57702b8ddd8be1a",
            "0ba72266ce994d7fb9d3cef5d829b12b",
            "dadf9974408d4e3087fe46ba703bcf5a",
            "7655abce762346fc88409fca953fe272",
            "572c6804d01b45ca84bbd69ad0bf0ea3",
            "e618221164ab43ca9b9bacd6f5f9e6ef",
            "3a15f690794e435b98375e103da334b5",
            "e5a81b394b854113a15e0d531524c4e6",
            "3eeb38e5278c4c67b929579a73f43c62",
            "5b1581c59fc94bb7810cd49c547f1600",
            "14f5239c9fc44c2eabceba66e6475d68"
          ]
        },
        "id": "l-KG9mEfk3OM",
        "outputId": "3ac90852-6b11-4d1b-9edc-bd778c4e2487"
      },
      "source": [
        "feature = pd.concat([get_x(df, care1, \"care\"), get_x_2(df, fairness1, \"fairness\"), get_x_2(df, in_group1, \"loyalty\"), get_x_2(df, authority1, \"authority\"), get_x_2(df, purity1, \"purity\"), TFIDF_training], axis = 1)\n",
        "feature.to_csv(\"training_feature.csv\") \n",
        "!cp training_feature.csv \"/content/drive/MyDrive/DHML/Final Project\""
      ],
      "execution_count": null,
      "outputs": [
        {
          "output_type": "display_data",
          "data": {
            "application/vnd.jupyter.widget-view+json": {
              "model_id": "f42653686b00476394f902527ab5c0c8",
              "version_minor": 0,
              "version_major": 2
            },
            "text/plain": [
              "HBox(children=(FloatProgress(value=0.0, max=898.0), HTML(value='')))"
            ]
          },
          "metadata": {
            "tags": []
          }
        },
        {
          "output_type": "stream",
          "text": [
            "\n"
          ],
          "name": "stdout"
        },
        {
          "output_type": "display_data",
          "data": {
            "application/vnd.jupyter.widget-view+json": {
              "model_id": "bb2e7cd0e406483ca5c491afeb6cc7ef",
              "version_minor": 0,
              "version_major": 2
            },
            "text/plain": [
              "HBox(children=(FloatProgress(value=0.0, max=898.0), HTML(value='')))"
            ]
          },
          "metadata": {
            "tags": []
          }
        },
        {
          "output_type": "stream",
          "text": [
            "\n"
          ],
          "name": "stdout"
        },
        {
          "output_type": "display_data",
          "data": {
            "application/vnd.jupyter.widget-view+json": {
              "model_id": "e14b31f996de49519ccc962e418c356b",
              "version_minor": 0,
              "version_major": 2
            },
            "text/plain": [
              "HBox(children=(FloatProgress(value=0.0, max=898.0), HTML(value='')))"
            ]
          },
          "metadata": {
            "tags": []
          }
        },
        {
          "output_type": "stream",
          "text": [
            "\n"
          ],
          "name": "stdout"
        },
        {
          "output_type": "display_data",
          "data": {
            "application/vnd.jupyter.widget-view+json": {
              "model_id": "1b170fb8b253450b8c63c9e9b24571f1",
              "version_minor": 0,
              "version_major": 2
            },
            "text/plain": [
              "HBox(children=(FloatProgress(value=0.0, max=898.0), HTML(value='')))"
            ]
          },
          "metadata": {
            "tags": []
          }
        },
        {
          "output_type": "stream",
          "text": [
            "\n"
          ],
          "name": "stdout"
        },
        {
          "output_type": "display_data",
          "data": {
            "application/vnd.jupyter.widget-view+json": {
              "model_id": "7655abce762346fc88409fca953fe272",
              "version_minor": 0,
              "version_major": 2
            },
            "text/plain": [
              "HBox(children=(FloatProgress(value=0.0, max=898.0), HTML(value='')))"
            ]
          },
          "metadata": {
            "tags": []
          }
        },
        {
          "output_type": "stream",
          "text": [
            "\n"
          ],
          "name": "stdout"
        }
      ]
    },
    {
      "cell_type": "markdown",
      "metadata": {
        "id": "64bRixKvNeXc"
      },
      "source": [
        "## training/testing data feature and label"
      ]
    },
    {
      "cell_type": "code",
      "metadata": {
        "id": "8qrsIzGv6ioB"
      },
      "source": [
        "feature = pd.read_csv(\"/content/drive/MyDrive/DHML/Final Project/training_feature.csv\")"
      ],
      "execution_count": null,
      "outputs": []
    },
    {
      "cell_type": "code",
      "metadata": {
        "id": "F0T7lm6R6_eE"
      },
      "source": [
        "feature = feature.drop([\"Unnamed: 0\"], axis = 1)"
      ],
      "execution_count": null,
      "outputs": []
    },
    {
      "cell_type": "code",
      "metadata": {
        "id": "NsRESqQTM5do"
      },
      "source": [
        "feature_care = feature.drop([\"num fairness\", \"max_n fairness\", \"num loyalty\", \"max_n loyalty\", \"num authority\", \"max_n authority\", \"num purity\", \"max_n purity\"], axis = 1)\n",
        "feature_fairness = feature.drop([\"num care\", \"max_n care\", \"num loyalty\", \"max_n loyalty\", \"num authority\", \"max_n authority\", \"num purity\", \"max_n purity\"], axis = 1)\n",
        "feature_loyalty = feature.drop([\"num fairness\", \"max_n fairness\", \"num care\", \"max_n care\", \"num authority\", \"max_n authority\", \"num purity\", \"max_n purity\"], axis = 1)\n",
        "feature_authority = feature.drop([\"num fairness\", \"max_n fairness\", \"num loyalty\", \"max_n loyalty\", \"num care\", \"max_n care\", \"num purity\", \"max_n purity\"], axis = 1)\n",
        "feature_purity = feature.drop([\"num fairness\", \"max_n fairness\", \"num loyalty\", \"max_n loyalty\", \"num authority\", \"max_n authority\", \"num care\", \"max_n care\"], axis = 1)"
      ],
      "execution_count": null,
      "outputs": []
    },
    {
      "cell_type": "code",
      "metadata": {
        "id": "cpbeAy3KlhtR"
      },
      "source": [
        "label_care = get_y(\"Care\")"
      ],
      "execution_count": null,
      "outputs": []
    },
    {
      "cell_type": "code",
      "metadata": {
        "id": "BVd9yCeUlpx_"
      },
      "source": [
        "label_fairness = get_y(\"Faireness\")"
      ],
      "execution_count": null,
      "outputs": []
    },
    {
      "cell_type": "code",
      "metadata": {
        "id": "xXh3KXPmlxjC"
      },
      "source": [
        "label_loyalty = get_y(\"In-Group Loyalty\")"
      ],
      "execution_count": null,
      "outputs": []
    },
    {
      "cell_type": "code",
      "metadata": {
        "id": "oIvo8JvOl3lw"
      },
      "source": [
        "label_authority = get_y(\"Respect For Authority\")"
      ],
      "execution_count": null,
      "outputs": []
    },
    {
      "cell_type": "code",
      "metadata": {
        "id": "aT2Z2SuJl-Tx"
      },
      "source": [
        "label_purity = get_y(\"Purity\")"
      ],
      "execution_count": null,
      "outputs": []
    },
    {
      "cell_type": "markdown",
      "metadata": {
        "id": "k2oNttjiNvRR"
      },
      "source": [
        "## Random Processing"
      ]
    },
    {
      "cell_type": "code",
      "metadata": {
        "colab": {
          "base_uri": "https://localhost:8080/",
          "height": 66,
          "referenced_widgets": [
            "5c22c58cd7394ffabf9fdeaecdadcbc7",
            "6eb762e1c12145f4b1b1136b23fca8d7",
            "28f2af5ff57841e9ab96d38216699ff0",
            "d7b2606e52aa4c4fba3b1e7e4fcbb94b",
            "1385f645d2c14ad985a3f0fec4ecb02a",
            "f5d2b7fd05574fe79115c952f62a07c0",
            "85b3c4656f424f619303a3ff6b1d4dba",
            "23e753acc9c34c6c8b81f00275a5b8ec"
          ]
        },
        "id": "VmImCJjJF3uh",
        "outputId": "36753379-c809-4e27-c8a8-2a588f4a842b"
      },
      "source": [
        "E1 = get_x(ElPaso, care1, \"care\")\n",
        "E1.to_csv(\"E_feature_E1.csv\") \n",
        "!cp E_feature_E1.csv \"/content/drive/MyDrive/DHML/Final Project\""
      ],
      "execution_count": null,
      "outputs": [
        {
          "output_type": "display_data",
          "data": {
            "application/vnd.jupyter.widget-view+json": {
              "model_id": "5c22c58cd7394ffabf9fdeaecdadcbc7",
              "version_minor": 0,
              "version_major": 2
            },
            "text/plain": [
              "HBox(children=(FloatProgress(value=0.0, max=41071.0), HTML(value='')))"
            ]
          },
          "metadata": {
            "tags": []
          }
        },
        {
          "output_type": "stream",
          "text": [
            "\n"
          ],
          "name": "stdout"
        }
      ]
    },
    {
      "cell_type": "code",
      "metadata": {
        "colab": {
          "base_uri": "https://localhost:8080/",
          "height": 66,
          "referenced_widgets": [
            "6624ae297dac4a5282025ffc13c67dda",
            "b96bf0ac520b44b1a55f95970cff879f",
            "92aeb9f61786468a972e5ab082f6021a",
            "cc0cf7aa236c43ab901cab103e292833",
            "cad8d312f71748ceaed391c7253eda6a",
            "132dffc5017f4bf3a7b50d718b3b9ae7",
            "69b3a5e5e2aa4fea9f9ca98b8f7783cd",
            "18f18a74fcaa474d939708a3d4bcb94d"
          ]
        },
        "id": "BWKVm6wRF7dV",
        "outputId": "6afab9d8-8676-408f-e4b8-9da28c834efa"
      },
      "source": [
        "E2 = get_x_2(ElPaso, fairness1, \"fairness\")\n",
        "E2.to_csv(\"E_feature_E2.csv\") \n",
        "!cp E_feature_E2.csv \"/content/drive/MyDrive/DHML/Final Project\""
      ],
      "execution_count": null,
      "outputs": [
        {
          "output_type": "display_data",
          "data": {
            "application/vnd.jupyter.widget-view+json": {
              "model_id": "6624ae297dac4a5282025ffc13c67dda",
              "version_minor": 0,
              "version_major": 2
            },
            "text/plain": [
              "HBox(children=(FloatProgress(value=0.0, max=41071.0), HTML(value='')))"
            ]
          },
          "metadata": {
            "tags": []
          }
        },
        {
          "output_type": "stream",
          "text": [
            "\n"
          ],
          "name": "stdout"
        }
      ]
    },
    {
      "cell_type": "code",
      "metadata": {
        "colab": {
          "base_uri": "https://localhost:8080/",
          "height": 66,
          "referenced_widgets": [
            "d2aa3cb230e648b5a715fbb8070d5048",
            "47db24c0888f4f608abcfad6bba153c1",
            "4187f8d95a084824bce29f4c354e829e",
            "2560ab0c63104e29aebf3d640d70d3e4",
            "e00c53af71004589829df9beb595d7cd",
            "123f844ef9a14538b00b07fac0f03966",
            "d6bb6a8dd9d8415ab89c3ddb158dd807",
            "09aa2d6d56b94f2ea0c9b6628dde4dc3"
          ]
        },
        "id": "p46sB5B1GBml",
        "outputId": "214ccdde-0be9-4f18-c4a1-95e01db8cfcc"
      },
      "source": [
        "E3 = get_x_2(ElPaso, in_group1, \"loyalty\")\n",
        "E3.to_csv(\"E_feature_E3.csv\") \n",
        "!cp E_feature_E3.csv \"/content/drive/MyDrive/DHML/Final Project\""
      ],
      "execution_count": null,
      "outputs": [
        {
          "output_type": "display_data",
          "data": {
            "application/vnd.jupyter.widget-view+json": {
              "model_id": "d2aa3cb230e648b5a715fbb8070d5048",
              "version_minor": 0,
              "version_major": 2
            },
            "text/plain": [
              "HBox(children=(FloatProgress(value=0.0, max=41071.0), HTML(value='')))"
            ]
          },
          "metadata": {
            "tags": []
          }
        },
        {
          "output_type": "stream",
          "text": [
            "\n"
          ],
          "name": "stdout"
        }
      ]
    },
    {
      "cell_type": "code",
      "metadata": {
        "colab": {
          "base_uri": "https://localhost:8080/",
          "height": 66,
          "referenced_widgets": [
            "40b19988c2024eed88fbf5d681b52fec",
            "08b062cde6d54ef182abc3e51aa29f1b",
            "eecba371ce65473591a593daa2425907",
            "e9848b3863424863bbce9f5676c3afd2",
            "fc7874f97dca4437a91de99e9988c007",
            "681363ba0f89451aa6ed8d8a39864f62",
            "e98eded87a0847acb64ebe822af7f6e5",
            "618638432a0a45ef9bb00f373a785b3c"
          ]
        },
        "id": "098xWl26GFMG",
        "outputId": "1774b500-8df6-45d4-b48c-09a8f45b22ee"
      },
      "source": [
        "E4 = get_x_2(ElPaso, authority1, \"authority\")\n",
        "E4.to_csv(\"E_feature_E4.csv\") \n",
        "!cp E_feature_E4.csv \"/content/drive/MyDrive/DHML/Final Project\""
      ],
      "execution_count": null,
      "outputs": [
        {
          "output_type": "display_data",
          "data": {
            "application/vnd.jupyter.widget-view+json": {
              "model_id": "40b19988c2024eed88fbf5d681b52fec",
              "version_minor": 0,
              "version_major": 2
            },
            "text/plain": [
              "HBox(children=(FloatProgress(value=0.0, max=41071.0), HTML(value='')))"
            ]
          },
          "metadata": {
            "tags": []
          }
        },
        {
          "output_type": "stream",
          "text": [
            "\n"
          ],
          "name": "stdout"
        }
      ]
    },
    {
      "cell_type": "code",
      "metadata": {
        "colab": {
          "base_uri": "https://localhost:8080/",
          "height": 66,
          "referenced_widgets": [
            "64e485d7e8cd49779f2a5787c0da9239",
            "bf1981e13c624daeb292ac14dc3082db",
            "fd9888da761b49e1bd27952984663ec0",
            "953d6e2feb6547f484497296b5cfaee1",
            "d59ffa71787b4c1786743436125b9879",
            "4a9bd86812ff46d3b6ddc3cab6595e31",
            "0e356be4ed7244579018e2434b2fcb45",
            "2baca1807b574ff9b3cb33911e4934b4"
          ]
        },
        "id": "gTgLren6GMW6",
        "outputId": "f63a63d1-8e38-44e1-c386-fd53b143a1d8"
      },
      "source": [
        "E5 = get_x_2(ElPaso, purity1, \"purity\")\n",
        "E5.to_csv(\"E_feature_E5.csv\") \n",
        "!cp E_feature_E5.csv \"/content/drive/MyDrive/DHML/Final Project\""
      ],
      "execution_count": null,
      "outputs": [
        {
          "output_type": "display_data",
          "data": {
            "application/vnd.jupyter.widget-view+json": {
              "model_id": "64e485d7e8cd49779f2a5787c0da9239",
              "version_minor": 0,
              "version_major": 2
            },
            "text/plain": [
              "HBox(children=(FloatProgress(value=0.0, max=41071.0), HTML(value='')))"
            ]
          },
          "metadata": {
            "tags": []
          }
        },
        {
          "output_type": "stream",
          "text": [
            "\n"
          ],
          "name": "stdout"
        }
      ]
    },
    {
      "cell_type": "code",
      "metadata": {
        "id": "v7Iy2A6oN33e"
      },
      "source": [
        "tail = TFIDF.tail(41071)"
      ],
      "execution_count": null,
      "outputs": []
    },
    {
      "cell_type": "code",
      "metadata": {
        "id": "iup6wSuJOgGc"
      },
      "source": [
        "tail.reset_index(drop=True, inplace=True)"
      ],
      "execution_count": null,
      "outputs": []
    },
    {
      "cell_type": "code",
      "metadata": {
        "id": "ALBDFuD8O16K"
      },
      "source": [
        "tail = tail.drop([\"Unnamed: 0\"], axis = 1)"
      ],
      "execution_count": null,
      "outputs": []
    },
    {
      "cell_type": "code",
      "metadata": {
        "id": "gTqF300iOlA4"
      },
      "source": [
        "tail.to_csv(\"tfidf_tail.csv\") \n",
        "!cp tfidf_tail.csv \"/content/drive/MyDrive/DHML/Final Project/\""
      ],
      "execution_count": null,
      "outputs": []
    },
    {
      "cell_type": "code",
      "metadata": {
        "id": "MRBIPZWp8mBd"
      },
      "source": [
        "E1 = pd.read_csv(\"/content/drive/MyDrive/DHML/Final Project/E_feature_E1.csv\")\n",
        "E2 = pd.read_csv(\"/content/drive/MyDrive/DHML/Final Project/E_feature_E2.csv\")\n",
        "E3 = pd.read_csv(\"/content/drive/MyDrive/DHML/Final Project/E_feature_E3.csv\")\n",
        "E4 = pd.read_csv(\"/content/drive/MyDrive/DHML/Final Project/E_feature_E4.csv\")\n",
        "E5 = pd.read_csv(\"/content/drive/MyDrive/DHML/Final Project/E_feature_E5.csv\")\n",
        "tail = pd.read_csv(\"/content/drive/MyDrive/DHML/Final Project/tfidf_tail.csv\")"
      ],
      "execution_count": null,
      "outputs": []
    },
    {
      "cell_type": "code",
      "metadata": {
        "id": "PBQx9gCyuXdA"
      },
      "source": [
        "ElPaso_feature = pd.concat([E1, E2, E3, E4, E5, tail], axis = 1)"
      ],
      "execution_count": null,
      "outputs": []
    },
    {
      "cell_type": "code",
      "metadata": {
        "id": "of6vVh60S46g"
      },
      "source": [
        "ElPaso_feature = ElPaso_feature.drop([\"Unnamed: 0\"], axis = 1)"
      ],
      "execution_count": null,
      "outputs": []
    },
    {
      "cell_type": "code",
      "metadata": {
        "id": "OwfsMYeoTCqm"
      },
      "source": [
        "ElPaso_feature.to_csv(\"ElPaso_feature_whole.csv\") \n",
        "!cp ElPaso_feature_whole.csv \"/content/drive/MyDrive/DHML/Final Project/\""
      ],
      "execution_count": null,
      "outputs": []
    },
    {
      "cell_type": "markdown",
      "metadata": {
        "id": "Mny4-Y_7Q058"
      },
      "source": [
        "## ElPaso feature"
      ]
    },
    {
      "cell_type": "code",
      "metadata": {
        "id": "5gt2oEn9QX17"
      },
      "source": [
        "ElPaso_feature = pd.read_csv(\"/content/drive/MyDrive/DHML/Final Project/ElPaso_feature_whole.csv\")"
      ],
      "execution_count": null,
      "outputs": []
    },
    {
      "cell_type": "code",
      "metadata": {
        "id": "9rw_V4CmVLDm"
      },
      "source": [
        "ElPaso_feature = ElPaso_feature.drop([\"Unnamed: 0\"], axis=1)"
      ],
      "execution_count": null,
      "outputs": []
    },
    {
      "cell_type": "code",
      "metadata": {
        "id": "c9r4bNy9Si4i"
      },
      "source": [
        "ElPaso_care = ElPaso_feature.drop([\"num fairness\", \"max_n fairness\", \"num loyalty\", \"max_n loyalty\", \"num authority\", \"max_n authority\", \"num purity\", \"max_n purity\"], axis = 1)\n",
        "ElPaso_fairness = ElPaso_feature.drop([\"num care\", \"max_n care\", \"num loyalty\", \"max_n loyalty\", \"num authority\", \"max_n authority\", \"num purity\", \"max_n purity\"], axis = 1)\n",
        "ElPaso_loyalty = ElPaso_feature.drop([\"num fairness\", \"max_n fairness\", \"num care\", \"max_n care\", \"num authority\", \"max_n authority\", \"num purity\", \"max_n purity\"], axis = 1)\n",
        "ElPaso_authority = ElPaso_feature.drop([\"num fairness\", \"max_n fairness\", \"num loyalty\", \"max_n loyalty\", \"num care\", \"max_n care\", \"num purity\", \"max_n purity\"], axis = 1)\n",
        "ElPaso_purity = ElPaso_feature.drop([\"num fairness\", \"max_n fairness\", \"num loyalty\", \"max_n loyalty\", \"num authority\", \"max_n authority\", \"num care\", \"max_n care\"], axis = 1)"
      ],
      "execution_count": null,
      "outputs": []
    },
    {
      "cell_type": "markdown",
      "metadata": {
        "id": "rlurFvI9HtX4"
      },
      "source": [
        "## Random Processing"
      ]
    },
    {
      "cell_type": "code",
      "metadata": {
        "colab": {
          "base_uri": "https://localhost:8080/",
          "height": 66,
          "referenced_widgets": [
            "75cac2f4ddf64d7994c2eea41ed4ef28",
            "19d9115733144f058975f8a65d7d7c04",
            "f51b6afd46be4665a2354d4bbbd793f6",
            "cd96ff33c52a4559868890084c1f040c",
            "0944429ebc7f4bb8bbee3bc651e5c535",
            "d893f4677f5e49cdbc6fc5e748304bd3",
            "8117cbde152f41bda7241aabcc25da7c",
            "f3f4c52e91ec44d39df23528fda06fa4"
          ]
        },
        "id": "dfxwYbxzGS3s",
        "outputId": "0227708a-f6d0-4365-85c6-6bc6ff0665c0"
      },
      "source": [
        "V1 = get_x(Vegas, care1, \"care\")\n",
        "V1.to_csv(\"V_feature_V1.csv\") \n",
        "!cp V_feature_V1.csv \"/content/drive/MyDrive/DHML/Final Project\""
      ],
      "execution_count": null,
      "outputs": [
        {
          "output_type": "display_data",
          "data": {
            "application/vnd.jupyter.widget-view+json": {
              "model_id": "75cac2f4ddf64d7994c2eea41ed4ef28",
              "version_minor": 0,
              "version_major": 2
            },
            "text/plain": [
              "HBox(children=(FloatProgress(value=0.0, max=6205.0), HTML(value='')))"
            ]
          },
          "metadata": {
            "tags": []
          }
        },
        {
          "output_type": "stream",
          "text": [
            "\n"
          ],
          "name": "stdout"
        }
      ]
    },
    {
      "cell_type": "code",
      "metadata": {
        "colab": {
          "base_uri": "https://localhost:8080/",
          "height": 66,
          "referenced_widgets": [
            "9c76e341b5774e9f88941725abec301e",
            "80e460d29cd94b16b730fb018bbade49",
            "867d5f473f7243e0996fc0d5dd2644ae",
            "39576134d93f442d9b48ccdbd0d9312b",
            "17e0ae16c4a04378adcce059e6de5435",
            "8adb9e8b6941458aa70f0da4c308b1fd",
            "30e50e6c2c654b6ea5af82af763fe4c8",
            "eb7d04981a0e4cbd92601438fa8494f4"
          ]
        },
        "id": "GC4KDZrqGWBB",
        "outputId": "dc517c0e-324a-4b41-df0d-e25f614ad44b"
      },
      "source": [
        "V2 = get_x_2(Vegas, fairness1, \"fairness\")\n",
        "V2.to_csv(\"V_feature_V2.csv\") \n",
        "!cp V_feature_V2.csv \"/content/drive/MyDrive/DHML/Final Project\""
      ],
      "execution_count": null,
      "outputs": [
        {
          "output_type": "display_data",
          "data": {
            "application/vnd.jupyter.widget-view+json": {
              "model_id": "9c76e341b5774e9f88941725abec301e",
              "version_minor": 0,
              "version_major": 2
            },
            "text/plain": [
              "HBox(children=(FloatProgress(value=0.0, max=6205.0), HTML(value='')))"
            ]
          },
          "metadata": {
            "tags": []
          }
        },
        {
          "output_type": "stream",
          "text": [
            "\n"
          ],
          "name": "stdout"
        }
      ]
    },
    {
      "cell_type": "code",
      "metadata": {
        "colab": {
          "base_uri": "https://localhost:8080/",
          "height": 66,
          "referenced_widgets": [
            "370831a036a0433e9b89ced08886f2c9",
            "864190fdee9d4c7592d617e3b9b981d5",
            "412cd20918da4be7a41a081d1c64448c",
            "86590045a4864469a04c63d93596a48e",
            "f5ff9885fad541a8864c91a84868efec",
            "9e442e6e1850491994bbdaf9f95c32f3",
            "e3bcbfa33eb64860a48ba001f7797e40",
            "adbbc9d677a04a31981a5e1651b794e9"
          ]
        },
        "id": "JTOiBH1TGYVb",
        "outputId": "3cd17456-f431-4760-c318-311aeaa37cbf"
      },
      "source": [
        "V3 = get_x_2(Vegas, in_group1, \"loyalty\")\n",
        "V3.to_csv(\"V_feature_V3.csv\") \n",
        "!cp V_feature_V3.csv \"/content/drive/MyDrive/DHML/Final Project\""
      ],
      "execution_count": null,
      "outputs": [
        {
          "output_type": "display_data",
          "data": {
            "application/vnd.jupyter.widget-view+json": {
              "model_id": "370831a036a0433e9b89ced08886f2c9",
              "version_minor": 0,
              "version_major": 2
            },
            "text/plain": [
              "HBox(children=(FloatProgress(value=0.0, max=6205.0), HTML(value='')))"
            ]
          },
          "metadata": {
            "tags": []
          }
        },
        {
          "output_type": "stream",
          "text": [
            "\n"
          ],
          "name": "stdout"
        }
      ]
    },
    {
      "cell_type": "code",
      "metadata": {
        "colab": {
          "base_uri": "https://localhost:8080/",
          "height": 66,
          "referenced_widgets": [
            "899f28d787c64fbb98a942b44d58752c",
            "17123231ed874b2484166ea58a36aba2",
            "075cca76b88240c78a0bb2f1c17acdd7",
            "85b8cc25c8a246449f4e40d9bbc02fc1",
            "8f56f32832f7470ba225970248d1aad6",
            "81fe304aaf6b477685a53bee1250c2e6",
            "cc54f8766ecb4a66af90ae9302ea94d6",
            "a2300948b5664b68bfd79ae607654625"
          ]
        },
        "id": "iSmcHPXCGcTp",
        "outputId": "a9675735-62f8-480e-e487-9a06e04beb9b"
      },
      "source": [
        "V4 = get_x_2(Vegas, authority1, \"authority\")\n",
        "V4.to_csv(\"V_feature_V4.csv\") \n",
        "!cp V_feature_V4.csv \"/content/drive/MyDrive/DHML/Final Project\""
      ],
      "execution_count": null,
      "outputs": [
        {
          "output_type": "display_data",
          "data": {
            "application/vnd.jupyter.widget-view+json": {
              "model_id": "899f28d787c64fbb98a942b44d58752c",
              "version_minor": 0,
              "version_major": 2
            },
            "text/plain": [
              "HBox(children=(FloatProgress(value=0.0, max=6205.0), HTML(value='')))"
            ]
          },
          "metadata": {
            "tags": []
          }
        },
        {
          "output_type": "stream",
          "text": [
            "\n"
          ],
          "name": "stdout"
        }
      ]
    },
    {
      "cell_type": "code",
      "metadata": {
        "colab": {
          "base_uri": "https://localhost:8080/",
          "height": 66,
          "referenced_widgets": [
            "ccec545200764866894c0e16af2cee23",
            "648bdd25e78b4d8da0b0b08b503852f9",
            "41e8b864390841b891328f09345ef0fe",
            "2c0e1d9c034e4635b570d61be93d3eb1",
            "1add03af0eb2401b9a0620fa72777299",
            "e257bd3dee83460c9d4face9ac3c50c4",
            "53c8141fb9954d94bbd4a176c9759f9b",
            "0a8336c1452b47f08a9bc9b3ea097ae8"
          ]
        },
        "id": "42CSj5k6GjDy",
        "outputId": "358b0076-0b26-4bd1-f2fe-b2da7a597cc5"
      },
      "source": [
        "V5 = get_x_2(Vegas, purity1, \"purity\")\n",
        "V5.to_csv(\"V_feature_V5.csv\") \n",
        "!cp V_feature_V5.csv \"/content/drive/MyDrive/DHML/Final Project\""
      ],
      "execution_count": null,
      "outputs": [
        {
          "output_type": "display_data",
          "data": {
            "application/vnd.jupyter.widget-view+json": {
              "model_id": "ccec545200764866894c0e16af2cee23",
              "version_minor": 0,
              "version_major": 2
            },
            "text/plain": [
              "HBox(children=(FloatProgress(value=0.0, max=6205.0), HTML(value='')))"
            ]
          },
          "metadata": {
            "tags": []
          }
        },
        {
          "output_type": "stream",
          "text": [
            "\n"
          ],
          "name": "stdout"
        }
      ]
    },
    {
      "cell_type": "code",
      "metadata": {
        "id": "IFwgx5TU9Q-l"
      },
      "source": [
        "V1 = pd.read_csv(\"/content/drive/MyDrive/DHML/Final Project/V_feature_V1.csv\")\n",
        "V2 = pd.read_csv(\"/content/drive/MyDrive/DHML/Final Project/V_feature_V2.csv\")\n",
        "V3 = pd.read_csv(\"/content/drive/MyDrive/DHML/Final Project/V_feature_V3.csv\")\n",
        "V4 = pd.read_csv(\"/content/drive/MyDrive/DHML/Final Project/V_feature_V4.csv\")\n",
        "V5 = pd.read_csv(\"/content/drive/MyDrive/DHML/Final Project/V_feature_V5.csv\")"
      ],
      "execution_count": null,
      "outputs": []
    },
    {
      "cell_type": "code",
      "metadata": {
        "id": "_gVtAHKMve0z"
      },
      "source": [
        "Vegas_feature = pd.concat([V1, V2, V3, V4, V5, TFIDF.head(6205)], axis = 1)"
      ],
      "execution_count": null,
      "outputs": []
    },
    {
      "cell_type": "code",
      "metadata": {
        "id": "MGUWaLaSEq7S"
      },
      "source": [
        "Vegas_feature = Vegas_feature.drop([\"Unnamed: 0\"], axis = 1)"
      ],
      "execution_count": null,
      "outputs": []
    },
    {
      "cell_type": "code",
      "metadata": {
        "id": "rVgobLK-FyHy"
      },
      "source": [
        "Vegas_feature.to_csv(\"Vegas_feature_whole.csv\") \n",
        "!cp Vegas_feature_whole.csv \"/content/drive/MyDrive/DHML/Final Project\""
      ],
      "execution_count": null,
      "outputs": []
    },
    {
      "cell_type": "markdown",
      "metadata": {
        "id": "P8NP37wgHoo0"
      },
      "source": [
        "## Vegas feature"
      ]
    },
    {
      "cell_type": "code",
      "metadata": {
        "id": "wo3xIkxnGWmy"
      },
      "source": [
        "Vegas_feature = pd.read_csv(\"/content/drive/MyDrive/DHML/Final Project/Vegas_feature_whole.csv\")"
      ],
      "execution_count": null,
      "outputs": []
    },
    {
      "cell_type": "code",
      "metadata": {
        "id": "6_0FeN-rVcA8"
      },
      "source": [
        "Vegas_feature = Vegas_feature.drop([\"Unnamed: 0\"], axis=1)"
      ],
      "execution_count": null,
      "outputs": []
    },
    {
      "cell_type": "code",
      "metadata": {
        "id": "yJyiwld2GZag"
      },
      "source": [
        "Vegas_care = Vegas_feature.drop([\"num fairness\", \"max_n fairness\", \"num loyalty\", \"max_n loyalty\", \"num authority\", \"max_n authority\", \"num purity\", \"max_n purity\"], axis = 1)\n",
        "Vegas_fairness = Vegas_feature.drop([\"num care\", \"max_n care\", \"num loyalty\", \"max_n loyalty\", \"num authority\", \"max_n authority\", \"num purity\", \"max_n purity\"], axis = 1)\n",
        "Vegas_loyalty = Vegas_feature.drop([\"num fairness\", \"max_n fairness\", \"num care\", \"max_n care\", \"num authority\", \"max_n authority\", \"num purity\", \"max_n purity\"], axis = 1)\n",
        "Vegas_authority = Vegas_feature.drop([\"num fairness\", \"max_n fairness\", \"num loyalty\", \"max_n loyalty\", \"num care\", \"max_n care\", \"num purity\", \"max_n purity\"], axis = 1)\n",
        "Vegas_purity = Vegas_feature.drop([\"num fairness\", \"max_n fairness\", \"num loyalty\", \"max_n loyalty\", \"num authority\", \"max_n authority\", \"num care\", \"max_n care\"], axis = 1)"
      ],
      "execution_count": null,
      "outputs": []
    },
    {
      "cell_type": "markdown",
      "metadata": {
        "id": "fnvoNFWz_j3N"
      },
      "source": [
        "#Model 1 -- SVM"
      ]
    },
    {
      "cell_type": "code",
      "metadata": {
        "id": "V37YEjF5QWt1"
      },
      "source": [
        "def svm_model(feature, label, x_value, c):\n",
        "  x = feature.to_numpy()\n",
        "  y = label.to_numpy()\n",
        "  x_train, x_test, y_train, y_test = train_test_split(x, y,\n",
        "          test_size=0.20, random_state = 25)\n",
        "  model_svm = svm.SVC(kernel=\"linear\", C=c)\n",
        "  model_svm.fit(x_train, y_train)  \n",
        "  y_predict = model_svm.predict(x_test)\n",
        "  accuracy = accuracy_score(y_test, y_predict)\n",
        "  y_predict_data = model_svm.predict(x_value.to_numpy())\n",
        "  #a, b = model_svm.coef_[0][0], model_svm.coef_[0][1]\n",
        "  #bias = model_svm.intercept_\n",
        "  print(accuracy)\n",
        "  return y_predict_data"
      ],
      "execution_count": null,
      "outputs": []
    },
    {
      "cell_type": "markdown",
      "metadata": {
        "id": "4rPrv7qpuNoX"
      },
      "source": [
        "C = 1"
      ]
    },
    {
      "cell_type": "code",
      "metadata": {
        "id": "ZlqSF5g5rn1v"
      },
      "source": [
        "svm_model(feature_care, label_care, ElPaso_care.head(), 1)\n",
        "svm_model(feature_fairness, label_fairness, ElPaso_fairness.head(), 1)\n",
        "svm_model(feature_loyalty, label_loyalty, ElPaso_loyalty.head(), 1)\n",
        "svm_model(feature_authority, label_authority, ElPaso_authority.head(), 1)\n",
        "svm_model(feature_purity, label_purity, ElPaso_purity.head(), 1)"
      ],
      "execution_count": null,
      "outputs": []
    },
    {
      "cell_type": "markdown",
      "metadata": {
        "id": "Mi8CNVEYuP3d"
      },
      "source": [
        "C = 10"
      ]
    },
    {
      "cell_type": "code",
      "metadata": {
        "id": "03BjaDrKuYTj"
      },
      "source": [
        "svm_model(feature_care, label_care, ElPaso_care.head(), 10)\n",
        "svm_model(feature_fairness, label_fairness, ElPaso_fairness.head(), 10)\n",
        "svm_model(feature_loyalty, label_loyalty, ElPaso_loyalty.head(), 10)\n",
        "svm_model(feature_authority, label_authority, ElPaso_authority.head(), 10)\n",
        "svm_model(feature_purity, label_purity, ElPaso_purity.head(), 10)"
      ],
      "execution_count": null,
      "outputs": []
    },
    {
      "cell_type": "markdown",
      "metadata": {
        "id": "1nyNkHCxuSCk"
      },
      "source": [
        "C = 100"
      ]
    },
    {
      "cell_type": "code",
      "metadata": {
        "id": "JTpt7ANFuaiV"
      },
      "source": [
        "svm_model(feature_care, label_care, ElPaso_care.head(), 100)\n",
        "svm_model(feature_fairness, label_fairness, ElPaso_fairness.head(), 100)\n",
        "svm_model(feature_loyalty, label_loyalty, ElPaso_loyalty.head(), 100)\n",
        "svm_model(feature_authority, label_authority, ElPaso_authority.head(), 100)\n",
        "svm_model(feature_purity, label_purity, ElPaso_purity.head(), 100)"
      ],
      "execution_count": null,
      "outputs": []
    },
    {
      "cell_type": "markdown",
      "metadata": {
        "id": "RN-xtdFHunW0"
      },
      "source": [
        "C = 1000"
      ]
    },
    {
      "cell_type": "code",
      "metadata": {
        "id": "dZ9JnO57upLQ"
      },
      "source": [
        "svm_model(feature_care, label_care, ElPaso_care.head(), 1000)\n",
        "svm_model(feature_fairness, label_fairness, ElPaso_fairness.head(), 1000)\n",
        "svm_model(feature_loyalty, label_loyalty, ElPaso_loyalty.head(), 1000)\n",
        "svm_model(feature_authority, label_authority, ElPaso_authority.head(), 1000)\n",
        "svm_model(feature_purity, label_purity, ElPaso_purity.head(), 1000)"
      ],
      "execution_count": null,
      "outputs": []
    },
    {
      "cell_type": "markdown",
      "metadata": {
        "id": "85Uc351ru-wX"
      },
      "source": [
        "C = 0.1"
      ]
    },
    {
      "cell_type": "code",
      "metadata": {
        "id": "ItTgDAVyvAql"
      },
      "source": [
        "svm_model(feature_care, label_care, ElPaso_care.head(), 0.1)\n",
        "svm_model(feature_fairness, label_fairness, ElPaso_fairness.head(), 0.1)\n",
        "svm_model(feature_loyalty, label_loyalty, ElPaso_loyalty.head(), 0.1)\n",
        "svm_model(feature_authority, label_authority, ElPaso_authority.head(), 0.1)\n",
        "svm_model(feature_purity, label_purity, ElPaso_purity.head(), 0.1)"
      ],
      "execution_count": null,
      "outputs": []
    },
    {
      "cell_type": "markdown",
      "metadata": {
        "id": "A4NAG7B44x-f"
      },
      "source": [
        "Run the actual dataset"
      ]
    },
    {
      "cell_type": "code",
      "metadata": {
        "id": "fAu_CM2eyc-t"
      },
      "source": [
        "# Choose C=10 because C = 1 is really underfitting. It basically estimate 0 for all of them.\n",
        "ElPaso.insert(3, \"care\", svm_model(feature_care, label_care, ElPaso_care, 10), True)\n",
        "ElPaso.insert(4, \"fairness\", svm_model(feature_fairness, label_fairness, ElPaso_fairness, 10), True)\n",
        "ElPaso.insert(5, \"in_group\", svm_model(feature_loyalty, label_loyalty, ElPaso_loyalty, 10), True)\n",
        "ElPaso.insert(6, \"authority\", svm_model(feature_authority, label_authority, ElPaso_authority, 10), True)\n",
        "ElPaso.insert(7, \"purity\", svm_model(feature_purity, label_purity, ElPaso_purity, 10), True)"
      ],
      "execution_count": null,
      "outputs": []
    },
    {
      "cell_type": "code",
      "metadata": {
        "id": "WAobBJxRysxy"
      },
      "source": [
        "ElPaso.to_csv(\"El_Paso_model_svm.csv\") \n",
        "!cp El_Paso_model_svm.csv \"/content/drive/MyDrive/DHML/Final Project\""
      ],
      "execution_count": null,
      "outputs": []
    },
    {
      "cell_type": "code",
      "metadata": {
        "id": "R0L64PNA-tN7"
      },
      "source": [
        "ElPaso = pd.read_csv(\"/content/drive/MyDrive/DHML/Final Project/El_Paso_Final.csv\")"
      ],
      "execution_count": null,
      "outputs": []
    },
    {
      "cell_type": "code",
      "metadata": {
        "id": "9FE2TZxF-bN5"
      },
      "source": [
        "ElPaso.insert(3, \"care\", svm_model(feature_care, label_care, ElPaso_care, 1), True)\n",
        "ElPaso.insert(4, \"fairness\", svm_model(feature_fairness, label_fairness, ElPaso_fairness, 1), True)\n",
        "ElPaso.insert(5, \"in_group\", svm_model(feature_loyalty, label_loyalty, ElPaso_loyalty, 1), True)\n",
        "ElPaso.insert(6, \"authority\", svm_model(feature_authority, label_authority, ElPaso_authority, 1), True)\n",
        "ElPaso.insert(7, \"purity\", svm_model(feature_purity, label_purity, ElPaso_purity, 1), True)"
      ],
      "execution_count": null,
      "outputs": []
    },
    {
      "cell_type": "code",
      "metadata": {
        "id": "NzI9vsY9-lP6"
      },
      "source": [
        "ElPaso.to_csv(\"El_Paso_model_svm_c_1.csv\") \n",
        "!cp El_Paso_model_svm_c_1.csv \"/content/drive/MyDrive/DHML/Final Project\""
      ],
      "execution_count": null,
      "outputs": []
    },
    {
      "cell_type": "code",
      "metadata": {
        "id": "PSe91C7-5jVZ"
      },
      "source": [
        "Vegas.insert(3, \"care\", svm_model(feature_care, label_care, Vegas_care, 10), True)\n",
        "Vegas.insert(4, \"fairness\", svm_model(feature_fairness, label_fairness, Vegas_fairness, 10), True)\n",
        "Vegas.insert(5, \"in_group\", svm_model(feature_loyalty, label_loyalty, Vegas_loyalty, 10), True)\n",
        "Vegas.insert(6, \"authority\", svm_model(feature_authority, label_authority, Vegas_authority, 10), True)\n",
        "Vegas.insert(7, \"purity\", svm_model(feature_purity, label_purity, Vegas_purity, 10), True)"
      ],
      "execution_count": null,
      "outputs": []
    },
    {
      "cell_type": "code",
      "metadata": {
        "id": "Ksv36Vxw9zVk"
      },
      "source": [
        "Vegas.to_csv(\"Vegas_model_svm.csv\") \n",
        "!cp Vegas_model_svm.csv \"/content/drive/MyDrive/DHML/Final Project\""
      ],
      "execution_count": null,
      "outputs": []
    },
    {
      "cell_type": "code",
      "metadata": {
        "id": "gr0QWP1X-1Ei"
      },
      "source": [
        "Vegas = pd.read_csv(\"/content/drive/MyDrive/DHML/Final Project/Vegas_Final.csv\")"
      ],
      "execution_count": null,
      "outputs": []
    },
    {
      "cell_type": "code",
      "metadata": {
        "id": "iVlussmZ-vwc"
      },
      "source": [
        "Vegas.insert(3, \"care\", svm_model(feature_care, label_care, Vegas_care, 1), True)\n",
        "Vegas.insert(4, \"fairness\", svm_model(feature_fairness, label_fairness, Vegas_fairness, 1), True)\n",
        "Vegas.insert(5, \"in_group\", svm_model(feature_loyalty, label_loyalty, Vegas_loyalty, 1), True)\n",
        "Vegas.insert(6, \"authority\", svm_model(feature_authority, label_authority, Vegas_authority, 1), True)\n",
        "Vegas.insert(7, \"purity\", svm_model(feature_purity, label_purity, Vegas_purity, 1), True)"
      ],
      "execution_count": null,
      "outputs": []
    },
    {
      "cell_type": "code",
      "metadata": {
        "id": "q_uOhDle-xpC"
      },
      "source": [
        "Vegas.to_csv(\"Vegas_model_svm.csv\") \n",
        "!cp Vegas_model_svm.csv \"/content/drive/MyDrive/DHML/Final Project\""
      ],
      "execution_count": null,
      "outputs": []
    },
    {
      "cell_type": "markdown",
      "metadata": {
        "id": "KSyxugPOi_2i"
      },
      "source": [
        "#Model 2 -- Word2Vec + SVM Model, use moral foundations dictionary 2.0\n",
        "\n",
        "I am not sure if I want to run this one because it takes forever...\n",
        "\n",
        "Due to our limited time and limited resource, this model takes a long time to run. Future research could potentially improve on the efficiency of this model and run it on moral foundation dictionary 2.0"
      ]
    },
    {
      "cell_type": "code",
      "metadata": {
        "id": "dAe_50W8Ft1O"
      },
      "source": [
        "ElPaso2 = pd.read_csv(\"/content/drive/MyDrive/DHML/Final Project/El_Paso_Final.csv\")\n",
        "Vegas2 = pd.read_csv(\"/content/drive/MyDrive/DHML/Final Project/Vegas_Final.csv\")"
      ],
      "execution_count": null,
      "outputs": []
    },
    {
      "cell_type": "code",
      "metadata": {
        "id": "uW7tQ3fcsE4X"
      },
      "source": [
        "care2 = ['compassion', 'empathy', 'kindness', 'caring', 'generosity', 'benevolence', 'altruism', 'compassionate', 'nurture', 'gentleness', 'nurturance', 'sympathy', 'nurturing', 'motherly', 'love', 'beneficence', 'empathize', 'helpfulness', 'loving', 'pity', 'mercy', 'nurturer', 'compassionately', 'nurturers', 'caringly', 'empathising', 'merciful', 'empathizing', 'nurtures', 'warmhearted', 'empathizers', 'protectiveness', 'nurtured', 'benevolent', 'mothering', 'cared', 'healing', 'empathises', 'humane', 'comfort', 'pitied', 'loved', 'altruist', 'cares', 'pitying', 'comforted', 'hug', 'comforting', 'consoling', 'empathizes', 'sympathize', 'care', 'caregiver', 'empathised', 'hugs', 'heal', 'generous', 'condolences', 'mothered', 'charitable', 'generously', 'pities', 'condolence', 'help', 'consolingly', 'solace', 'mother', 'healer', 'hospitality', 'charity', 'empathized', 'healers', 'pityingly', 'mothers', 'child', 'lovingly', 'parenting', 'rescuing', 'rescuer', 'loves', 'consoled', 'clothe', 'sympathizing', 'helping', 'shared', 'childhood', 'mommy', 'vulnerability', 'helpers', 'lover', 'hospitable', 'sharer', 'feeding', 'nursed', 'helper', 'safeness', 'nurses', 'protector', 'motherhood', 'alleviation', 'nursemaid', 'safeguard', 'protect', 'healthiness', 'protecters', 'patient', 'nurse', 'vulnerable', 'benefit', 'feed', 'childcare', 'rescuers', 'hugged', 'helpful', 'rescues', 'nursing', 'protecting', 'heals', 'childbearing', 'hugger', 'relief', 'healed', 'rescued', 'patients', 'share', 'rescue', 'healthy', 'hospitalise', 'hospitalising', 'hugging', 'nursery', 'healthier', 'sharing', 'helps', 'sympathizers', 'hospitalises', 'alleviating', 'wounded', 'wounds', 'hospitalize', 'alleviate', 'protective', 'protection', 'health', 'relieve', 'sympathizer', 'safety', 'beneficiary', 'helped', 'hospital', 'childbirth', 'benefits', 'healthcare', 'relievers', 'feeds', 'hospitalization', 'benefitting', 'relieving', 'safe', 'feeder', 'benefitted', 'hospitalized', 'unharmful', 'protects', 'unharmed', 'protecter', 'safely', 'safekeeping', 'hospitalizing', 'wounding', 'reliever', 'shares', 'relieves', 'alleviates', 'relieved', 'hospitalizes', 'console', 'protectorate', 'alleviated', 'protected', 'wound', 'consoles', 'compassion', 'empathy', 'kindness', 'caring', 'generosity', 'benevolence', 'altruism', 'compassionate', 'nurture', 'gentleness', 'nurturance', 'sympathy', 'nurturing', 'motherly', 'love', 'beneficence', 'empathize', 'helpfulness', 'loving', 'pity', 'mercy', 'nurturer', 'compassionately', 'nurturers', 'caringly', 'empathising', 'merciful', 'empathizing', 'nurtures', 'warmhearted', 'empathizers', 'protectiveness', 'nurtured', 'benevolent', 'mothering', 'cared', 'healing', 'empathises', 'humane', 'comfort', 'pitied', 'loved', 'altruist', 'cares', 'pitying', 'comforted', 'hug', 'comforting', 'consoling', 'empathizes', 'sympathize', 'care', 'caregiver', 'empathised', 'hugs', 'heal', 'generous', 'condolences', 'mothered', 'charitable', 'generously', 'pities', 'condolence', 'help', 'consolingly', 'solace', 'mother', 'healer', 'hospitality', 'charity', 'empathized', 'healers', 'pityingly', 'mothers', 'child', 'lovingly', 'parenting', 'rescuing', 'rescuer', 'loves', 'consoled', 'clothe', 'sympathizing', 'helping', 'shared', 'childhood', 'mommy', 'vulnerability', 'helpers', 'lover', 'hospitable', 'sharer', 'feeding', 'nursed', 'helper', 'safeness', 'nurses', 'protector', 'motherhood', 'alleviation', 'nursemaid', 'safeguard', 'protect', 'healthiness', 'protecters', 'patient', 'nurse', 'vulnerable', 'benefit', 'feed', 'childcare', 'rescuers', 'hugged', 'helpful', 'rescues', 'nursing', 'protecting', 'heals', 'childbearing', 'hugger', 'relief', 'healed', 'rescued', 'patients', 'share', 'rescue', 'healthy', 'hospitalise', 'hospitalising', 'hugging', 'nursery', 'healthier', 'sharing', 'helps', 'sympathizers', 'hospitalises', 'alleviating', 'wounded', 'wounds', 'hospitalize', 'alleviate', 'protective', 'protection', 'health', 'relieve', 'sympathizer', 'safety', 'beneficiary', 'helped', 'hospital', 'childbirth', 'benefits', 'healthcare', 'relievers', 'feeds', 'hospitalization', 'benefitting', 'relieving', 'safe', 'feeder', 'benefitted', 'hospitalized', 'unharmful', 'protects', 'unharmed', 'protecter', 'safely', 'safekeeping', 'hospitalizing', 'wounding', 'reliever', 'shares', 'relieves', 'alleviates', 'relieved', 'hospitalizes', 'console', 'protectorate', 'alleviated', 'protected', 'wound', 'consoles', 'compassion', 'empathy', 'kindness', 'caring', 'generosity', 'benevolence', 'altruism', 'compassionate', 'nurture', 'gentleness', 'nurturance', 'sympathy', 'nurturing', 'motherly', 'love', 'beneficence', 'empathize', 'helpfulness', 'loving', 'pity', 'mercy', 'nurturer', 'compassionately', 'nurturers', 'caringly', 'empathising', 'merciful', 'empathizing', 'nurtures', 'warmhearted', 'empathizers', 'protectiveness', 'nurtured', 'benevolent', 'mothering', 'cared', 'healing', 'empathises', 'humane', 'comfort', 'pitied', 'loved', 'altruist', 'cares', 'pitying', 'comforted', 'hug', 'comforting', 'consoling', 'empathizes', 'sympathize', 'care', 'caregiver', 'empathised', 'hugs', 'heal', 'generous', 'condolences', 'mothered', 'charitable', 'generously', 'pities', 'condolence', 'help', 'consolingly', 'solace', 'mother', 'healer', 'hospitality', 'charity', 'empathized', 'healers', 'pityingly', 'mothers', 'child', 'lovingly', 'parenting', 'rescuing', 'rescuer', 'loves', 'consoled', 'clothe', 'sympathizing', 'helping', 'shared', 'childhood', 'mommy', 'vulnerability', 'helpers', 'lover', 'hospitable', 'sharer', 'feeding', 'nursed', 'helper', 'safeness', 'nurses', 'protector', 'motherhood', 'alleviation', 'nursemaid', 'safeguard', 'protect', 'healthiness', 'protecters', 'patient', 'nurse', 'vulnerable', 'benefit', 'feed', 'childcare', 'rescuers', 'hugged', 'helpful', 'rescues', 'nursing', 'protecting', 'heals', 'childbearing', 'hugger', 'relief', 'healed', 'rescued', 'patients', 'share', 'rescue', 'healthy', 'hospitalise', 'hospitalising', 'hugging', 'nursery', 'healthier', 'sharing', 'helps', 'sympathizers', 'hospitalises', 'alleviating', 'wounded', 'wounds', 'hospitalize', 'alleviate', 'protective', 'protection', 'health', 'relieve', 'sympathizer', 'safety', 'beneficiary', 'helped', 'hospital', 'childbirth', 'benefits', 'healthcare', 'relievers', 'feeds', 'hospitalization', 'benefitting', 'relieving', 'safe', 'feeder', 'benefitted', 'hospitalized', 'unharmful', 'protects', 'unharmed', 'protecter', 'safely', 'safekeeping', 'hospitalizing', 'wounding', 'reliever', 'shares', 'relieves', 'alleviates', 'relieved', 'hospitalizes', 'console', 'protectorate', 'alleviated', 'protected', 'wound', 'consoles', 'compassion', 'empathy', 'kindness', 'caring', 'generosity', 'benevolence', 'altruism', 'compassionate', 'nurture', 'gentleness', 'nurturance', 'sympathy', 'nurturing', 'motherly', 'love', 'beneficence', 'empathize', 'helpfulness', 'loving', 'pity', 'mercy', 'nurturer', 'compassionately', 'nurturers', 'caringly', 'empathising', 'merciful', 'empathizing', 'nurtures', 'warmhearted', 'empathizers', 'protectiveness', 'nurtured', 'benevolent', 'mothering', 'cared', 'healing', 'empathises', 'humane', 'comfort', 'pitied', 'loved', 'altruist', 'cares', 'pitying', 'comforted', 'hug', 'comforting', 'consoling', 'empathizes', 'sympathize', 'care', 'caregiver', 'empathised', 'hugs', 'heal', 'generous', 'condolences', 'mothered', 'charitable', 'generously', 'pities', 'condolence', 'help', 'consolingly', 'solace', 'mother', 'healer', 'hospitality', 'charity', 'empathized', 'healers', 'pityingly', 'mothers', 'child', 'lovingly', 'parenting', 'rescuing', 'rescuer', 'loves', 'consoled', 'clothe', 'sympathizing', 'helping', 'shared', 'childhood', 'mommy', 'vulnerability', 'helpers', 'lover', 'hospitable', 'sharer', 'feeding', 'nursed', 'helper', 'safeness', 'nurses', 'protector', 'motherhood', 'alleviation', 'nursemaid', 'safeguard', 'protect', 'healthiness', 'protecters', 'patient', 'nurse', 'vulnerable', 'benefit', 'feed', 'childcare', 'rescuers', 'hugged', 'helpful', 'rescues', 'nursing', 'protecting', 'heals', 'childbearing', 'hugger', 'relief', 'healed', 'rescued', 'patients', 'share', 'rescue', 'healthy', 'hospitalise', 'hospitalising', 'hugging', 'nursery', 'healthier', 'sharing', 'helps', 'sympathizers', 'hospitalises', 'alleviating', 'wounded', 'wounds', 'hospitalize', 'alleviate', 'protective', 'protection', 'health', 'relieve', 'sympathizer', 'safety', 'beneficiary', 'helped', 'hospital', 'childbirth', 'benefits', 'healthcare', 'relievers', 'feeds', 'hospitalization', 'benefitting', 'relieving', 'safe', 'feeder', 'benefitted', 'hospitalized', 'unharmful', 'protects', 'unharmed', 'protecter', 'safely', 'safekeeping', 'hospitalizing', 'wounding', 'reliever', 'shares', 'relieves', 'alleviates', 'relieved', 'hospitalizes', 'console', 'protectorate', 'alleviated', 'protected', 'wound', 'consoles', 'harm', 'suffer', 'hurt', 'harmed', 'hurting', 'hurts', 'cruel', 'endanger', 'harming', 'harms', 'suffering', 'threaten', 'inflict', 'suffered', 'harmful', 'inflicted', 'mistreat', 'endangers', 'damaging', 'injurious', 'victimize', 'inflicts', 'hurtful', 'suffers', 'inflicting', 'injures', 'vulnerable', 'unkind', 'damage', 'kill', 'die', 'victimizes', 'torment', 'destroy', 'brutalise', 'brutalises', 'distresses', 'endangering', 'mistreats', 'afflict', 'distressing', 'destroys', 'victimises', 'maltreat', 'pain', 'harsh', 'mistreated', 'ravage', 'threatened', 'harass', 'unkindness', 'afflicted', 'threatens', 'threatening', 'distress', 'brutalize', 'tormenting', 'brutalized', 'victimizing', 'damager', 'damaged', 'bully', 'agony', 'abused', 'coldhearted', 'inhuman', 'injured', 'torments', 'brutalizes', 'uncompassionate', 'cruelty', 'tormented', 'mistreating', 'endangered', 'uncaring', 'anguishes', 'destroying', 'killed', 'mistreatment', 'bullied', 'harsher', 'cruelness', 'tortured', 'pained', 'tortures', 'torturing', 'maltreated', 'anguish', 'persecutes', 'maltreatment', 'brutalizing', 'attacked', 'victim', 'crying', 'damages', 'discomforting', 'abusing', 'threat', 'persecute', 'brutalization', 'violent', 'annihilated', 'torturous', 'harasses', 'injurer', 'destroyed', 'molests', 'molest', 'injuring', 'afflicts', 'killing', 'ache', 'wounded', 'persecuted', 'ravages', 'harassed', 'exploited', 'injury', 'brutalisation', 'discomfort', 'unmerciful', 'annihilate', 'exploiters', 'injurers', 'destruction', 'manhandle', 'kills', 'casualties', 'maltreating', 'victims', 'harassing', 'needier', 'smother', 'harassment', 'smothers', 'unhelpful', 'agonize', 'inhumanity', 'duress', 'victimization', 'exploiting', 'cried', 'wounds', 'wounding', 'murderous', 'ravaged', 'uncaringly', 'pains', 'painfulness', 'manhandles', 'bullies', 'assaulted', 'uncharitable', 'distressed', 'persecution', 'murdered', 'ravaging', 'discomforted', 'exploitation', 'torture', 'murderers', 'aches', 'afflictions', 'ungenerous', 'victimizer', 'agonizing', 'paining', 'persecuting', 'exploit', 'harassers', 'malevolent', 'stabs', 'sorrowful', 'assaults', 'needy', 'affliction', 'cries', 'fighting', 'fight', 'attack', 'annihilates', 'sorrow', 'agonized', 'assaulting', 'inhospitable', 'threats', 'ached', 'rapists', 'abuser', 'raped', 'assassinates', 'stabbed', 'inhospitality', 'annihilation', 'punch', 'harshness', 'abusers', 'killer', 'sufferers', 'victimizers', 'smite', 'killers', 'discomforts', 'fatalities', 'molested', 'brutality', 'murdering', 'torturer', 'torturers', 'fights', 'harmfulness', 'bullying', 'casualty', 'sufferer', 'exploiter', 'fatality', 'punches', 'abuses', 'attacks', 'vulnerability', 'carnage', 'tribulation', 'annihilator', 'smothering', 'bullyboy', 'murderer', 'wound', 'stabber', 'tormenters', 'malevolence', 'raping', 'smothered', 'assault', 'genocidal', 'anguishing', 'aching', 'anguished', 'stabbing', 'rapist', 'harasser', 'hungers', 'hunger', 'molesting', 'rape', 'molesters', 'punched', 'violence', 'distressingly', 'molester', 'stabbers', 'neediness', 'assassinate', 'agonizingly', 'tribulations', 'unhelpfulness', 'assaulter', 'puncher', 'punching', 'rapes', 'genocides', 'attackers', 'tormentor', 'assassinations', 'destroyers', 'punchers', 'sorrows', 'tormenter', 'threateningly', 'murder', 'destroyer', 'assassinating', 'crier', 'assassinated', 'molestation', 'attacker', 'murders', 'genocide', 'fighter', 'assassins', 'assaulters', 'hungering', 'achingly', 'hungered', 'murderess', 'assassin', 'exploits', 'fighters', 'assassination']\n",
        "fairness2 = ['equality', 'fairness', 'justice', 'rights', 'equitable', 'rights', 'fairplay', 'impartiality', 'equal', 'fairminded', 'proportionality', 'equalities', 'fair', 'integrity', 'impartial', 'reciprocity', 'honesty', 'egalitarian', 'right', 'law', 'justness', 'unbias', 'egalitarians', 'parity', 'objectiveness', 'reparations', 'unprejudiced', 'justices', 'laws', 'tribunals', 'retribution', 'reparation', 'lawfully', 'lawful', 'honest', 'compensation', 'lawyers', 'sportsmanship', 'tribunal', 'others', 'rule', 'lawyer', 'proportional', 'equity', 'lawyering', 'trust', 'reciprocal', 'objective', 'justification', 'trustworthiness', 'unbiased', 'vengeance', 'revenge', 'retributions', 'equals', 'equalize', 'refereeing', 'restitution', 'compensating', 'objective', 'back', 'justified', 'justifies', 'retaliation', 'lawyered', 'compensated', 'referees', 'karma', 'share', 'avenger', 'trusting', 'avengers', 'deal', 'trusts', 'compensate', 'trustworthy', 'field', 'tat', 'retaliate', 'field', 'eye', 'deals', 'repayment', 'payback', 'equities', 'justify', 'dues', 'dealing', 'referee', 'repaid', 'dealer', 'equalizer', 'processes', 'fields', 'repay', 'compensates', 'justifying', 'processing', 'process', 'repayments', 'repaying', 'field', 'retaliating', 'dealers', 'retaliated', 'refereed', 'revenger', 'avenging', 'repays', 'trusted', 'avenge', 'retaliates', 'equalizers', 'avenged', 'avenges', 'cheat', 'unfair', 'cheating', 'unfairness', 'injustice', 'fraud', 'dishonest', 'unjust', 'cheated', 'fraudulent', 'cheats', 'frauds', 'dishonesty', 'cheaters', 'deception', 'injustices', 'swindle', 'inequity', 'hypocrisy', 'discrimination', 'unequal', 'cheater', 'inequities', 'defraud', 'racism', 'scam', 'liar', 'defrauds', 'betrayal', 'deceit', 'defrauded', 'inequality', 'liars', 'defrauders', 'hypocrite', 'biased', 'ripoffs', 'scams', 'fleecing', 'defrauder', 'discriminates', 'mislead', 'inequalities', 'prejudice', 'fleeced', 'defrauding', 'ripoff', 'scamming', 'imposters', 'exploitation', 'crooked', 'oppress', 'racist', 'oppression', 'imposter', 'swindled', 'hypocrites', 'plagiarism', 'lied', 'untrustworthiness', 'hoodwink', 'scammed', 'blackmail', 'bilks', 'swindling', 'betrayed', 'bias', 'connive', 'crooks', 'deceive', 'freeloaders', 'favoritism', 'disparity', 'swindles', 'deceived', 'exploiters', 'misleading', 'discriminated', 'bilked', 'deceiving', 'untrustworthy', 'prejudiced', 'advertise', 'scammers', 'swindler', 'theft', 'duplicitous', 'hoodwinked', 'bigoted', 'sexism', 'disproportionate', 'swindlers', 'discriminate', 'conniving', 'sexist', 'betraying', 'hoodwinking', 'partiality', 'misleads', 'disproportion', 'disparity', 'exploiter', 'bilk', 'biases', 'bigots', 'distrust', 'dupe', 'crook', 'racists', 'artist', 'bilking', 'blackmailing', 'deceives', 'betrayers', 'deceiver', 'blackmailed', 'duping', 'shyster', 'connivers', 'imbalanced', 'artists', 'sexists', 'thieving', 'betray', 'imbalance', 'disproportions', 'disproportionately', 'freeloader', 'misleaders', 'connived', 'shysters', 'scammer', 'connives', 'conniver', 'disadvantaged', 'plagiaristic', 'moocher', 'dupes', 'discriminating', 'tricked', 'segregation', 'advertised', 'thief', 'betrayer', 'bigot', 'exploiting', 'lying', 'thieves', 'stealing', 'suckered', 'deceivers', 'bamboozled', 'advertisement', 'freeload', 'bamboozle', 'rob', 'freeloading', 'steal', 'pickpocketing', 'blackmailer', 'prejudicing', 'chauvinists', 'exploit', 'misleader', 'hoodwinks', 'advertiser', 'imbalances', 'pickpocketed', 'exploited', 'pickpockets', 'bamboozles', 'tricking', 'advantage', 'pickpocket', 'advertisers', 'biasing', 'impression', 'bamboozling', 'witness', 'robs', 'moochers', 'betrays', 'robbing', 'advertises', 'impressions', 'blackmails', 'cross', 'blackmailers', 'rob', 'stolen', 'distrustful', 'advertising', 'crossers', 'mooches', 'disproportioned', 'mooching', 'segregated', 'crosser', 'robbed', 'misleadingly', 'segregating', 'stole', 'crosses', 'partial', 'exploits', 'distrusts', 'mooch', 'segregate', 'robbers', 'distrusted', 'crossing', 'distrusting', 'crossed', 'partial', 'on', 'deck', 'robber', 'segregates', 'off', 'trickster', 'off', 'backs', 'mooched', 'deck', 'partial', 'partial', 'deck', 'deck', 'back', 'partial', 'rider', 'off', 'riders', 'deceivingly', 'steals', 'unequaled']\n",
        "in_group2 = ['player', 'patriot', 'loyal', 'loyalty', 'patriots', 'follower', 'fidelity', 'allegiance', 'ally', 'comrade', 'loyalties', 'part', 'faction', 'comrades', 'allegiances', 'sacrifice', 'allies', 'organization', 'followers', 'them', 'sacrifices', 'one', 'camaraderie', 'comradery', 'all', 'fellow', 'family', 'allegiant', 'corps', 'unity', 'jack', 'uniter', 'glory', 'companions', 'country', 'companion', 'homeland', 'sacrificing', 'indivisible', 'sacrificed', 'solidarity', 'troops', 'nation', 'cult', 'kinship', 'companionship', 'clique', 'allied', 'community', 'group', 'factions', 'familiarity', 'solidarities', 'enlist', 'companionships', 'wife', 'united', 'belongs', 'congregation', 'arms', 'clan', 'trooper', 'sect', 'enlisted', 'enlistment', 'tribalism', 'cohorts', 'war', 'joining', 'troop', 'sacrificial', 'coalition', 'insider', 'pledge', 'cohort', 'enlisting', 'unite', 'communion', 'familiarities', 'belong', 'ingroup', 'belonged', 'company', 'collective', 'fellows', 'cliques', 'uniting', 'clans', 'hazing', 'congregates', 'herd', 'sects', 'uniters', 'undivided', 'unites', 'pledgers', 'coalitions', 'enlists', 'grouping', 'insiders', 'families', 'troupe', 'fellowship', 'kin', 'pledger', 'horde', 'nations', 'tribe', 'hordes', 'pledges', 'herder', 'commune', 'cults', 'congregations', 'organizations', 'herds', 'pledging', 'communities', 'familiar', 'hazings', 'belonging', 'pledged', 'bowed', 'collectively', 'together', 'groups', 'homelands', 'collectives', 'troopers', 'tribes', 'companies', 'countries', 'troupes', 'fellowships', 'tribal', 'communes', 'herders', 'grouped', 'herding', 'congregate', 'herded', 'congregating', 'traitor', 'disloyal', 'treason', 'traitors', 'betray', 'betraying', 'betrayer', 'betrayers', 'unpatriotic', 'betrayed', 'treachery', 'enemies', 'backstabber', 'backstabbed', 'heretic', 'enemy', 'betrays', 'deserter', 'infidels', 'infidel', 'backstab', 'deserting', 'apostate', 'heresy', 'backstabbers', 'heretics', 'unfaithful', 'rebellion', 'desertion', 'deserters', 'apostates', 'unfaithfulness', 'backstabbing', 'rebel', 'on', 'treacherous', 'backstabs', 'heresies', 'outsider', 'outgroup', 'on', 'us', 'on', 'rebels', 'infidelity', 'outgroups', 'rebellions', 'outsiders', 'on']\n",
        "authority2 = ['respect', 'obey', 'authority', 'obeyed', 'deference', 'reverence', 'respecting', 'obeying', 'tradition', 'adhere', 'obeys', 'revere', 'govern', 'comply', 'respectful', 'honor', 'adhered', 'allegiance', 'dictates', 'nobility', 'forbid', 'dominion', 'governed', 'obedient', 'reveres', 'adhering', 'governs', 'governing', 'oppress', 'respected', 'respectfully', 'honorable', 'dictate', 'commandments', 'commandment', 'venerate', 'politeness', 'respects', 'obedience', 'right', 'forbids', 'permission', 'veneration', 'hierarchy', 'forbade', 'honoring', 'proper', 'venerated', 'stature', 'acquiesce', 'adherence', 'deferential', 'leadership', 'punish', 'forbidding', 'revered', 'piety', 'patriarchs', 'decree', 'coerce', 'dominions', 'dictating', 'venerating', 'crown', 'venerates', 'institution', 'monarchical', 'servant', 'decrees', 'permit', 'says', 'supervise', 'duty', 'compliance', 'lionize', 'supervision', 'orders', 'arms', 'duties', 'dictated', 'elders', 'emperors', 'commands', 'acquiesced', 'emperor', 'adheres', 'servants', 'regulations', 'covenant', 'hierarchical', 'subordinate', 'policing', 'decreeing', 'acquiesces', 'authorizing', 'nobles', 'permits', 'matriarchal', 'authorizes', 'control', 'command', 'subordinating', 'hierarchies', 'reverential', 'deferentially', 'punishes', 'patriarch', 'empires', 'honored', 'allegiant', 'protect', 'traditional', 'subordination', 'punished', 'noble', 'order', 'worship', 'order', 'monarchs', 'ruling', 'example', 'authorities', 'guiding', 'presidents', 'slavishly', 'patriarchy', 'subordinates', 'protection', 'supervisers', 'before', 'fathers', 'down', 'institutions', 'coercion', 'governors', 'commanded', 'police', 'authorize', 'bullys', 'bully', 'protecting', 'acquiescing', 'empire', 'mentor', 'chiefs', 'monarchies', 'honors', 'over', 'acquiescent', 'allegiances', 'bowing', 'oligarchy', 'willing', 'polite', 'supervising', 'order', 'compliantly', 'bishops', 'monarch', 'slaves', 'traitors', 'punishments', 'authorized', 'protector', 'compliant', 'dutiful', 'father', 'punishment', 'coerces', 'line', 'monarchy', 'obediently', 'elder', 'oligarchies', 'dictators', 'leaders', 'bishop', 'over', 'worships', 'coercing', 'protectors', 'dictator', 'protected', 'punishing', 'traitor', 'commanding', 'coerced', 'commanders', 'pope', 'punitive', 'underlings', 'master', 'subordinated', 'president', 'charge', 'matriarchy', 'lionizing', 'slave', 'chief', 'covenants', 'commander', 'matriarch', 'authorizer', 'guide', 'ordered', 'supervised', 'captains', 'punisher', 'supervises', 'bossing', 'commandant', 'governor', 'protects', 'admiral', 'gun', 'bowed', 'dominate', 'arrest', 'mentored', 'ordering', 'submit', 'institutional', 'minister', 'lionizes', 'ranking', 'boss', 'captain', 'book', 'mentors', 'bullies', 'dominant', 'arrested', 'bossed', 'leader', 'rank', 'arresting', 'chieftain', 'ministers', 'regulation', 'superviser', 'dean', 'arrests', 'punishers', 'bullied', 'matriarchs', 'controlling', 'managerial', 'bosses', 'ranks', 'controls', 'dictation', 'guides', 'oligarchs', 'principals', 'dog', 'admirals', 'caste', 'captaining', 'queen', 'mentoring', 'elderly', 'castes', 'governess', 'captained', 'principal', 'bullying', 'submission', 'dominated', 'ladders', 'queens', 'underling', 'ladder', 'fathered', 'dominates', 'dominating', 'presidential', 'oligarch', 'controlled', 'submits', 'submitting', 'honcho', 'commandingly', 'president', 'slaving', 'fathering', 'slaved', 'managers', 'forbiddingly', 'controllers', 'submitted', 'ringleaders', 'ringleader', 'controller', 'ranked', 'manager', 'ministerial', 'submissions', 'ceo', 'punishingly', 'submitter', 'submitters', 'respect', 'obey', 'authority', 'obeyed', 'deference', 'reverence', 'respecting', 'obeying', 'tradition', 'adhere', 'obeys', 'revere', 'govern', 'comply', 'respectful', 'honor', 'adhered', 'allegiance', 'dictates', 'nobility', 'forbid', 'dominion', 'governed', 'obedient', 'reveres', 'adhering', 'governs', 'governing', 'oppress', 'respected', 'respectfully', 'honorable', 'dictate', 'commandments', 'commandment', 'venerate', 'politeness', 'respects', 'obedience', 'right', 'forbids', 'permission', 'veneration', 'hierarchy', 'forbade', 'honoring', 'proper', 'venerated', 'stature', 'acquiesce', 'adherence', 'deferential', 'leadership', 'punish', 'forbidding', 'revered', 'piety', 'patriarchs', 'decree', 'coerce', 'dominions', 'dictating', 'venerating', 'crown', 'venerates', 'institution', 'monarchical', 'servant', 'decrees', 'permit', 'says', 'supervise', 'duty', 'compliance', 'lionize', 'supervision', 'orders', 'arms', 'duties', 'dictated', 'elders', 'emperors', 'commands', 'acquiesced', 'emperor', 'adheres', 'servants', 'regulations', 'covenant', 'hierarchical', 'subordinate', 'policing', 'decreeing', 'acquiesces', 'authorizing', 'nobles', 'permits', 'matriarchal', 'authorizes', 'control', 'command', 'subordinating', 'hierarchies', 'reverential', 'deferentially', 'punishes', 'patriarch', 'empires', 'honored', 'allegiant', 'protect', 'traditional', 'subordination', 'punished', 'noble', 'order', 'worship', 'order', 'monarchs', 'ruling', 'example', 'authorities', 'guiding', 'presidents', 'slavishly', 'patriarchy', 'subordinates', 'protection', 'supervisers', 'before', 'fathers', 'down', 'institutions', 'coercion', 'governors', 'commanded', 'police', 'authorize', 'bullys', 'bully', 'protecting', 'acquiescing', 'empire', 'mentor', 'chiefs', 'monarchies', 'honors', 'over', 'acquiescent', 'allegiances', 'bowing', 'oligarchy', 'willing', 'polite', 'supervising', 'order', 'compliantly', 'bishops', 'monarch', 'slaves', 'traitors', 'punishments', 'authorized', 'protector', 'compliant', 'dutiful', 'father', 'punishment', 'coerces', 'line', 'monarchy', 'obediently', 'elder', 'oligarchies', 'dictators', 'leaders', 'bishop', 'over', 'worships', 'coercing', 'protectors', 'dictator', 'protected', 'punishing', 'traitor', 'commanding', 'coerced', 'commanders', 'pope', 'punitive', 'underlings', 'master', 'subordinated', 'president', 'charge', 'matriarchy', 'lionizing', 'slave', 'chief', 'covenants', 'commander', 'matriarch', 'authorizer', 'guide', 'ordered', 'supervised', 'captains', 'punisher', 'supervises', 'bossing', 'commandant', 'governor', 'protects', 'admiral', 'gun', 'bowed', 'dominate', 'arrest', 'mentored', 'ordering', 'submit', 'institutional', 'minister', 'lionizes', 'ranking', 'boss', 'captain', 'book', 'mentors', 'bullies', 'dominant', 'arrested', 'bossed', 'leader', 'rank', 'arresting', 'chieftain', 'ministers', 'regulation', 'superviser', 'dean', 'arrests', 'punishers', 'bullied', 'matriarchs', 'controlling', 'managerial', 'bosses', 'ranks', 'controls', 'dictation', 'guides', 'oligarchs', 'principals', 'dog', 'admirals', 'caste', 'captaining', 'queen', 'mentoring', 'elderly', 'castes', 'governess', 'captained', 'principal', 'bullying', 'submission', 'dominated', 'ladders', 'queens', 'underling', 'ladder', 'fathered', 'dominates', 'dominating', 'presidential', 'oligarch', 'controlled', 'submits', 'submitting', 'honcho', 'commandingly', 'president', 'slaving', 'fathering', 'slaved', 'managers', 'forbiddingly', 'controllers', 'submitted', 'ringleaders', 'ringleader', 'controller', 'ranked', 'manager', 'ministerial', 'submissions', 'ceo', 'punishingly', 'submitter', 'submitters']\n",
        "purity2 = ['sanctity', 'sacred', 'sacredness', 'purity', 'wholesome', 'pureness', 'wholesomeness', 'holiness', 'dignity', 'godly', 'piety', 'sanctify', 'chastity', 'undefiled', 'holy', 'sacrosanct', 'pious', 'righteousness', 'dignities', 'sanctified', 'godliness', 'spirituality', 'chaste', 'sanctifies', 'righteous', 'divine', 'religious', 'biblical', 'spiritual', 'deity', 'sanctifying', 'noble', 'modesty', 'decency', 'scriptures', 'nobility', 'religion', 'hallow', 'soul', 'hallowed', 'deism', 'pristine', 'exalted', 'hallowing', 'eternal', 'cross', 'deities', 'faith', 'unadulterated', 'scripture', 'wholesomely', 'divinities', 'worship', 'virgin', 'god', 'catholicism', 'saintly', 'saintliness', 'goddess', 'religiosity', 'purify', 'koranic', 'pure', 'crosses', 'exalt', 'virginity', 'divinity', 'consecrates', 'heaven', 'virginal', 'devout', 'dignified', 'tabernacle', 'exalts', 'buddhas', 'souls', 'temple', 'unsullied', 'heavenly', 'cleanliness', 'abstinance', 'spotlessness', 'talmudic', 'deists', 'gospels', 'prophets', 'religions', 'temples', 'buddhist', 'goddesses', 'saints', 'temperance', 'celibacy', 'consecrated', 'priestly', 'bless', 'marriage', 'prophet', 'exalting', 'unchaste', 'supernatural', 'eternally', 'purification', 'apostles', 'monastic', 'purified', 'communion', 'gods', 'celibate', 'christians', 'theological', 'monasticism', 'unspoiled', 'sterility', 'christian', 'buddha', 'deist', 'prophetic', 'saint', 'righteously', 'apostle', 'prayer', 'faiths', 'shrine', 'purifying', 'worships', 'virgins', 'glorious', 'dignifies', 'atonement', 'deification', 'orthodoxy', 'hallows', 'enshrining', 'nunneries', 'church', 'religiously', 'blessings', 'consecrate', 'gospel', 'pray', 'beatifying', 'yogis', 'theology', 'purifies', 'orthodox', 'untainted', 'torah', 'faithfully', 'catholic', 'heavens', 'yogi', 'consecrating', 'blessed', 'faithful', 'koran', 'abstinence', 'jesus', 'monastery', 'purities', 'consecration', 'catholics', 'prayers', 'prayed', 'sterile', 'blesses', 'enshrined', 'torahs', 'organic', 'bible', 'glory', 'allah', 'glories', 'priests', 'dignifying', 'enshrine', 'mosques', 'spotlessly', 'prude', 'reverend', 'soulful', 'deify', 'christ', 'cathedrals', 'churches', 'cathedral', 'dignify', 'monasteries', 'raw', 'enshrines', 'refinement', 'nuns', 'monks', 'gloriously', 'almighty', 'marring', 'repent', 'prays', 'clean', 'orthodoxies', 'exterminates', 'rabbis', 'spotless', 'bibles', 'mosque', 'immaculate', 'organics', 'purifier', 'foods', 'lord', 'praying', 'repenting', 'marry', 'elevating', 'marrying', 'immaculately', 'rabbi', 'nunnery', 'priest', 'food', 'bloodiness', 'marries', 'synagogues', 'synagogue', 'refined', 'repents', 'angel', 'blessing', 'monk', 'rabbinical', 'organically', 'pope', 'nun', 'nobles', 'prophetically', 'blood', 'repented', 'pastor', 'purifiers', 'lords', 'bloody', 'untouched', 'cleaning', 'exterminating', 'exterminated', 'imam', 'power', 'cleaners', 'married', 'beatification', 'beatify', 'extermination', 'exterminate', 'cleaner', 'body', 'immune', 'atoning', 'imams', 'cleaned', 'atones', 'mary', 'refines', 'cleans', 'atone', 'immunities', 'immunity', 'stainless', 'refining', 'refine', 'atoned', 'exterminator', 'exterminators', 'impurity', 'degradation', 'depravity', 'desecrate', 'desecration', 'repulsiveness', 'degrading', 'decay', 'filth', 'depravities', 'defile', 'sin', 'fornication', 'repulsive', 'depraved', 'impiety', 'degrade', 'repugnance', 'impure', 'degraded', 'desecrations', 'sinfulness', 'impurities', 'indecencies', 'defiled', 'defiles', 'uncleanliness', 'damnation', 'debauchery', 'impious', 'sinful', 'necrophiliacs', 'desecrates', 'sleaziness', 'desecrating', 'desecrated', 'grossness', 'contaminates', 'sinning', 'promiscuity', 'befouls', 'rottenness', 'hedonism', 'revolting', 'repugnant', 'godless', 'scum', 'befoul', 'satanic', 'sluttiness', 'disgusting', 'pestilence', 'debased', 'trashiness', 'sins', 'degradingly', 'corrupting', 'deprave', 'perverted', 'debase', 'fornicating', 'degraders', 'defiling', 'slime', 'horrors', 'repugnantly', 'defiler', 'deviants', 'degrades', 'corrupts', 'debasing', 'perverts', 'parasitic', 'disgusts', 'deflowering', 'hedonistic', 'deviant', 'scummy', 'horrifying', 'necrophilia', 'contamination', 'rot', 'stain', 'contaminating', 'contaminants', 'dirtying', 'debases', 'contaminate', 'abhor', 'heresy', 'sleaze', 'staining', 'defilers', 'harlot', 'plagues', 'sullies', 'fornicators', 'vermin', 'befouling', 'incest', 'trashy', 'excreting', 'deforms', 'abhorred', 'decayed', 'whores', 'deformities', 'perverse', 'adultery', 'fornicate', 'excrement', 'harlots', 'decaying', 'fornicator', 'unclean', 'nauseating', 'sully', 'heresies', 'satan', 'damns', 'satanically', 'sinned', 'sinners', 'adulterous', 'repulses', 'corruption', 'tainting', 'deformity', 'necrophiliac', 'decays', 'corrupted', 'deforming', 'contaminant', 'disgust', 'tarnishes', 'hell', 'filthy', 'taint', 'horrific', 'fecal', 'dirtied', 'flesh', 'stained', 'deform', 'putrid', 'scatalogical', 'dirties', 'whoring', 'cocksucker', 'plague', 'adulterers', 'excretes', 'infesting', 'slimy', 'excrete', 'scuzz', 'horror', 'tarnish', 'sexuality', 'parasite', 'obscenity', 'deformed', 'adulterer', 'befouled', 'muck', 'corpses', 'soiled', 'infest', 'incestuously', 'incestuous', 'fucker', 'devil', 'parasites', 'stains', 'skanks', 'corpse', 'whore', 'lepers', 'curses', 'corrupt', 'pathogens', 'diseased', 'deflower', 'hedonists', 'sinner', 'debaucherous', 'fester', 'hedonist', 'sleazy', 'fucks', 'promiscuous', 'cursed', 'curse', 'apostates', 'cocksuckers', 'heretic', 'lewdness', 'slutty', 'infests', 'festers', 'pervert', 'fuck', 'skanky', 'dirty', 'mucky', 'puke', 'alcoholism', 'feces', 'sullied', 'disgustingly', 'sexual', 'cunt', 'taints', 'profane', 'heretics', 'fucking', 'tarnishing', 'fornicated', 'mar', 'shitting', 'slut', 'obscene', 'barf', 'rotten', 'disgusted', 'cunts', 'waste', 'parasitically', 'sinfully', 'wastes', 'vomit', 'pathogen', 'rats', 'pathogenic', 'indecent', 'infect', 'leper', 'indecently', 'shit', 'abhors', 'skank', 'infestation', 'deflowered', 'leprosy', 'diseases', 'heretical', 'dirt', 'cursing', 'tarnishment', 'disease', 'prostitution', 'infested', 'apostate', 'sluts', 'fuckers', 'profanity', 'addiction', 'contaminated', 'scuzzy', 'infectiousness', 'indecency', 'vomited', 'germ', 'prostituting', 'excreted', 'rubbish', 'fucked', 'sodomy', 'untouchables', 'epidemics', 'swear', 'shits', 'whorehouses', 'pigsty', 'germs', 'prostituted', 'mud', 'dung', 'epidemic', 'rat', 'douchebag', 'perversely', 'pukes', 'puking', 'prostitutes', 'barfs', 'slutting', 'trashing', 'whored', 'douchebags', 'infection', 'shite', 'spoil', 'gross', 'repulsed', 'pus', 'festering', 'cockroaches', 'tainted', 'contagion', 'barfed', 'infects', 'damned', 'addictions', 'shitty', 'skanking', 'trash', 'whorehouse', 'phlegm', 'moldy', 'plaguing', 'shat', 'drugged', 'garbage', 'infecting', 'pandemics', 'viruses', 'nauseated', 'cockroach', 'puked', 'drugging', 'manure', 'mucking', 'lewd', 'alcoholics', 'gangrenous', 'barfing', 'gangrene', 'shitter', 'shittier', 'tarnished', 'cock', 'vomits', 'hookers', 'damn', 'addict', 'alcoholic', 'nausea', 'swearing', 'vomiting', 'skanked', 'infections', 'foul', 'prostitute', 'risque', 'lice', 'gonorrhea', 'wasting', 'profanities', 'divorces', 'crappy', 'spreading', 'wasters', 'addicting', 'trashed', 'addicts', 'scabies', 'swore', 'nauseous', 'phlegmatically', 'spoiling', 'nauseatingly', 'drugs', 'virus', 'waster', 'untouchable', 'addicted', 'damning', 'pandemic', 'hooker', 'bm', 'infected', 'festered', 'marred', 'phlegmatic', 'divorce', 'viral', 'contagiously', 'plagued', 'repulsing', 'swears', 'drug', 'spoiled', 'cum', 'divorcing', 'wasted', 'divorced', 'contagious']"
      ],
      "execution_count": null,
      "outputs": []
    },
    {
      "cell_type": "code",
      "metadata": {
        "colab": {
          "base_uri": "https://localhost:8080/",
          "height": 49,
          "referenced_widgets": [
            "0c7e3740a31546e498057ffcb5caefa7",
            "dca5f5c89b5c4d55b955fb718c5d3ee6",
            "4b8b2191717748428bda87fa36efca49",
            "487a82d8fa644b8d928954c30ffd3c3f",
            "4a2c339c0c4a4f8294f45784a1d021a1",
            "8ce7f52e82664f1cb8d740de95f7c436",
            "9f479f4733404be3b2935a571c5d8117",
            "3aaad281f4a143a9a8e8afaa3bab8725"
          ]
        },
        "id": "sPYHzYB1FfkM",
        "outputId": "caf152a7-f199-4572-8869-947225280f9d"
      },
      "source": [
        "ElPaso2.insert(3, \"care\", classification1(ElPaso2, care2, \"care\"), True)\n",
        "ElPaso2.insert(4, \"fairness\", classification1(ElPaso2, fairness2, \"fairness\"), True)\n",
        "ElPaso2.insert(5, \"in_group\", classification1(ElPaso2, in_group2, \"in_group\"), True)\n",
        "ElPaso2.insert(6, \"authority\", classification1(ElPaso2, authority2, \"authority\"), True)\n",
        "ElPaso2.insert(7, \"purity\", classification1(ElPaso2, purity2, \"purity\"), True)"
      ],
      "execution_count": null,
      "outputs": [
        {
          "output_type": "display_data",
          "data": {
            "application/vnd.jupyter.widget-view+json": {
              "model_id": "0c7e3740a31546e498057ffcb5caefa7",
              "version_major": 2,
              "version_minor": 0
            },
            "text/plain": [
              "HBox(children=(FloatProgress(value=0.0, max=41071.0), HTML(value='')))"
            ]
          },
          "metadata": {
            "tags": []
          }
        }
      ]
    },
    {
      "cell_type": "code",
      "metadata": {
        "id": "8ZL6vjTnFgRn"
      },
      "source": [
        "ElPaso2.to_csv(\"El_Paso_model2.csv\") \n",
        "!cp El_Paso_model2.csv \"/content/drive/MyDrive/DHML/Final Project\""
      ],
      "execution_count": null,
      "outputs": []
    },
    {
      "cell_type": "code",
      "metadata": {
        "id": "70qiGkLjFkuO"
      },
      "source": [
        "Vegas2.insert(3, \"care\", classification1(Vegas2, care2, \"care\"), True)\n",
        "Vegas2.insert(4, \"fairness\", classification1(Vegas2, fairness2, \"fairness\"), True)\n",
        "Vegas2.insert(5, \"in_group\", classification1(Vegas2, in_group2, \"in_group\"), True)\n",
        "Vegas2.insert(6, \"authority\", classification1(Vegas2, authority2, \"authority\"), True)\n",
        "Vegas2.insert(7, \"purity\", classification1(Vegas2, purity2, \"purity\"), True)"
      ],
      "execution_count": null,
      "outputs": []
    },
    {
      "cell_type": "code",
      "metadata": {
        "id": "riANjShfFzLl"
      },
      "source": [
        "Vegas2.to_csv(\"Vegas_model2.csv\") \n",
        "!cp Vegas2_model2.csv \"/content/drive/MyDrive/DHML/Final Project\""
      ],
      "execution_count": null,
      "outputs": []
    },
    {
      "cell_type": "markdown",
      "metadata": {
        "id": "dyHSB4LQ4GAQ"
      },
      "source": [
        "#Model 3 -- Word2Vec + KNN"
      ]
    },
    {
      "cell_type": "code",
      "metadata": {
        "id": "kPqqvaL0AxCM"
      },
      "source": [
        "ElPaso3 = pd.read_csv(\"/content/drive/MyDrive/DHML/Final Project/El_Paso_Final.csv\")\n",
        "Vegas3 = pd.read_csv(\"/content/drive/MyDrive/DHML/Final Project/Vegas_Final.csv\")"
      ],
      "execution_count": null,
      "outputs": []
    },
    {
      "cell_type": "code",
      "metadata": {
        "id": "CFfPBgxrIGoj"
      },
      "source": [
        "def knn_model(feature, label, x_value):\n",
        "  x = feature.to_numpy()\n",
        "  #print(x)\n",
        "  y = label.to_numpy()\n",
        "  #print(y)\n",
        "  X_train, X_test, Y_train, Y_test = train_test_split(x, y,\n",
        "        test_size=0.20, random_state = 25)\n",
        "  accuracy_list = []\n",
        "  y_predict_list = []\n",
        "  for nn_neighbors in range(30):\n",
        "    if nn_neighbors == 0:\n",
        "      continue\n",
        "    knn = KNeighborsClassifier(n_neighbors=nn_neighbors)\n",
        "    knn.fit(X_train, Y_train)\n",
        "    Y_pred = knn.predict(X_test)\n",
        "    accuracy = accuracy_score(Y_test, Y_pred)\n",
        "    #Y_difference = abs(Y_test - Y_pred)\n",
        "    #accuracy = float(len(Y_difference[Y_difference == 0])) / len(Y_difference)\n",
        "    print(\"Accuracy (%) for kNN with \", nn_neighbors, \" nearest neighbors is: \", round(accuracy * 100,2))\n",
        "    accuracy_list.append(accuracy)\n",
        "    y_predict_data = knn.predict(x_value)\n",
        "    print(y_predict_data)\n",
        "    #y_predict_list.append(y_predict_data)\n",
        "  #max_index = accuracy_list.index(max(accuracy_list))\n",
        "  #print(\"num of k: \"+ str(max_index+1)) \n",
        "  #print(\"accuracy: \"+ str(max(accuracy_list)))\n",
        "  #return y_predict_list[29]"
      ],
      "execution_count": null,
      "outputs": []
    },
    {
      "cell_type": "markdown",
      "metadata": {
        "id": "GQwe5I9hmphS"
      },
      "source": [
        "Since the original knn model takes a very long time, I write one for each of the categories"
      ]
    },
    {
      "cell_type": "code",
      "metadata": {
        "id": "g5xz96mviF1j"
      },
      "source": [
        "def knn_model_care(feature, label, x_value):\n",
        "  x = feature.to_numpy()\n",
        "  #print(x)\n",
        "  y = label.to_numpy()\n",
        "  #print(y)\n",
        "  X_train, X_test, Y_train, Y_test = train_test_split(x, y,\n",
        "        test_size=0.20, random_state = 25)\n",
        "  for nn_neighbors in range(30):\n",
        "    if nn_neighbors == 0:\n",
        "      continue\n",
        "    knn = KNeighborsClassifier(n_neighbors=nn_neighbors)\n",
        "    knn.fit(X_train, Y_train)\n",
        "    Y_pred = knn.predict(X_test)\n",
        "    accuracy = accuracy_score(Y_test, Y_pred)\n",
        "    if nn_neighbors == 28:\n",
        "      y_predict_data = knn.predict(x_value)\n",
        "      print(accuracy)\n",
        "      return y_predict_data"
      ],
      "execution_count": null,
      "outputs": []
    },
    {
      "cell_type": "code",
      "metadata": {
        "id": "MLyyWl3piwb6"
      },
      "source": [
        "def knn_model_fairness(feature, label, x_value):\n",
        "  x = feature.to_numpy()\n",
        "  #print(x)\n",
        "  y = label.to_numpy()\n",
        "  #print(y)\n",
        "  X_train, X_test, Y_train, Y_test = train_test_split(x, y,\n",
        "        test_size=0.20, random_state = 25)\n",
        "  for nn_neighbors in range(30):\n",
        "    if nn_neighbors == 0:\n",
        "      continue\n",
        "    knn = KNeighborsClassifier(n_neighbors=nn_neighbors)\n",
        "    knn.fit(X_train, Y_train)\n",
        "    Y_pred = knn.predict(X_test)\n",
        "    accuracy = accuracy_score(Y_test, Y_pred)\n",
        "    if nn_neighbors == 7:\n",
        "      y_predict_data = knn.predict(x_value)\n",
        "      print(accuracy)\n",
        "      return y_predict_data"
      ],
      "execution_count": null,
      "outputs": []
    },
    {
      "cell_type": "code",
      "metadata": {
        "id": "xpy9oTiii1zA"
      },
      "source": [
        "def knn_model_loyalty(feature, label, x_value):\n",
        "  x = feature.to_numpy()\n",
        "  #print(x)\n",
        "  y = label.to_numpy()\n",
        "  #print(y)\n",
        "  X_train, X_test, Y_train, Y_test = train_test_split(x, y,\n",
        "        test_size=0.20, random_state = 25)\n",
        "  for nn_neighbors in range(30):\n",
        "    if nn_neighbors == 0:\n",
        "      continue\n",
        "    knn = KNeighborsClassifier(n_neighbors=nn_neighbors)\n",
        "    knn.fit(X_train, Y_train)\n",
        "    Y_pred = knn.predict(X_test)\n",
        "    accuracy = accuracy_score(Y_test, Y_pred)\n",
        "    if nn_neighbors == 10:\n",
        "      y_predict_data = knn.predict(x_value)\n",
        "      print(accuracy)\n",
        "      return y_predict_data"
      ],
      "execution_count": null,
      "outputs": []
    },
    {
      "cell_type": "code",
      "metadata": {
        "id": "fZxdnHtXi-qr"
      },
      "source": [
        "def knn_model_authority(feature, label, x_value):\n",
        "  x = feature.to_numpy()\n",
        "  #print(x)\n",
        "  y = label.to_numpy()\n",
        "  #print(y)\n",
        "  X_train, X_test, Y_train, Y_test = train_test_split(x, y,\n",
        "        test_size=0.20, random_state = 25)\n",
        "  for nn_neighbors in range(30):\n",
        "    if nn_neighbors == 0:\n",
        "      continue\n",
        "    knn = KNeighborsClassifier(n_neighbors=nn_neighbors)\n",
        "    knn.fit(X_train, Y_train)\n",
        "    Y_pred = knn.predict(X_test)\n",
        "    accuracy = accuracy_score(Y_test, Y_pred)\n",
        "    if nn_neighbors == 7:\n",
        "      y_predict_data = knn.predict(x_value)\n",
        "      print(accuracy)\n",
        "      return y_predict_data"
      ],
      "execution_count": null,
      "outputs": []
    },
    {
      "cell_type": "code",
      "metadata": {
        "id": "eeBYb_p2jGF0"
      },
      "source": [
        "def knn_model_purity(feature, label, x_value):\n",
        "  x = feature.to_numpy()\n",
        "  #print(x)\n",
        "  y = label.to_numpy()\n",
        "  #print(y)\n",
        "  X_train, X_test, Y_train, Y_test = train_test_split(x, y,\n",
        "        test_size=0.20, random_state = 25)\n",
        "  for nn_neighbors in range(30):\n",
        "    if nn_neighbors == 0:\n",
        "      continue\n",
        "    knn = KNeighborsClassifier(n_neighbors=nn_neighbors)\n",
        "    knn.fit(X_train, Y_train)\n",
        "    Y_pred = knn.predict(X_test)\n",
        "    accuracy = accuracy_score(Y_test, Y_pred)\n",
        "    if nn_neighbors == 16:\n",
        "      y_predict_data = knn.predict(x_value)\n",
        "      print(accuracy)\n",
        "      return y_predict_data"
      ],
      "execution_count": null,
      "outputs": []
    },
    {
      "cell_type": "code",
      "metadata": {
        "id": "vPDmu76XXj2j"
      },
      "source": [
        "ElPaso3.insert(3, \"care\", knn_model_care(feature_care, label_care, ElPaso_care), True)\n",
        "ElPaso3.insert(4, \"fairness\", knn_model_fairness(feature_fairness, label_fairness, ElPaso_fairness), True)\n",
        "ElPaso3.insert(5, \"in_group\", knn_model_loyalty(feature_loyalty, label_loyalty, ElPaso_loyalty), True)\n",
        "ElPaso3.insert(6, \"authority\", knn_model_authority(feature_authority, label_authority, ElPaso_authority), True)\n",
        "ElPaso3.insert(7, \"purity\", knn_model_purity(feature_purity, label_purity, ElPaso_purity), True)"
      ],
      "execution_count": null,
      "outputs": []
    },
    {
      "cell_type": "code",
      "metadata": {
        "id": "zEpLVHB3cLXS"
      },
      "source": [
        "ElPaso3.to_csv(\"El_Paso_model_knn.csv\") \n",
        "!cp El_Paso_model_knn.csv \"/content/drive/MyDrive/DHML/Final Project\""
      ],
      "execution_count": null,
      "outputs": []
    },
    {
      "cell_type": "code",
      "metadata": {
        "id": "PO3kSdVzcUGl"
      },
      "source": [
        "Vegas3.insert(3, \"care\", knn_model_care(feature_care, label_care, Vegas_care), True)\n",
        "Vegas3.insert(4, \"fairness\", knn_model_fairness(feature_fairness, label_fairness, Vegas_fairness), True)\n",
        "Vegas3.insert(5, \"in_group\", knn_model_loyalty(feature_loyalty, label_loyalty, Vegas_loyalty), True)\n",
        "Vegas3.insert(6, \"authority\", knn_model_authority(feature_authority, label_authority, Vegas_authority), True)\n",
        "Vegas3.insert(7, \"purity\", knn_model_purity(feature_purity, label_purity, Vegas_purity), True)"
      ],
      "execution_count": null,
      "outputs": []
    },
    {
      "cell_type": "code",
      "metadata": {
        "id": "G6DGtby-crbm"
      },
      "source": [
        "Vegas3.to_csv(\"Vegas_model_knn.csv\") \n",
        "!cp Vegas_model_knn.csv \"/content/drive/MyDrive/DHML/Final Project\""
      ],
      "execution_count": null,
      "outputs": []
    },
    {
      "cell_type": "markdown",
      "metadata": {
        "id": "kjCi3HR1rKGl"
      },
      "source": [
        "#Discussion"
      ]
    },
    {
      "cell_type": "markdown",
      "metadata": {
        "id": "0OMfvoqDrDSX"
      },
      "source": [
        "Some processing before the discussion"
      ]
    },
    {
      "cell_type": "code",
      "metadata": {
        "id": "C_VQ7Vqh-ojt"
      },
      "source": [
        "ElPaso_data = pd.read_csv(\"/content/drive/MyDrive/DHML/Final Project/El_Paso_model_svm.csv\") #choose the model with the best accuracy\n",
        "Vegas_data = pd.read_csv(\"/content/drive/MyDrive/DHML/Final Project/Vegas_model_svm.csv\")"
      ],
      "execution_count": null,
      "outputs": []
    },
    {
      "cell_type": "code",
      "metadata": {
        "id": "rf-rAmmnAhIQ"
      },
      "source": [
        "ElPaso_data = ElPaso_data.drop([\"Unnamed: 0\", \"Unnamed: 0.1\"], axis = 1)"
      ],
      "execution_count": null,
      "outputs": []
    },
    {
      "cell_type": "code",
      "metadata": {
        "id": "1RMRHS0JAj__"
      },
      "source": [
        "Vegas_data = Vegas_data.drop([\"Unnamed: 0\", \"Unnamed: 0.1\"], axis = 1)"
      ],
      "execution_count": null,
      "outputs": []
    },
    {
      "cell_type": "markdown",
      "metadata": {
        "id": "2JPYtLe4IWWb"
      },
      "source": [
        "\n",
        "Split the data by time after the attack: 18h"
      ]
    },
    {
      "cell_type": "markdown",
      "metadata": {
        "id": "v22TeS7DlzF8"
      },
      "source": [
        "El Paso attack happens in 2019.08.03, 6:09 UTC - 6:15 UTC"
      ]
    },
    {
      "cell_type": "markdown",
      "metadata": {
        "id": "bQN5wx66yZ_x"
      },
      "source": [
        "Vegas attack happens in 2017.10.1 5:05 am UTC"
      ]
    },
    {
      "cell_type": "code",
      "metadata": {
        "id": "1CX33kkyHMVi"
      },
      "source": [
        "def time_split(data, time1, time2, before, after):\n",
        "  for index, row in tqdm(enumerate(data.values)):\n",
        "    date = data[\"created_at\"][index]\n",
        "    #if date < time1:\n",
        "      #data = data.drop([index])\n",
        "    if index in data[\"created_at\"]:\n",
        "      if  str(date) < time2:\n",
        "        before.append(row)\n",
        "      else:\n",
        "        after.append(row)\n",
        "  before = pd.DataFrame(before, columns=[\"created_at\", \"text\", \"care\", \"fairness\", \"in_group\", \"purity\", \"authority\"])\n",
        "  after = pd.DataFrame(after, columns=[\"created_at\", \"text\", \"care\", \"fairness\", \"in_group\", \"purity\", \"authority\"])\n",
        "  return before, after"
      ],
      "execution_count": null,
      "outputs": []
    },
    {
      "cell_type": "code",
      "metadata": {
        "id": "beN0X3wmzAOU",
        "colab": {
          "base_uri": "https://localhost:8080/",
          "height": 66,
          "referenced_widgets": [
            "070d43fb5fa8444fbf7dcafc2d1b7656",
            "f75501b9fa98488e9b402593a302c900",
            "6d2fb83480fc43f09970f7a80b60d457",
            "627866b26d274309b1dfa5946d199baa",
            "4f06c7fcc34e4fea853e6dd8cbd5f17e",
            "f17929a793e14574bd7ad5a22c626499",
            "b53890e7455b43bd82dd8b181c85082a",
            "889506f6687542c1897dcd43d8a66f44"
          ]
        },
        "outputId": "be3ec0b7-5ae5-4134-f378-d938245486e4"
      },
      "source": [
        "before18h_elpaso = []\n",
        "after18h_elpaso = []\n",
        "\n",
        "before18h_elpaso, after18h_elpaso = time_split(ElPaso_data, \"2019-08-03T06:09:00\", \"2019-08-04T00:09:00\", before18h_elpaso, after18h_elpaso)"
      ],
      "execution_count": null,
      "outputs": [
        {
          "output_type": "display_data",
          "data": {
            "application/vnd.jupyter.widget-view+json": {
              "model_id": "070d43fb5fa8444fbf7dcafc2d1b7656",
              "version_minor": 0,
              "version_major": 2
            },
            "text/plain": [
              "HBox(children=(FloatProgress(value=1.0, bar_style='info', max=1.0), HTML(value='')))"
            ]
          },
          "metadata": {
            "tags": []
          }
        },
        {
          "output_type": "stream",
          "text": [
            "\n"
          ],
          "name": "stdout"
        }
      ]
    },
    {
      "cell_type": "code",
      "metadata": {
        "id": "PzXERdPvzhyp",
        "colab": {
          "base_uri": "https://localhost:8080/",
          "height": 66,
          "referenced_widgets": [
            "8c5eaf1995d34721adc9c1839880e40f",
            "80c1bdca86da476888b4405e4ad61c69",
            "42258d5989f34c3cbc297ab499252ba2",
            "afd2f0226e12486fae710ee4bde35a0b",
            "53f958211ce64cbeb7f3e3dac9390939",
            "2d5ee4fb011e466794f415ddafeaf8cc",
            "9395f18fa65a4c7288e63dbffceff3d2",
            "221704dbf55144e88bab993ececc2a7d"
          ]
        },
        "outputId": "ee1d111c-f07b-46ba-eaaf-6c673191b336"
      },
      "source": [
        "before18h_vegas = []\n",
        "after18h_vegas = []\n",
        "\n",
        "before18h_vegas, after18h_vegas = time_split(Vegas_data, \"2017-10-02T05:05:00\", \"2017-10-02T23:05:00\", before18h_vegas, after18h_vegas)"
      ],
      "execution_count": null,
      "outputs": [
        {
          "output_type": "display_data",
          "data": {
            "application/vnd.jupyter.widget-view+json": {
              "model_id": "8c5eaf1995d34721adc9c1839880e40f",
              "version_minor": 0,
              "version_major": 2
            },
            "text/plain": [
              "HBox(children=(FloatProgress(value=1.0, bar_style='info', max=1.0), HTML(value='')))"
            ]
          },
          "metadata": {
            "tags": []
          }
        },
        {
          "output_type": "stream",
          "text": [
            "\n"
          ],
          "name": "stdout"
        }
      ]
    },
    {
      "cell_type": "markdown",
      "metadata": {
        "id": "r_mTTzhF-yAk"
      },
      "source": [
        "Analyze "
      ]
    },
    {
      "cell_type": "code",
      "metadata": {
        "id": "lUnkjHXF-NSY"
      },
      "source": [
        "def count (data, category):\n",
        "  count = 0\n",
        "  for num in data[category]:\n",
        "    try:\n",
        "      count += int(num)\n",
        "    except:\n",
        "      continue\n",
        "  \n",
        "  return count"
      ],
      "execution_count": null,
      "outputs": []
    },
    {
      "cell_type": "markdown",
      "metadata": {
        "id": "ztqlzgLVD_LB"
      },
      "source": [
        "El Paso"
      ]
    },
    {
      "cell_type": "code",
      "metadata": {
        "id": "Wcy126liBuYM"
      },
      "source": [
        "num_before18h_elpaso = len(before18h_elpaso)\n",
        "num_after18h_elpaso = len(after18h_elpaso)"
      ],
      "execution_count": null,
      "outputs": []
    },
    {
      "cell_type": "code",
      "metadata": {
        "id": "nCLZ9nJZAPx4",
        "colab": {
          "base_uri": "https://localhost:8080/"
        },
        "outputId": "73346248-26fe-4d45-eae1-b0d0856d292a"
      },
      "source": [
        "print(count(before18h_elpaso, \"care\")/num_before18h_elpaso)\n",
        "print(count(after18h_elpaso, \"care\")/num_after18h_elpaso )"
      ],
      "execution_count": null,
      "outputs": [
        {
          "output_type": "stream",
          "text": [
            "0.38365462937822425\n",
            "0.4999558615819209\n"
          ],
          "name": "stdout"
        }
      ]
    },
    {
      "cell_type": "code",
      "metadata": {
        "id": "AabaoZB1BGcQ",
        "colab": {
          "base_uri": "https://localhost:8080/"
        },
        "outputId": "2511d765-6e8c-4d65-8bfd-fff1679a20be"
      },
      "source": [
        "print(count(before18h_elpaso, \"fairness\")/num_before18h_elpaso)\n",
        "print(count(after18h_elpaso, \"fairness\")/num_after18h_elpaso )"
      ],
      "execution_count": null,
      "outputs": [
        {
          "output_type": "stream",
          "text": [
            "0.1849579147434157\n",
            "0.2597987288135593\n"
          ],
          "name": "stdout"
        }
      ]
    },
    {
      "cell_type": "code",
      "metadata": {
        "id": "yEBmdddwDIFr",
        "colab": {
          "base_uri": "https://localhost:8080/"
        },
        "outputId": "fe219d9c-cdb9-4466-f9d5-7d527e331592"
      },
      "source": [
        "print(count(before18h_elpaso, \"in_group\")/num_before18h_elpaso)\n",
        "print(count(after18h_elpaso, \"in_group\")/num_after18h_elpaso )"
      ],
      "execution_count": null,
      "outputs": [
        {
          "output_type": "stream",
          "text": [
            "0.04887320119467825\n",
            "0.08421610169491525\n"
          ],
          "name": "stdout"
        }
      ]
    },
    {
      "cell_type": "code",
      "metadata": {
        "id": "jLkmzcXuDISS",
        "colab": {
          "base_uri": "https://localhost:8080/"
        },
        "outputId": "4e7909d1-5262-4a43-fb10-5698ede79632"
      },
      "source": [
        "print(count(before18h_elpaso, \"purity\")/num_before18h_elpaso)\n",
        "print(count(after18h_elpaso, \"purity\")/num_after18h_elpaso )"
      ],
      "execution_count": null,
      "outputs": [
        {
          "output_type": "stream",
          "text": [
            "0.1029052402932392\n",
            "0.06077860169491525\n"
          ],
          "name": "stdout"
        }
      ]
    },
    {
      "cell_type": "code",
      "metadata": {
        "id": "GvaNoDPoDIco",
        "colab": {
          "base_uri": "https://localhost:8080/"
        },
        "outputId": "bb8082f5-701d-4900-bb3b-eaacf34c78de"
      },
      "source": [
        "print(count(before18h_elpaso, \"authority\")/num_before18h_elpaso)\n",
        "print(count(after18h_elpaso, \"authority\")/num_after18h_elpaso )"
      ],
      "execution_count": null,
      "outputs": [
        {
          "output_type": "stream",
          "text": [
            "0.24349714906326364\n",
            "0.3095868644067797\n"
          ],
          "name": "stdout"
        }
      ]
    },
    {
      "cell_type": "markdown",
      "metadata": {
        "id": "hbNLBDqCECg1"
      },
      "source": [
        "Vegas"
      ]
    },
    {
      "cell_type": "code",
      "metadata": {
        "id": "mX3fjwRLEHfw"
      },
      "source": [
        "num_before18h_vegas = len(before18h_vegas)\n",
        "num_after18h_vegas = len(after18h_vegas)"
      ],
      "execution_count": null,
      "outputs": []
    },
    {
      "cell_type": "code",
      "metadata": {
        "id": "YO3JDVLVDItO",
        "colab": {
          "base_uri": "https://localhost:8080/"
        },
        "outputId": "bd2d7256-5fe0-4642-b37d-793b27916bb8"
      },
      "source": [
        "print(count(before18h_vegas, \"care\")/num_before18h_vegas)\n",
        "print(count(after18h_vegas, \"care\")/num_after18h_vegas)"
      ],
      "execution_count": null,
      "outputs": [
        {
          "output_type": "stream",
          "text": [
            "0.5284414106939704\n",
            "0.4220899962811454\n"
          ],
          "name": "stdout"
        }
      ]
    },
    {
      "cell_type": "code",
      "metadata": {
        "id": "0V56V9M4EXtG",
        "colab": {
          "base_uri": "https://localhost:8080/"
        },
        "outputId": "fd9b8a10-a209-4f27-f18a-00ee18ecd322"
      },
      "source": [
        "print(count(before18h_vegas, \"fairness\")/num_before18h_vegas)\n",
        "print(count(after18h_vegas, \"fairness\")/num_after18h_vegas)"
      ],
      "execution_count": null,
      "outputs": [
        {
          "output_type": "stream",
          "text": [
            "0.1541524459613197\n",
            "0.13536630717738937\n"
          ],
          "name": "stdout"
        }
      ]
    },
    {
      "cell_type": "code",
      "metadata": {
        "id": "La5dC8h0Ey5A",
        "colab": {
          "base_uri": "https://localhost:8080/"
        },
        "outputId": "aecf75e2-319f-4876-e5c8-396ff5befcc3"
      },
      "source": [
        "print(count(before18h_vegas, \"in_group\")/num_before18h_vegas)\n",
        "print(count(after18h_vegas, \"in_group\")/num_after18h_vegas)"
      ],
      "execution_count": null,
      "outputs": [
        {
          "output_type": "stream",
          "text": [
            "0.06228668941979522\n",
            "0.03495723317218297\n"
          ],
          "name": "stdout"
        }
      ]
    },
    {
      "cell_type": "code",
      "metadata": {
        "id": "ms-v6qxHEzJv",
        "colab": {
          "base_uri": "https://localhost:8080/"
        },
        "outputId": "7ac3985e-3ea2-45b1-f77d-9c9db6cbae73"
      },
      "source": [
        "print(count(before18h_vegas, \"purity\")/num_before18h_vegas)\n",
        "print(count(after18h_vegas, \"purity\")/num_after18h_vegas)"
      ],
      "execution_count": null,
      "outputs": [
        {
          "output_type": "stream",
          "text": [
            "0.04436860068259386\n",
            "0.03495723317218297\n"
          ],
          "name": "stdout"
        }
      ]
    },
    {
      "cell_type": "code",
      "metadata": {
        "id": "q93dMu4sEzcw",
        "colab": {
          "base_uri": "https://localhost:8080/"
        },
        "outputId": "47e31c9f-16a8-4d16-dda7-0c61c65d9038"
      },
      "source": [
        "print(count(before18h_vegas, \"authority\")/num_before18h_vegas)\n",
        "print(count(after18h_vegas, \"authority\")/num_after18h_vegas)"
      ],
      "execution_count": null,
      "outputs": [
        {
          "output_type": "stream",
          "text": [
            "0.19823663253697382\n",
            "0.12867236891037562\n"
          ],
          "name": "stdout"
        }
      ]
    },
    {
      "cell_type": "code",
      "metadata": {
        "id": "fQl8SIUSEzyi"
      },
      "source": [],
      "execution_count": null,
      "outputs": []
    }
  ]
}